{
  "nbformat": 4,
  "nbformat_minor": 0,
  "metadata": {
    "colab": {
      "name": "LabExamPreparation02.ipynb",
      "provenance": [],
      "collapsed_sections": []
    },
    "kernelspec": {
      "name": "python3",
      "display_name": "Python 3"
    }
  },
  "cells": [
    {
      "cell_type": "code",
      "metadata": {
        "id": "V-8NogeGxFSn",
        "colab_type": "code",
        "colab": {}
      },
      "source": [
        "from itertools import product\n",
        "from collections import Counter\n",
        "import numpy as np"
      ],
      "execution_count": 0,
      "outputs": []
    },
    {
      "cell_type": "markdown",
      "metadata": {
        "id": "QDGIKDmuxG1Q",
        "colab_type": "text"
      },
      "source": [
        "#Implement MotifEnumeration"
      ]
    },
    {
      "cell_type": "code",
      "metadata": {
        "id": "4FwZvOfpghE3",
        "colab_type": "code",
        "colab": {}
      },
      "source": [
        "def hamming_distance(s1, s2):\n",
        "  return sum(1 for idx, ch in enumerate(s1) if ch != s2[idx])"
      ],
      "execution_count": 0,
      "outputs": []
    },
    {
      "cell_type": "code",
      "metadata": {
        "id": "ImQ8M47Nw0Fd",
        "colab_type": "code",
        "colab": {}
      },
      "source": [
        "def substr_match_with_mismatch(text, pattern, k, d):\n",
        "  n = len(text)\n",
        "  for idx in range(n-k+1):\n",
        "    if hamming_distance(text[idx:idx+k], pattern) <= d:\n",
        "      return True\n",
        "  return False"
      ],
      "execution_count": 0,
      "outputs": []
    },
    {
      "cell_type": "code",
      "metadata": {
        "id": "gvKosP7XxEk9",
        "colab_type": "code",
        "colab": {}
      },
      "source": [
        "def k_d_motif_finder(k,d, Dna):\n",
        "  k_mers = [''.join(item) for item in product('ACGT', repeat=k)]\n",
        "  ans = []\n",
        "  for k_mer in k_mers:\n",
        "    if all(substr_match_with_mismatch(s, k_mer, k,d) for s in Dna):\n",
        "      ans.append(k_mer)\n",
        "  return ans"
      ],
      "execution_count": 0,
      "outputs": []
    },
    {
      "cell_type": "markdown",
      "metadata": {
        "id": "zSjGI4Jm9HPW",
        "colab_type": "text"
      },
      "source": [
        "#Find a Median String"
      ]
    },
    {
      "cell_type": "code",
      "metadata": {
        "id": "Gim4U54u9t1O",
        "colab_type": "code",
        "colab": {}
      },
      "source": [
        "def get_score(k, Dna, k_mer):\n",
        "  n = len(Dna[0])\n",
        "  score = 0\n",
        "  for s in Dna:\n",
        "    score += min([hamming_distance(s[idx:idx+k], k_mer) for idx in range(n-k+1)])\n",
        "  return score"
      ],
      "execution_count": 0,
      "outputs": []
    },
    {
      "cell_type": "code",
      "metadata": {
        "id": "zUeDGvR-9uB7",
        "colab_type": "code",
        "colab": {}
      },
      "source": [
        "def median_string(k, Dna):\n",
        "  k_mers = [''.join(item) for item in product('ACGT', repeat = k)]\n",
        "  scores = [(k_mer,get_score(k,Dna,k_mer)) for k_mer in k_mers]\n",
        "  return min(scores, key = lambda x: x[1])[0]"
      ],
      "execution_count": 0,
      "outputs": []
    },
    {
      "cell_type": "code",
      "metadata": {
        "id": "MfFpQ4Hf17ok",
        "colab_type": "code",
        "outputId": "e93466de-a8d4-4641-8df0-f1b7d1a4308f",
        "colab": {
          "base_uri": "https://localhost:8080/",
          "height": 34
        }
      },
      "source": [
        "print(median_string(3,['AAATTGACGCAT','GACGACCACGTT','CGTCAGCGCCTG','GCTGAGCACCGG','AGTACGGGACAG']))"
      ],
      "execution_count": 0,
      "outputs": [
        {
          "output_type": "stream",
          "text": [
            "ACG\n"
          ],
          "name": "stdout"
        }
      ]
    },
    {
      "cell_type": "markdown",
      "metadata": {
        "id": "JYDdvPfPCvV8",
        "colab_type": "text"
      },
      "source": [
        "#Find a Profile-most Probable k-mer in a String"
      ]
    },
    {
      "cell_type": "code",
      "metadata": {
        "id": "rQ0cXL7CD5UJ",
        "colab_type": "code",
        "colab": {}
      },
      "source": [
        "def score_for_profile(text, k, profile):\n",
        "  mp = {'A':0, 'C':1, 'G':2, 'T':3}\n",
        "  score = 1\n",
        "  for idx,ch in enumerate(text):\n",
        "    score *= profile[mp[ch]][idx]\n",
        "  return score"
      ],
      "execution_count": 0,
      "outputs": []
    },
    {
      "cell_type": "code",
      "metadata": {
        "id": "6Tk_aQdjD5v9",
        "colab_type": "code",
        "colab": {}
      },
      "source": [
        "def profile_most_k_mer(text, k, profile):\n",
        "  n = len(text)\n",
        "  k_mer_score_pair = [(text[idx:idx+k], score_for_profile(text[idx:idx+k],k,profile)) for idx in range(n-k+1)]\n",
        "  return max(k_mer_score_pair, key = lambda x: x[1])[0]"
      ],
      "execution_count": 0,
      "outputs": []
    },
    {
      "cell_type": "code",
      "metadata": {
        "id": "j9jU5Z8bF6Ty",
        "colab_type": "code",
        "colab": {}
      },
      "source": [
        "with open('rosalind_ba2c.txt','r') as file:\n",
        "  data = file.read().splitlines()\n",
        "  text = data[0]\n",
        "  k = int(data[1])\n",
        "  profile = []\n",
        "  for line in data[2::]:\n",
        "    profile.append([float(x) for x in line.split()])\n",
        "  print(profile_most_k_mer(text, k, profile))"
      ],
      "execution_count": 0,
      "outputs": []
    },
    {
      "cell_type": "markdown",
      "metadata": {
        "id": "OYJ7riLXNs8s",
        "colab_type": "text"
      },
      "source": [
        "# Implement GreedyMotifSearch"
      ]
    },
    {
      "cell_type": "code",
      "metadata": {
        "id": "mCn53M8KN9OC",
        "colab_type": "code",
        "colab": {}
      },
      "source": [
        "def motif_set_score(k,t,motif_set):\n",
        "  score = 0\n",
        "  for col in range(k):\n",
        "    cnt = Counter([motif_set[row][col] for row in range(t)])\n",
        "    score += t - max(cnt.values())\n",
        "  return score"
      ],
      "execution_count": 0,
      "outputs": []
    },
    {
      "cell_type": "code",
      "metadata": {
        "id": "CoZPkYcvN9X8",
        "colab_type": "code",
        "colab": {}
      },
      "source": [
        "def build_profile_matrix(k,t,motif_set):\n",
        "  mp = {'A':0,'C':1,'G':2,'T':3}\n",
        "  matrix = np.zeros((4,k))\n",
        "  for s in motif_set:\n",
        "    for idx,ch in enumerate(s):\n",
        "      matrix[mp[ch]][idx] += 1\n",
        "  matrix += 1.0\n",
        "  matrix /= (t+4)\n",
        "  return matrix.tolist()"
      ],
      "execution_count": 0,
      "outputs": []
    },
    {
      "cell_type": "code",
      "metadata": {
        "id": "6l_P8ptPN9jS",
        "colab_type": "code",
        "colab": {}
      },
      "source": [
        "def greedy_motif_search(k,t,Dna):\n",
        "  best_motif_set = [s[0:k] for s in Dna]\n",
        "  n = len(Dna[0])\n",
        "  for idx in range(n-k+1):\n",
        "    k_mer = Dna[0][idx:idx+k]\n",
        "    motif_set = [k_mer]\n",
        "    for i in range(1,t):\n",
        "      profile_matrix = build_profile_matrix(k,t,motif_set)\n",
        "      motif_set.append(profile_most_k_mer(Dna[i], k, profile_matrix))\n",
        "    if motif_set_score(k,t,motif_set) < motif_set_score(k,t, best_motif_set):\n",
        "      best_motif_set = motif_set.copy()\n",
        "  return best_motif_set"
      ],
      "execution_count": 0,
      "outputs": []
    },
    {
      "cell_type": "code",
      "metadata": {
        "id": "NQi6pcT4Pp7i",
        "colab_type": "code",
        "colab": {}
      },
      "source": [
        "with open('rosalind_ba2d.txt','r') as file:\n",
        "  data = file.read().splitlines()\n",
        "  k,t = map(int, data[0].split())\n",
        "  Dna = data[1:]\n",
        "  ans = greedy_motif_search(k,t,Dna)\n",
        "  for s in ans:\n",
        "    print(s)"
      ],
      "execution_count": 0,
      "outputs": []
    },
    {
      "cell_type": "markdown",
      "metadata": {
        "id": "9UA-0I1Ocd-U",
        "colab_type": "text"
      },
      "source": [
        "# Implement RandomizedMotifSearch"
      ]
    },
    {
      "cell_type": "code",
      "metadata": {
        "id": "gD50fIaBqasb",
        "colab_type": "code",
        "colab": {}
      },
      "source": [
        "\"\"\"\n",
        "from random import randint\n",
        "from random import seed\n",
        "import numpy as np\n",
        "from collections import Counter\n",
        "\n",
        "\n",
        "def build_profile_matrix(motifs, k, t):\n",
        "    mp = {'A':0,'C':1,'G':2,'T':3}\n",
        "    matrix = np.zeros((4,k))\n",
        "    for s in motifs:\n",
        "        for col, ch in enumerate(s):\n",
        "            matrix[mp[ch]][col] += 1\n",
        "    matrix += 1\n",
        "    matrix /= (t + 4)\n",
        "    return matrix.tolist()\n",
        "\n",
        "def get_probability(k_mer, profile):\n",
        "    mp = {'A':0,'C':1,'G':2,'T':3}\n",
        "    score = 1.0\n",
        "    for idx, ch in enumerate(k_mer):\n",
        "        score *= profile[mp[ch]][idx]\n",
        "    return score\n",
        "\n",
        "def profile_most_k_mer(text, profile, k):\n",
        "    n = len(text)\n",
        "    scores = [(text[idx:idx+k],get_probability(text[idx:idx+k],profile)) for idx in range(n-k+1)]\n",
        "    return max(scores, key = lambda x: x[1])[0]\n",
        "\n",
        "def score_motif_set(motifs, k, t):\n",
        "    score = 0\n",
        "    for idx in range(k):\n",
        "        cnt = Counter([s[idx] for s in motifs])\n",
        "        score += t - max(cnt.values())\n",
        "    return score\n",
        "\n",
        "def random_motif_search(Dna, k, t):\n",
        "    motifs = []\n",
        "    n = len(Dna[0])\n",
        "    for text in Dna:\n",
        "        idx = randint(0,n-k)\n",
        "        motifs.append(text[idx:idx+k])\n",
        "    while True:\n",
        "        profile = build_profile_matrix(motifs, k, t)\n",
        "        new_motifs = [profile_most_k_mer(text, profile, k) for text in Dna]\n",
        "        if score_motif_set(new_motifs,k,t) < score_motif_set(motifs, k, t):\n",
        "            motifs = new_motifs.copy()\n",
        "        else:\n",
        "            return motifs\n",
        "\n",
        "def main():\n",
        "    k, t = map(int, input().split())\n",
        "    Dna = [input() for _ in range(t)]\n",
        "    ans = []\n",
        "    for _ in range(1000):\n",
        "        motifs = random_motif_search(Dna, k, t)\n",
        "        ans.append((motifs, score_motif_set(motifs, k, t)))\n",
        "    motif_set = min(ans, key = lambda x : x[1])[0]\n",
        "    for x in motif_set:\n",
        "        print(x)\n",
        "\n",
        "\n",
        "\n",
        "if __name__=='__main__':\n",
        "    main()\n",
        "\"\"\""
      ],
      "execution_count": 0,
      "outputs": []
    },
    {
      "cell_type": "markdown",
      "metadata": {
        "id": "KGI-bB7SiITz",
        "colab_type": "text"
      },
      "source": [
        "#Implement DistanceBetweenPatternAndStrings"
      ]
    },
    {
      "cell_type": "code",
      "metadata": {
        "id": "YrQWTz_rivCp",
        "colab_type": "code",
        "colab": {}
      },
      "source": [
        ""
      ],
      "execution_count": 0,
      "outputs": []
    },
    {
      "cell_type": "code",
      "metadata": {
        "id": "yDO5uksGivG3",
        "colab_type": "code",
        "colab": {}
      },
      "source": [
        "def min_hamming_distance(text, pattern):\n",
        "  def distance(s1, s2):\n",
        "    return sum(1 for idx, ch in enumerate(s1) if ch != s2[idx])\n",
        "  n , k = len(text), len(pattern)\n",
        "  return min(distance(text[idx:idx+k], pattern) for idx in range(n-k+1))"
      ],
      "execution_count": 0,
      "outputs": []
    },
    {
      "cell_type": "code",
      "metadata": {
        "id": "D_vBa1v8h-Xd",
        "colab_type": "code",
        "colab": {}
      },
      "source": [
        "def distance_between_pattern(pattern, strings):\n",
        "  return sum(min_hamming_distance(text, pattern) for text in strings)\n"
      ],
      "execution_count": 0,
      "outputs": []
    },
    {
      "cell_type": "code",
      "metadata": {
        "id": "SF-aN7Ech_EV",
        "colab_type": "code",
        "outputId": "0f555bd6-aee3-4e87-f8ea-15c207003738",
        "colab": {
          "base_uri": "https://localhost:8080/",
          "height": 34
        }
      },
      "source": [
        "distance_between_pattern('AAA', ['TTACCTTAAC' ,'GATATCTGTC' ,'ACGGCGTTCG','CCCTAAAGAG','CGTCAGAGGT'])"
      ],
      "execution_count": 0,
      "outputs": [
        {
          "output_type": "execute_result",
          "data": {
            "text/plain": [
              "5"
            ]
          },
          "metadata": {
            "tags": []
          },
          "execution_count": 16
        }
      ]
    },
    {
      "cell_type": "code",
      "metadata": {
        "id": "8S7Qi-SFh_TT",
        "colab_type": "code",
        "colab": {}
      },
      "source": [
        ""
      ],
      "execution_count": 0,
      "outputs": []
    }
  ]
}