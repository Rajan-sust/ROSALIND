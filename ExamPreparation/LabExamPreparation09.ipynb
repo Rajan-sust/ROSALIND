{
  "nbformat": 4,
  "nbformat_minor": 0,
  "metadata": {
    "colab": {
      "name": "LabExamPreparation09.ipynb",
      "provenance": [],
      "collapsed_sections": []
    },
    "kernelspec": {
      "name": "python3",
      "display_name": "Python 3"
    }
  },
  "cells": [
    {
      "cell_type": "code",
      "metadata": {
        "id": "z462KNl3WHPs",
        "colab_type": "code",
        "colab": {}
      },
      "source": [
        "import numpy as np\n",
        "from collections import defaultdict"
      ],
      "execution_count": 0,
      "outputs": []
    },
    {
      "cell_type": "markdown",
      "metadata": {
        "id": "KqYiTH85cFCE",
        "colab_type": "text"
      },
      "source": [
        "#Construct a Trie from a Collection of Patterns"
      ]
    },
    {
      "cell_type": "code",
      "metadata": {
        "id": "pZDPoFvXWY0O",
        "colab_type": "code",
        "colab": {}
      },
      "source": [
        "class Trie:\n",
        "  def __init__(self):\n",
        "    self.next = np.full((10000,4),-1,dtype=int)\n",
        "    self.edge = []\n",
        "    self.node_idx = 0\n",
        "  def get_edgelist(self):\n",
        "    return self.edge\n",
        "  def insert(self, word):\n",
        "    mp = {'A':0, 'C':1, 'G':2, 'T':3}\n",
        "    root = 0\n",
        "    for ch in word:\n",
        "      key = mp[ch]\n",
        "      if self.next[root][key] == -1:\n",
        "        self.node_idx += 1\n",
        "        self.edge.append((root, self.node_idx, ch))\n",
        "        self.next[root][key] = self.node_idx\n",
        "      root = self.next[root][key]"
      ],
      "execution_count": 0,
      "outputs": []
    },
    {
      "cell_type": "code",
      "metadata": {
        "id": "4-zB0bFFWY-A",
        "colab_type": "code",
        "colab": {}
      },
      "source": [
        "def trie_construct(patterns):\n",
        "  trie = Trie()\n",
        "  for p in patterns:\n",
        "    trie.insert(p)\n",
        "  return trie.get_edgelist()"
      ],
      "execution_count": 0,
      "outputs": []
    },
    {
      "cell_type": "markdown",
      "metadata": {
        "id": "zyWO2ViZf66Z",
        "colab_type": "text"
      },
      "source": [
        "#Implement TrieMatching"
      ]
    },
    {
      "cell_type": "code",
      "metadata": {
        "id": "q21SpAUNWZdt",
        "colab_type": "code",
        "colab": {}
      },
      "source": [
        "class Trie:\n",
        "  def __init__(self):\n",
        "    self.nxt = np.full((100000,4),-1,dtype=int)\n",
        "    self.end = np.zeros(100000, dtype=int)\n",
        "    self.node_idx = 0\n",
        "  def insert(self, word):\n",
        "    mp = {'A':0,'C':1,'G':2,'T':3}\n",
        "    root = 0\n",
        "    for ch in word:\n",
        "      key = mp[ch]\n",
        "      if self.nxt[root][key] == -1:\n",
        "        self.node_idx += 1\n",
        "        self.nxt[root][key] = self.node_idx \n",
        "      root = self.nxt[root][key]\n",
        "    self.end[root] = 1\n",
        "  def search(self, text):\n",
        "    mp = {'A':0,'C':1,'G':2,'T':3}\n",
        "    n , position = len(text), []\n",
        "    for idx in range(n):\n",
        "      root = 0\n",
        "      for j in range(idx,n):\n",
        "        key = mp[text[j]]\n",
        "        if self.nxt[root][key] == -1:\n",
        "          break\n",
        "        root = self.nxt[root][key]\n",
        "        if self.end[root]:\n",
        "          position.append(idx)\n",
        "    return position"
      ],
      "execution_count": 0,
      "outputs": []
    },
    {
      "cell_type": "code",
      "metadata": {
        "id": "laYweGJtniK8",
        "colab_type": "code",
        "colab": {}
      },
      "source": [
        "def implement_trie_matching(text, patterns):\n",
        "  trie = Trie()\n",
        "  for p in patterns:\n",
        "    trie.insert(p)\n",
        "  ans = trie.search(text)\n",
        "  print(*ans)"
      ],
      "execution_count": 0,
      "outputs": []
    },
    {
      "cell_type": "code",
      "metadata": {
        "id": "JCMuQkd5odCb",
        "colab_type": "code",
        "outputId": "749aba30-9895-4622-b406-944285899efc",
        "colab": {
          "base_uri": "https://localhost:8080/",
          "height": 34
        }
      },
      "source": [
        "with open('rosalind_ba9b.txt', 'r') as file:\n",
        "  data = file.read().splitlines()\n",
        "  text = data[0]\n",
        "  patterns = data[1:]\n",
        "  implement_trie_matching(text, patterns)"
      ],
      "execution_count": 0,
      "outputs": [
        {
          "output_type": "stream",
          "text": [
            "31 38 52 183 190 197 211 218 231 240 247 254 310 320 332 404 444 451 461 503 619 650 657 669 683 698 710 717 736 743 775\n"
          ],
          "name": "stdout"
        }
      ]
    },
    {
      "cell_type": "code",
      "metadata": {
        "id": "HmcVeg7-oshu",
        "colab_type": "code",
        "colab": {}
      },
      "source": [
        "def suffix_array(text):\n",
        "  return sorted(range(len(text)), key=lambda i: text[i:])"
      ],
      "execution_count": 0,
      "outputs": []
    },
    {
      "cell_type": "code",
      "metadata": {
        "id": "3PkZKiQms_yw",
        "colab_type": "code",
        "outputId": "319a7af6-d634-4878-849b-2553aa2eaac7",
        "colab": {
          "base_uri": "https://localhost:8080/",
          "height": 34
        }
      },
      "source": [
        "suffix_array('AACGATAGCGGTAGA$')"
      ],
      "execution_count": 0,
      "outputs": [
        {
          "output_type": "execute_result",
          "data": {
            "text/plain": [
              "[15, 14, 0, 1, 12, 6, 4, 2, 8, 13, 3, 7, 9, 10, 11, 5]"
            ]
          },
          "metadata": {
            "tags": []
          },
          "execution_count": 32
        }
      ]
    },
    {
      "cell_type": "code",
      "metadata": {
        "id": "I3Hd-I5tv1j9",
        "colab_type": "code",
        "colab": {}
      },
      "source": [
        "string  = 'AACGATAGCGGTAGA$'\n",
        "suf = [string[idx:] for idx in range(len(string))]\n",
        "for s in sorted(suf):\n",
        "  print(s)"
      ],
      "execution_count": 0,
      "outputs": []
    },
    {
      "cell_type": "code",
      "metadata": {
        "id": "9wH5uFKRv1vn",
        "colab_type": "code",
        "colab": {}
      },
      "source": [
        "def bwt(text):\n",
        "  return ''.join(text[k-1] for k in sorted(range(len(text)), key=lambda i: text[i:]))"
      ],
      "execution_count": 0,
      "outputs": []
    },
    {
      "cell_type": "code",
      "metadata": {
        "id": "VakPsTZWKVrz",
        "colab_type": "code",
        "colab": {
          "base_uri": "https://localhost:8080/",
          "height": 34
        },
        "outputId": "aff23ae5-594a-411d-f3ca-3e04ad875160"
      },
      "source": [
        "bwt('monisaha$')"
      ],
      "execution_count": 53,
      "outputs": [
        {
          "output_type": "execute_result",
          "data": {
            "text/plain": [
              "'ahsan$omi'"
            ]
          },
          "metadata": {
            "tags": []
          },
          "execution_count": 53
        }
      ]
    },
    {
      "cell_type": "code",
      "metadata": {
        "id": "yOIOYE0zv16t",
        "colab_type": "code",
        "colab": {}
      },
      "source": [
        "def generate_two_way_map(text):\n",
        "  fcnt,rcnt = defaultdict(int),defaultdict(int)\n",
        "  fmap,rmap = dict(),dict()\n",
        "  for idx , ch in enumerate(text):\n",
        "    rcnt[ch] += 1\n",
        "    rmap[idx] =  (ch, rcnt[ch])\n",
        "  for idx, ch in enumerate(sorted(text)):\n",
        "    fcnt[ch] += 1\n",
        "    fmap[(ch,fcnt[ch])] = idx\n",
        "  return fmap,rmap"
      ],
      "execution_count": 0,
      "outputs": []
    },
    {
      "cell_type": "code",
      "metadata": {
        "id": "hEVLadRmKU9K",
        "colab_type": "code",
        "colab": {}
      },
      "source": [
        ""
      ],
      "execution_count": 0,
      "outputs": []
    },
    {
      "cell_type": "code",
      "metadata": {
        "id": "pzOoWBZ-3qaL",
        "colab_type": "code",
        "colab": {}
      },
      "source": [
        "def inv_bwt(text):\n",
        "  fmap,rmap = generate_two_way_map(text)\n",
        "  rev_text = '$'\n",
        "  idx = 0\n",
        "  while True:\n",
        "    if len(rev_text) == len(text):\n",
        "      break\n",
        "    ch,idx = rmap[idx]\n",
        "    rev_text += ch\n",
        "    idx = fmap[(ch,idx)]\n",
        "  return rev_text[::-1]"
      ],
      "execution_count": 0,
      "outputs": []
    },
    {
      "cell_type": "code",
      "metadata": {
        "id": "DZB0sfA0H12H",
        "colab_type": "code",
        "colab": {}
      },
      "source": [
        "x = !cat rosalind_ba9j.txt"
      ],
      "execution_count": 0,
      "outputs": []
    },
    {
      "cell_type": "code",
      "metadata": {
        "id": "6xVzspspKt_x",
        "colab_type": "code",
        "colab": {}
      },
      "source": [
        "with open('out_i.txt','w') as file:\n",
        "  file.write(inv_bwt(x[0]))"
      ],
      "execution_count": 0,
      "outputs": []
    },
    {
      "cell_type": "code",
      "metadata": {
        "id": "-itBvC7hLQnl",
        "colab_type": "code",
        "colab": {}
      },
      "source": [
        ""
      ],
      "execution_count": 0,
      "outputs": []
    }
  ]
}