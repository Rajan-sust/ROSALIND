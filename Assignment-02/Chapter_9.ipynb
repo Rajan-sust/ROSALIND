{
  "nbformat": 4,
  "nbformat_minor": 0,
  "metadata": {
    "colab": {
      "name": "Chapter_9.ipynb",
      "provenance": [],
      "collapsed_sections": []
    },
    "kernelspec": {
      "name": "python3",
      "display_name": "Python 3"
    }
  },
  "cells": [
    {
      "cell_type": "markdown",
      "metadata": {
        "id": "K7eBPSdHOzPa",
        "colab_type": "text"
      },
      "source": [
        "# Construct a Trie from a Collection of Patterns"
      ]
    },
    {
      "cell_type": "code",
      "metadata": {
        "id": "GGNAsThEPL4o",
        "colab_type": "code",
        "colab": {}
      },
      "source": [
        "import numpy as np\n",
        "from collections import defaultdict"
      ],
      "execution_count": 0,
      "outputs": []
    },
    {
      "cell_type": "code",
      "metadata": {
        "id": "I7e0nPakOtKc",
        "colab_type": "code",
        "colab": {}
      },
      "source": [
        "class Trie:\n",
        "  def __init__(self):\n",
        "    self.next = np.full((10000,4),-1, dtype=int)\n",
        "    self.node_idx = 0\n",
        "    self.end = np.zeros(10000, dtype=int)\n",
        "  def insert(self, pattern):\n",
        "    edges = []\n",
        "    mp = {\n",
        "        'A' : 0,\n",
        "        'C' : 1,\n",
        "        'G' : 2,\n",
        "        'T' : 3\n",
        "    }\n",
        "    root = 0\n",
        "    for ch in pattern:\n",
        "      if self.next[root][mp[ch]] == -1:\n",
        "        self.node_idx += 1\n",
        "        edges.append((root,self.node_idx,ch))\n",
        "        self.next[root][mp[ch]] = self.node_idx\n",
        "      root = self.next[root][mp[ch]]\n",
        "    self.end[root] = 1\n",
        "      #endif\n",
        "    #endfor\n",
        "    return edges\n",
        "  def search(self, text):\n",
        "    mp = {\n",
        "        'A' : 0,\n",
        "        'C' : 1,\n",
        "        'G' : 2,\n",
        "        'T' : 3\n",
        "    }\n",
        "    ans = []\n",
        "    for i in range(0, len(text)):\n",
        "      root = 0\n",
        "      for j in range(i, len(text)):\n",
        "        if self.next[root][mp[text[j]]] == -1:\n",
        "          break\n",
        "        else:\n",
        "          root = self.next[root][mp[text[j]]]\n",
        "          if self.end[root] == 1:\n",
        "            ans.append(i)\n",
        "            break\n",
        "          #endif\n",
        "        #endif\n",
        "      #endfor\n",
        "    #endfor\n",
        "    return ans"
      ],
      "execution_count": 0,
      "outputs": []
    },
    {
      "cell_type": "code",
      "metadata": {
        "id": "gEfbgv6zOy-b",
        "colab_type": "code",
        "colab": {}
      },
      "source": [
        "def build_trie(patterns):\n",
        "  trie = Trie()\n",
        "  ans = []\n",
        "  for pattern in patterns:\n",
        "    ans.extend(trie.insert(pattern))\n",
        "  #endfor\n",
        "  return ans"
      ],
      "execution_count": 0,
      "outputs": []
    },
    {
      "cell_type": "code",
      "metadata": {
        "id": "lgLrInqaTIWF",
        "colab_type": "code",
        "outputId": "e1a2ec80-b58b-43c7-b52f-fed0ce5300a6",
        "colab": {
          "base_uri": "https://localhost:8080/",
          "height": 170
        }
      },
      "source": [
        "edges = build_trie(['ATAGA','ATC','GAT'])\n",
        "for u,v,node in edges:\n",
        "  print(str(u) + '->' + str(v) + ':' + node)"
      ],
      "execution_count": 0,
      "outputs": [
        {
          "output_type": "stream",
          "text": [
            "0->1:A\n",
            "1->2:T\n",
            "2->3:A\n",
            "3->4:G\n",
            "4->5:A\n",
            "2->6:C\n",
            "0->7:G\n",
            "7->8:A\n",
            "8->9:T\n"
          ],
          "name": "stdout"
        }
      ]
    },
    {
      "cell_type": "markdown",
      "metadata": {
        "id": "dYLY1JGikYeF",
        "colab_type": "text"
      },
      "source": [
        "#Implement TrieMatching"
      ]
    },
    {
      "cell_type": "code",
      "metadata": {
        "id": "RcyZtxgZX0FV",
        "colab_type": "code",
        "colab": {}
      },
      "source": [
        "def trie_matching(text, patterns):\n",
        "  trie = Trie()\n",
        "  for pattern in patterns:\n",
        "    trie.insert(pattern)\n",
        "  #endfor\n",
        "  return trie.search(text)"
      ],
      "execution_count": 0,
      "outputs": []
    },
    {
      "cell_type": "code",
      "metadata": {
        "id": "3t3Pr3wzk_03",
        "colab_type": "code",
        "outputId": "8e007627-b530-4d7c-d6f0-eab2c3de38b5",
        "colab": {
          "base_uri": "https://localhost:8080/",
          "height": 34
        }
      },
      "source": [
        "print(*trie_matching('AATCGGGTTCAATCGGGGT',['ATCG','GGGT']))"
      ],
      "execution_count": 0,
      "outputs": [
        {
          "output_type": "stream",
          "text": [
            "1 4 11 15\n"
          ],
          "name": "stdout"
        }
      ]
    },
    {
      "cell_type": "markdown",
      "metadata": {
        "id": "nSZXG3gbSWlR",
        "colab_type": "text"
      },
      "source": [
        "#Construct the Suffix Array of a String"
      ]
    },
    {
      "cell_type": "code",
      "metadata": {
        "id": "iTPir_V-lLAO",
        "colab_type": "code",
        "colab": {}
      },
      "source": [
        "def construct_suffix(text):\n",
        "  suffix = [(text[idx::],idx) for idx in range(len(text))]\n",
        "  suffix_after_sort = sorted(suffix, key=lambda x: x[0])\n",
        "  return [idx for s,idx in suffix_after_sort]"
      ],
      "execution_count": 0,
      "outputs": []
    },
    {
      "cell_type": "code",
      "metadata": {
        "id": "DPhtDs5NUEmx",
        "colab_type": "code",
        "outputId": "d1e08577-5095-4726-d6c8-2d1dff0b1894",
        "colab": {
          "base_uri": "https://localhost:8080/",
          "height": 34
        }
      },
      "source": [
        "ans = construct_suffix('AACGATAGCGGTAGA$')\n",
        "print(', '.join([str(idx) for idx in ans]))"
      ],
      "execution_count": 0,
      "outputs": [
        {
          "output_type": "stream",
          "text": [
            "15, 14, 0, 1, 12, 6, 4, 2, 8, 13, 3, 7, 9, 10, 11, 5\n"
          ],
          "name": "stdout"
        }
      ]
    },
    {
      "cell_type": "markdown",
      "metadata": {
        "id": "xBvrJukcjRZ2",
        "colab_type": "text"
      },
      "source": [
        "#Pattern Matching with the Suffix Array"
      ]
    },
    {
      "cell_type": "code",
      "metadata": {
        "id": "kEr0PP_bDM0q",
        "colab_type": "code",
        "colab": {}
      },
      "source": [
        "def find_pos(text, suffix_array, pattern):\n",
        "  lo = 0\n",
        "  hi = len(suffix_array) - 1\n",
        "  ans = -1\n",
        "  while lo<=hi:\n",
        "    mid = lo + (hi-lo)//2\n",
        "    suffix = text[suffix_array[mid]::][0:len(pattern)]\n",
        "    if suffix == pattern:\n",
        "      ans = mid\n",
        "    if suffix < pattern:\n",
        "      lo = mid + 1\n",
        "    else:\n",
        "      hi = mid - 1\n",
        "  #endwhile\n",
        "  if ans == -1:\n",
        "    return []\n",
        "  min_idx = ans\n",
        "  lo = ans\n",
        "  hi = len(suffix_array) - 1\n",
        "  while lo <= hi:\n",
        "    mid = lo + (hi-lo)//2\n",
        "    suffix = text[suffix_array[mid]::][0:len(pattern)]\n",
        "    if suffix == pattern:\n",
        "      ans = mid\n",
        "    if suffix > pattern:\n",
        "      hi = mid - 1\n",
        "    else:\n",
        "      lo = mid + 1\n",
        "  #endwhile\n",
        "  return [suffix_array[idx] for idx in range(min_idx, ans+1)]"
      ],
      "execution_count": 0,
      "outputs": []
    },
    {
      "cell_type": "code",
      "metadata": {
        "id": "rD7HQtoLCgZZ",
        "colab_type": "code",
        "colab": {}
      },
      "source": [
        "def pattern_match_with_suffix_array(text, patterns):\n",
        "  suffix_array = construct_suffix(text)\n",
        "  pos = []\n",
        "  for pattern in patterns:\n",
        "    pos.extend(find_pos(text, suffix_array, pattern))\n",
        "  #endfor\n",
        "  return sorted(pos)"
      ],
      "execution_count": 0,
      "outputs": []
    },
    {
      "cell_type": "code",
      "metadata": {
        "id": "Gu4XmUneNq6h",
        "colab_type": "code",
        "outputId": "5a806fb5-f76b-45d0-e1a6-205ee0ab063c",
        "colab": {
          "base_uri": "https://localhost:8080/",
          "height": 34
        }
      },
      "source": [
        "ans = pattern_match_with_suffix_array('AATCGGGTTCAATCGGGGT', ['ATCG','GGGT'])\n",
        "print(*ans)\n"
      ],
      "execution_count": 0,
      "outputs": [
        {
          "output_type": "stream",
          "text": [
            "1 4 11 15\n"
          ],
          "name": "stdout"
        }
      ]
    },
    {
      "cell_type": "markdown",
      "metadata": {
        "id": "r3NcHVllU_Yt",
        "colab_type": "text"
      },
      "source": [
        "# Construct the Burrows-Wheeler Transform of a String"
      ]
    },
    {
      "cell_type": "code",
      "metadata": {
        "id": "t1y2v6LWOuqJ",
        "colab_type": "code",
        "colab": {}
      },
      "source": [
        "def BWT(text):\n",
        "  circular = [text[idx::] + text[0:idx:] for idx in range(len(text))]\n",
        "  return ''.join([s[-1] for s in sorted(circular)])"
      ],
      "execution_count": 0,
      "outputs": []
    },
    {
      "cell_type": "code",
      "metadata": {
        "id": "ty8yTpqAWEyx",
        "colab_type": "code",
        "outputId": "cbb2bf7d-871c-4dfa-9e06-d2a628059c2a",
        "colab": {
          "base_uri": "https://localhost:8080/",
          "height": 34
        }
      },
      "source": [
        "print(BWT('GCGTGCCTGGTCA$'))"
      ],
      "execution_count": 0,
      "outputs": [
        {
          "output_type": "stream",
          "text": [
            "ACTGGCT$TGCGGC\n"
          ],
          "name": "stdout"
        }
      ]
    },
    {
      "cell_type": "markdown",
      "metadata": {
        "id": "TjfuPG_0dm3r",
        "colab_type": "text"
      },
      "source": [
        "#Generate the Last-to-First Mapping of a String"
      ]
    },
    {
      "cell_type": "code",
      "metadata": {
        "id": "roLtxy48ZW-r",
        "colab_type": "code",
        "colab": {}
      },
      "source": [
        "def generate_two_way_map(text):\n",
        "  last = defaultdict(int)\n",
        "  l_mp = {}\n",
        "  for idx, ch in enumerate(text):\n",
        "    last[ch] +=1\n",
        "    l_mp[idx] = (ch,last[ch])\n",
        "  #endfor\n",
        "  first = defaultdict(int)\n",
        "  f_mp = {}\n",
        "  for idx, ch in enumerate(sorted(text)):\n",
        "    first[ch] += 1\n",
        "    f_mp[(ch,first[ch])] = idx\n",
        "  #endfor\n",
        "  return f_mp,l_mp "
      ],
      "execution_count": 0,
      "outputs": []
    },
    {
      "cell_type": "code",
      "metadata": {
        "id": "DOhY9cQ3g05a",
        "colab_type": "code",
        "colab": {}
      },
      "source": [
        "def last_to_first(text, pos):\n",
        "  f_mp,l_mp = generate_two_way_map(text)\n",
        "  ch,no = l_mp[pos]\n",
        "  print(f_mp[(ch,no)])"
      ],
      "execution_count": 0,
      "outputs": []
    },
    {
      "cell_type": "code",
      "metadata": {
        "id": "PhMwGKYeg2tT",
        "colab_type": "code",
        "outputId": "3bdc2466-9516-4227-9990-5a12a7b85cc0",
        "colab": {
          "base_uri": "https://localhost:8080/",
          "height": 34
        }
      },
      "source": [
        "last_to_first('T$GACCA',3)"
      ],
      "execution_count": 0,
      "outputs": [
        {
          "output_type": "stream",
          "text": [
            "1\n"
          ],
          "name": "stdout"
        }
      ]
    },
    {
      "cell_type": "markdown",
      "metadata": {
        "id": "yo4J75xHjWQm",
        "colab_type": "text"
      },
      "source": [
        "#Reconstruct a String from its Burrows-Wheeler Transform "
      ]
    },
    {
      "cell_type": "code",
      "metadata": {
        "id": "-Ea7Cu24iYDQ",
        "colab_type": "code",
        "colab": {}
      },
      "source": [
        "def inverse_BWT(text):\n",
        "  genome = '$'\n",
        "  idx = 0\n",
        "  F,L = generate_two_way_map(text)\n",
        "  ch , no = '$',1\n",
        "  print()\n",
        "  while True:\n",
        "    if len(genome) == len(text):\n",
        "      break\n",
        "    #endif\n",
        "    idx = F[(ch, no)]\n",
        "    ch,no = L[idx]\n",
        "    genome += ch\n",
        "  #endwhile\n",
        "  return genome[::-1]"
      ],
      "execution_count": 0,
      "outputs": []
    },
    {
      "cell_type": "code",
      "metadata": {
        "id": "UL59xqbQmkxC",
        "colab_type": "code",
        "outputId": "a1d1cbee-ce79-4a14-e7b3-5ad51105ad38",
        "colab": {
          "base_uri": "https://localhost:8080/",
          "height": 51
        }
      },
      "source": [
        "print(inverse_BWT('TTCCTAACG$A'))"
      ],
      "execution_count": 0,
      "outputs": [
        {
          "output_type": "stream",
          "text": [
            "\n",
            "TACATCACGT$\n"
          ],
          "name": "stdout"
        }
      ]
    },
    {
      "cell_type": "markdown",
      "metadata": {
        "id": "FbNwGBZZkzjJ",
        "colab_type": "text"
      },
      "source": [
        "#Implement BWMatching"
      ]
    },
    {
      "cell_type": "code",
      "metadata": {
        "id": "otouf2wFnLR3",
        "colab_type": "code",
        "colab": {}
      },
      "source": [
        "def BW_match(text, patterns):\n",
        "  original = inverse_BWT(text)\n",
        "  suffix = sorted([original[idx::] for idx in range(len(original))])\n",
        "  result = []\n",
        "  for pattern in patterns:\n",
        "    cnt = 0\n",
        "    for s in suffix:\n",
        "      if s.startswith(pattern):\n",
        "        cnt += 1\n",
        "      elif s > pattern:\n",
        "        break\n",
        "    #endfor\n",
        "    result.append(cnt)\n",
        "  return result"
      ],
      "execution_count": 0,
      "outputs": []
    },
    {
      "cell_type": "code",
      "metadata": {
        "id": "xOGiNtTYnH3R",
        "colab_type": "code",
        "outputId": "78a8c033-a711-4311-86f5-97a4c70e8fcd",
        "colab": {
          "base_uri": "https://localhost:8080/",
          "height": 51
        }
      },
      "source": [
        "ans  = BW_match('TCCTCTATGAGATCCTATTCTATGAAACCTTCA$GACCAAAATTCTCCGGC', ['CCT','CAC','GAG','CAG','ATC'])\n",
        "print(*ans)"
      ],
      "execution_count": 0,
      "outputs": [
        {
          "output_type": "stream",
          "text": [
            "\n",
            "2 1 1 0 1\n"
          ],
          "name": "stdout"
        }
      ]
    }
  ]
}