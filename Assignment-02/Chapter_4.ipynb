{
  "nbformat": 4,
  "nbformat_minor": 0,
  "metadata": {
    "colab": {
      "name": "Chapter_4.ipynb",
      "provenance": [],
      "collapsed_sections": []
    },
    "kernelspec": {
      "name": "python3",
      "display_name": "Python 3"
    }
  },
  "cells": [
    {
      "cell_type": "markdown",
      "metadata": {
        "id": "JaEDjEyU1Gaj",
        "colab_type": "text"
      },
      "source": [
        "# Translate an RNA String into an Amino Acid String"
      ]
    },
    {
      "cell_type": "code",
      "metadata": {
        "id": "F1rxVk-fo2lf",
        "colab_type": "code",
        "colab": {}
      },
      "source": [
        "from collections import Counter\n",
        "from collections import defaultdict"
      ],
      "execution_count": 0,
      "outputs": []
    },
    {
      "cell_type": "code",
      "metadata": {
        "id": "ONqsWtzF1CfW",
        "colab_type": "code",
        "colab": {}
      },
      "source": [
        "CODON_TABLE = {\n",
        "    'UUU': 'F',     'CUU': 'L',     'AUU': 'I',     'GUU': 'V',\n",
        "    'UUC': 'F',     'CUC': 'L',     'AUC': 'I',     'GUC': 'V',\n",
        "    'UUA': 'L',     'CUA': 'L',     'AUA': 'I',     'GUA': 'V',\n",
        "    'UUG': 'L',     'CUG': 'L',     'AUG': 'M',     'GUG': 'V',\n",
        "    'UCU': 'S',     'CCU': 'P',     'ACU': 'T',     'GCU': 'A',\n",
        "    'UCC': 'S',     'CCC': 'P',     'ACC': 'T',     'GCC': 'A',\n",
        "    'UCA': 'S',     'CCA': 'P',     'ACA': 'T',     'GCA': 'A',\n",
        "    'UCG': 'S',     'CCG': 'P',     'ACG': 'T',     'GCG': 'A',\n",
        "    'UAU': 'Y',     'CAU': 'H',     'AAU': 'N',     'GAU': 'D',\n",
        "    'UAC': 'Y',     'CAC': 'H',     'AAC': 'N',     'GAC': 'D',\n",
        "    'UAA': 'Stop',  'CAA': 'Q',     'AAA': 'K',     'GAA': 'E',\n",
        "    'UAG': 'Stop',  'CAG': 'Q',     'AAG': 'K',     'GAG': 'E',\n",
        "    'UGU': 'C',     'CGU': 'R',     'AGU': 'S',     'GGU': 'G',\n",
        "    'UGC': 'C',     'CGC': 'R',     'AGC': 'S',     'GGC': 'G',\n",
        "    'UGA': 'Stop',  'CGA': 'R',     'AGA': 'R',     'GGA': 'G',\n",
        "    'UGG': 'W',     'CGG': 'R',     'AGG': 'R',     'GGG': 'G'\n",
        "}"
      ],
      "execution_count": 0,
      "outputs": []
    },
    {
      "cell_type": "code",
      "metadata": {
        "id": "ZPFDFSID1F-z",
        "colab_type": "code",
        "colab": {}
      },
      "source": [
        "def rna_to_peptide(rna):\n",
        "  peptide = ''\n",
        "  for idx in range(0,len(rna),3):\n",
        "    if CODON_TABLE[rna[idx:idx+3]] == 'Stop':\n",
        "      break\n",
        "    peptide+=CODON_TABLE[rna[idx:idx+3]]\n",
        "  return peptide"
      ],
      "execution_count": 0,
      "outputs": []
    },
    {
      "cell_type": "code",
      "metadata": {
        "id": "-k_9ILZ-1GBL",
        "colab_type": "code",
        "outputId": "a946c824-f2c4-475e-bf91-3bf6d2c8210a",
        "colab": {
          "base_uri": "https://localhost:8080/",
          "height": 34
        }
      },
      "source": [
        "print(rna_to_peptide('AUGGCCAUGGCGCCCAGAACUGAGAUCAAUAGUACCCGUAUUAACGGGUGA'))"
      ],
      "execution_count": 0,
      "outputs": [
        {
          "output_type": "stream",
          "text": [
            "MAMAPRTEINSTRING\n"
          ],
          "name": "stdout"
        }
      ]
    },
    {
      "cell_type": "markdown",
      "metadata": {
        "id": "gllhnxp22Y15",
        "colab_type": "text"
      },
      "source": [
        "# Find Substrings of a Genome Encoding a Given Amino Acid String"
      ]
    },
    {
      "cell_type": "code",
      "metadata": {
        "id": "tNTX_9rc2UaB",
        "colab_type": "code",
        "colab": {}
      },
      "source": [
        "def dna_to_rna(genome):\n",
        "\treturn genome.replace('T','U')"
      ],
      "execution_count": 0,
      "outputs": []
    },
    {
      "cell_type": "code",
      "metadata": {
        "id": "dGA_a82d2vnt",
        "colab_type": "code",
        "colab": {}
      },
      "source": [
        "def rna_to_dna(genome):\n",
        "\treturn genome.replace('U','T')"
      ],
      "execution_count": 0,
      "outputs": []
    },
    {
      "cell_type": "code",
      "metadata": {
        "id": "e6GC20xL2yb1",
        "colab_type": "code",
        "colab": {}
      },
      "source": [
        "def rev_complement(genome):\n",
        "\tmp = {\n",
        "\t\t'A':'U',\n",
        "\t\t'U':'A',\n",
        "\t\t'C':'G',\n",
        "\t\t'G':'C'\n",
        "\t}\n",
        "\tans = ''\n",
        "\tfor ch in genome:\n",
        "\t\tans+=mp[ch]\n",
        "\treturn ans[::-1]"
      ],
      "execution_count": 0,
      "outputs": []
    },
    {
      "cell_type": "code",
      "metadata": {
        "id": "gKk7s7vo29Xk",
        "colab_type": "code",
        "colab": {}
      },
      "source": [
        "def get_substring(genome, peptide):\n",
        "  ans = []\n",
        "  k = len(peptide)*3\n",
        "  rna = dna_to_rna(genome)\n",
        "  for idx in range(0, len(rna)-k+1):\n",
        "    if rna_to_peptide(rna[idx:idx+k]) == peptide or rna_to_peptide(rev_complement(rna[idx:idx+k])) == peptide:\n",
        "      ans.append(genome[idx:idx+k])\n",
        "    #endif\n",
        "  #endfor\n",
        "  return ans"
      ],
      "execution_count": 0,
      "outputs": []
    },
    {
      "cell_type": "code",
      "metadata": {
        "id": "laMqFr8K3D9S",
        "colab_type": "code",
        "outputId": "3f368f9d-dc52-46cb-8d14-aece7c97ad04",
        "colab": {
          "base_uri": "https://localhost:8080/",
          "height": 68
        }
      },
      "source": [
        "ans = get_substring('ATGGCCATGGCCCCCAGAACTGAGATCAATAGTACCCGTATTAACGGGTGA','MA')\n",
        "for read in ans:\n",
        "  print(read)"
      ],
      "execution_count": 0,
      "outputs": [
        {
          "output_type": "stream",
          "text": [
            "ATGGCC\n",
            "GGCCAT\n",
            "ATGGCC\n"
          ],
          "name": "stdout"
        }
      ]
    },
    {
      "cell_type": "markdown",
      "metadata": {
        "id": "lSWDiCWiyayC",
        "colab_type": "text"
      },
      "source": [
        "# Generate the Theoretical Spectrum of a Cyclic Peptide"
      ]
    },
    {
      "cell_type": "code",
      "metadata": {
        "id": "NfA2yR_d08JF",
        "colab_type": "code",
        "colab": {}
      },
      "source": [
        "amino_acid = {\n",
        "    'G':57,\n",
        "    'A':71,\n",
        "    'S':87,\n",
        "    'P':97,\n",
        "    'V':99,\n",
        "    'T':101,\n",
        "    'C':103,\n",
        "    'I':113,\n",
        "    'L':113,\n",
        "    'N':114,\n",
        "    'D':115,\n",
        "    'K':128,\n",
        "    'Q':128,\n",
        "    'E':129,\n",
        "    'M':131,\n",
        "    'H':137,\n",
        "    'F':147,\n",
        "    'R':156,\n",
        "    'Y':163,\n",
        "    'W':186\n",
        "}"
      ],
      "execution_count": 0,
      "outputs": []
    },
    {
      "cell_type": "code",
      "metadata": {
        "id": "jCAna-D83W6u",
        "colab_type": "code",
        "colab": {}
      },
      "source": [
        "def generate_mass(mass, ans, k):\n",
        "  nw_mass = mass + mass[0:(k-1)]\n",
        "  for idx in range(len(nw_mass)-k+1):\n",
        "    ans.append(sum(nw_mass[idx:idx+k]))\n",
        "  #endfor"
      ],
      "execution_count": 0,
      "outputs": []
    },
    {
      "cell_type": "code",
      "metadata": {
        "id": "quriO6lO2HOu",
        "colab_type": "code",
        "colab": {}
      },
      "source": [
        "def theoretical_spectrum(peptide):\n",
        "  mass = [amino_acid[ch] for ch in peptide]\n",
        "  ans = [0, sum(mass)]\n",
        "  for idx in range(1, len(mass)):\n",
        "    generate_mass(mass,ans,idx)\n",
        "  #endfor\n",
        "  return sorted(ans)"
      ],
      "execution_count": 0,
      "outputs": []
    },
    {
      "cell_type": "code",
      "metadata": {
        "id": "m4ZXUbt14CtD",
        "colab_type": "code",
        "outputId": "1256adc2-7829-4595-e3df-b05b2037a5a2",
        "colab": {
          "base_uri": "https://localhost:8080/",
          "height": 54
        }
      },
      "source": [
        "print(*theoretical_spectrum('GNCANADVSRVSH'))"
      ],
      "execution_count": 0,
      "outputs": [
        {
          "output_type": "stream",
          "text": [
            "0 57 71 71 87 87 99 99 103 114 114 115 137 156 171 174 185 185 186 186 186 194 214 217 224 243 255 256 274 281 285 288 288 300 301 308 323 342 342 342 345 359 371 372 380 395 399 402 411 429 441 457 459 470 473 474 479 482 486 494 498 528 528 530 536 556 557 566 569 573 588 596 597 623 627 642 643 645 650 660 665 667 668 683 687 713 714 722 737 741 744 753 754 774 780 782 782 812 816 824 828 831 836 837 840 851 853 869 881 899 908 911 915 930 938 939 951 965 968 968 968 987 1002 1009 1010 1022 1022 1025 1029 1036 1054 1055 1067 1086 1093 1096 1116 1124 1124 1124 1125 1125 1136 1139 1154 1173 1195 1196 1196 1207 1211 1211 1223 1223 1239 1239 1253 1310\n"
          ],
          "name": "stdout"
        }
      ]
    },
    {
      "cell_type": "markdown",
      "metadata": {
        "id": "dg3cC5c_8jEa",
        "colab_type": "text"
      },
      "source": [
        "# Compute the Number of Peptides of Given Total Mass"
      ]
    },
    {
      "cell_type": "code",
      "metadata": {
        "id": "AbTmw5uj9T9t",
        "colab_type": "code",
        "colab": {}
      },
      "source": [
        "unique_mass = [57,71,87,97,99,101,103,113,114,115,128,129,131,137,147,156,163,186]"
      ],
      "execution_count": 0,
      "outputs": []
    },
    {
      "cell_type": "code",
      "metadata": {
        "id": "Q2PotHtC92w5",
        "colab_type": "code",
        "colab": {}
      },
      "source": [
        "def no_of_peptides(current_sum, mass, dp):\n",
        "  if current_sum == mass:\n",
        "    return 1\n",
        "  if current_sum > mass:\n",
        "    return 0\n",
        "  if current_sum in dp:\n",
        "    return dp[current_sum]\n",
        "  ans = 0\n",
        "  for m in unique_mass:\n",
        "    ans += no_of_peptides(current_sum+m, mass, dp)\n",
        "  dp[current_sum] = ans\n",
        "  return ans"
      ],
      "execution_count": 0,
      "outputs": []
    },
    {
      "cell_type": "code",
      "metadata": {
        "id": "PMMhK14097l7",
        "colab_type": "code",
        "outputId": "505ec0da-d8f5-4743-f737-89c86eea8ebf",
        "colab": {
          "base_uri": "https://localhost:8080/",
          "height": 34
        }
      },
      "source": [
        "no_of_peptides(0, 1024, dict())"
      ],
      "execution_count": 0,
      "outputs": [
        {
          "output_type": "execute_result",
          "data": {
            "text/plain": [
              "14712706211"
            ]
          },
          "metadata": {
            "tags": []
          },
          "execution_count": 20
        }
      ]
    },
    {
      "cell_type": "markdown",
      "metadata": {
        "id": "_5PMrh1fAkNo",
        "colab_type": "text"
      },
      "source": [
        "# Find a Cyclic Peptide with Theoretical Spectrum Matching an Ideal Spectrum "
      ]
    },
    {
      "cell_type": "code",
      "metadata": {
        "id": "hYOOgJtT_8XG",
        "colab_type": "code",
        "colab": {}
      },
      "source": [
        "def generate_circular_spectrum(mass):\n",
        "  ans = [0, sum(mass)]\n",
        "  for idx in range(1, len(mass)):\n",
        "    generate_mass(mass,ans,idx)\n",
        "  return sorted(ans)"
      ],
      "execution_count": 0,
      "outputs": []
    },
    {
      "cell_type": "code",
      "metadata": {
        "id": "ikpX0tG3kK1f",
        "colab_type": "code",
        "colab": {}
      },
      "source": [
        "def expand(unit, peptides):\n",
        "  l = len(peptides)\n",
        "  for _ in range(l):\n",
        "    peptide = peptides.pop(0)\n",
        "    for m in unit:\n",
        "      peptides.append(peptide + [m])\n",
        "    #endfor\n",
        "  #endfor"
      ],
      "execution_count": 0,
      "outputs": []
    },
    {
      "cell_type": "code",
      "metadata": {
        "id": "ghgeDZBWaYn5",
        "colab_type": "code",
        "colab": {}
      },
      "source": [
        "def is_consistent(peptide, experimental):\n",
        "  ans = [0]\n",
        "  for k in range(1, len(peptide)+1):\n",
        "    for idx in range(len(peptide)-k+1):\n",
        "      ans.append(sum(peptide[idx:idx+k:]))\n",
        "    #endfor\n",
        "  #endfor\n",
        "  theoretical_spectrum = sorted(ans)\n",
        "  cnt = Counter(experimental)\n",
        "  for m in theoretical_spectrum:\n",
        "    if cnt[m] > 0:\n",
        "      cnt[m] -= 1\n",
        "    else:\n",
        "      return False\n",
        "  #endfor\n",
        "  return True"
      ],
      "execution_count": 0,
      "outputs": []
    },
    {
      "cell_type": "code",
      "metadata": {
        "id": "gNL4r0JWkLGx",
        "colab_type": "code",
        "colab": {}
      },
      "source": [
        "def cyclopeptide_sequencing(spectrum):\n",
        "  acids = amino_acid.values()\n",
        "  unit = [mass for mass in set(spectrum) if mass in acids]\n",
        "  peptides = [[]]\n",
        "  ans = []\n",
        "  cnt = 0\n",
        "  while peptides:\n",
        "    if cnt == 3:\n",
        "      break\n",
        "    cnt += 1\n",
        "    expand(unit, peptides)\n",
        "    remove = []\n",
        "    for peptide in peptides:\n",
        "      if sum(peptide) == max(spectrum):\n",
        "        if generate_circular_spectrum(peptide) == spectrum:\n",
        "          ans.append(peptide)\n",
        "        remove.append(peptide)\n",
        "        #endif\n",
        "      elif not is_consistent(peptide, spectrum):\n",
        "        remove.append(peptide)\n",
        "    #endfor\n",
        "    for p in remove:\n",
        "      peptides.remove(p)\n",
        "  #endwhile\n",
        "  \n",
        "  return ['-'.join([str(p) for p in item]) for item in ans]"
      ],
      "execution_count": 0,
      "outputs": []
    },
    {
      "cell_type": "code",
      "metadata": {
        "id": "r5zGk41_eqrp",
        "colab_type": "code",
        "outputId": "d59990cc-c0e7-4e78-b10c-b801b8e64d19",
        "colab": {
          "base_uri": "https://localhost:8080/",
          "height": 34
        }
      },
      "source": [
        "ans = cyclopeptide_sequencing([0, 113 , 128 , 186 , 241 , 299 , 314 , 427])\n",
        "print(*ans)"
      ],
      "execution_count": 0,
      "outputs": [
        {
          "output_type": "stream",
          "text": [
            "128-113-186 128-186-113 113-128-186 113-186-128 186-128-113 186-113-128\n"
          ],
          "name": "stdout"
        }
      ]
    },
    {
      "cell_type": "markdown",
      "metadata": {
        "id": "bmGBiJMaHi4l",
        "colab_type": "text"
      },
      "source": [
        "# Compute the Score of a Cyclic Peptide Against a Spectrum"
      ]
    },
    {
      "cell_type": "code",
      "metadata": {
        "id": "S2Z1JzmAHhjr",
        "colab_type": "code",
        "colab": {}
      },
      "source": [
        "def compute_score(peptide, spectrum):\n",
        "  theoretical = theoretical_spectrum(peptide)\n",
        "  count = Counter(spectrum)\n",
        "  score = 0\n",
        "  for key in theoretical:\n",
        "    if count[key] > 0:\n",
        "      score += 1\n",
        "      count[key] -= 1\n",
        "    #endif\n",
        "  #endfor\n",
        "  return score"
      ],
      "execution_count": 0,
      "outputs": []
    },
    {
      "cell_type": "code",
      "metadata": {
        "id": "LfWhKI6pHNHv",
        "colab_type": "code",
        "outputId": "f87f5bb8-d251-4f6b-f0c3-1f1e48000a74",
        "colab": {
          "base_uri": "https://localhost:8080/",
          "height": 34
        }
      },
      "source": [
        "compute_score('NQEL', [0, 99 ,113 ,114 ,128 ,227 ,257 ,299 ,355 ,356 ,370 ,371 ,484])"
      ],
      "execution_count": 0,
      "outputs": [
        {
          "output_type": "execute_result",
          "data": {
            "text/plain": [
              "11"
            ]
          },
          "metadata": {
            "tags": []
          },
          "execution_count": 27
        }
      ]
    },
    {
      "cell_type": "markdown",
      "metadata": {
        "id": "v4iuzDjmQa8c",
        "colab_type": "text"
      },
      "source": [
        "#Implement LeaderboardCyclopeptideSequencing "
      ]
    },
    {
      "cell_type": "code",
      "metadata": {
        "id": "OsMX18VkQfYn",
        "colab_type": "code",
        "colab": {}
      },
      "source": [
        "#it will be called from __main__\n",
        "def leaderboard_seq(N, spectrum):\n",
        "    acids = [71,87,97,99,101,103,113,114,115,128,129,131,137,147,156,163,186]\n",
        "    def expand(leader_board):\n",
        "        n = len(leader_board)\n",
        "        for _ in range(n):\n",
        "            peptide = leader_board.pop(0)\n",
        "            for m in acids:\n",
        "                leader_board.append(peptide + [m])\n",
        "    def cyclo_spectrum(peptide):\n",
        "        cyclic , t_spectrum = peptide + peptide , [0, sum(peptide)]\n",
        "        for pos in range(len(peptide)):\n",
        "            for k in range(1, len(peptide)):\n",
        "                t_spectrum.append(sum(cyclic[pos:k]))\n",
        "        return t_spectrum\n",
        "    def linear_spectrum(peptide):\n",
        "        t_spectrum = [0]\n",
        "        n = len(peptide)\n",
        "        for k in range(1,n+1):\n",
        "            for idx in range(n-k+1):\n",
        "                t_spectrum.append(sum(peptide[idx:idx+k]))\n",
        "        return t_spectrum\n",
        "\n",
        "    def score(peptide):\n",
        "        if not peptide: return 0\n",
        "        t_spectrum , score = cyclo_spectrum(peptide) , 0\n",
        "        for mass in spectrum:\n",
        "            if mass in t_spectrum:\n",
        "                score += 1\n",
        "                t_spectrum.remove(mass)\n",
        "        return score\n",
        "    def trim_score(peptide):\n",
        "        t_spectrum , score = linear_spectrum(peptide) , 0\n",
        "        for mass in spectrum:\n",
        "            if mass in t_spectrum:\n",
        "                score += 1\n",
        "                t_spectrum.remove(mass)\n",
        "        return score\n",
        "\n",
        "\n",
        "    def trim(leader_board):\n",
        "        scores = [trim_score(peptide) for peptide in leader_board]\n",
        "        index = sorted(range(len(scores)), key = lambda i: scores[i], reverse = True)\n",
        "        sorted_score = [scores[i] for i in index]\n",
        "        sorted_board = [leader_board[i] for i in index]\n",
        "        #print('two:',N, sorted_score, sorted_board)\n",
        "        for i in range(N, len(leader_board)):\n",
        "            if sorted_score[i] < sorted_score[N-1]:\n",
        "                return sorted_board[0:i]\n",
        "        return sorted_board\n",
        "    def driver():\n",
        "        leader_board , leader_peptide , parent_mass = [[]] , [] , max(spectrum) \n",
        "        while leader_board:\n",
        "            expand(leader_board)\n",
        "            remove = []\n",
        "            for peptide in leader_board:\n",
        "                if sum(peptide) == parent_mass:\n",
        "                    #print(peptide, score(peptide))\n",
        "                    if score(peptide) > score(leader_peptide):\n",
        "                        leader_peptide = peptide.copy()\n",
        "                elif sum(peptide) > parent_mass:\n",
        "                    remove.append(peptide)\n",
        "            for peptide in remove:\n",
        "                leader_board.remove(peptide)\n",
        "            #print('before', leader_board)\n",
        "            leader_board = trim(leader_board)\n",
        "            #print('after', leader_board)\n",
        "            #print(leader_peptide)\n",
        "        return leader_peptide\n",
        "    return driver()"
      ],
      "execution_count": 0,
      "outputs": []
    },
    {
      "cell_type": "code",
      "metadata": {
        "id": "1D5oQ8xxQs4a",
        "colab_type": "code",
        "outputId": "85c30941-4425-47c6-801c-b87ec484d687",
        "colab": {
          "base_uri": "https://localhost:8080/",
          "height": 34
        }
      },
      "source": [
        "peptide = leaderboard_seq(10,[0 ,71 ,113 ,129 ,147 ,200 ,218 ,260 ,313 ,331 ,347 ,389 ,460])\n",
        "print('-'.join([str(acid) for acid in peptide]))\n",
        "    "
      ],
      "execution_count": 0,
      "outputs": [
        {
          "output_type": "stream",
          "text": [
            "71-147-113-129\n"
          ],
          "name": "stdout"
        }
      ]
    },
    {
      "cell_type": "markdown",
      "metadata": {
        "id": "Iw_Coxz1p8Wx",
        "colab_type": "text"
      },
      "source": [
        "# Implement ConvolutionCyclopeptideSequencing"
      ]
    },
    {
      "cell_type": "code",
      "metadata": {
        "id": "4UexfpEMp9CM",
        "colab_type": "code",
        "colab": {}
      },
      "source": [
        "def convolution_seq(M, N, spectrum):\n",
        "    \n",
        "    def expand(leader_board,acids):\n",
        "        n = len(leader_board)\n",
        "        for _ in range(n):\n",
        "            peptide = leader_board.pop(0)\n",
        "            for m in acids:\n",
        "                leader_board.append(peptide + [m])\n",
        "    def cyclo_spectrum(peptide):\n",
        "        cyclic , t_spectrum = peptide + peptide , [0, sum(peptide)]\n",
        "        for pos in range(len(peptide)):\n",
        "            for k in range(1, len(peptide)):\n",
        "                t_spectrum.append(sum(cyclic[pos:k]))\n",
        "        return t_spectrum\n",
        "    def linear_spectrum(peptide):\n",
        "        t_spectrum = [0]\n",
        "        n = len(peptide)\n",
        "        for k in range(1,n+1):\n",
        "            for idx in range(n-k+1):\n",
        "                t_spectrum.append(sum(peptide[idx:idx+k]))\n",
        "        return t_spectrum\n",
        "\n",
        "    def score(peptide):\n",
        "        if not peptide: return 0\n",
        "        t_spectrum , score = cyclo_spectrum(peptide) , 0\n",
        "        for mass in spectrum:\n",
        "            if mass in t_spectrum:\n",
        "                score += 1\n",
        "                t_spectrum.remove(mass)\n",
        "        return score\n",
        "    def trim_score(peptide):\n",
        "        t_spectrum , score = linear_spectrum(peptide) , 0\n",
        "        for mass in spectrum:\n",
        "            if mass in t_spectrum:\n",
        "                score += 1\n",
        "                t_spectrum.remove(mass)\n",
        "        return score\n",
        "\n",
        "\n",
        "    def trim(leader_board):\n",
        "        scores = [trim_score(peptide) for peptide in leader_board]\n",
        "        index = sorted(range(len(scores)), key = lambda i: scores[i], reverse = True)\n",
        "        sorted_score = [scores[i] for i in index]\n",
        "        sorted_board = [leader_board[i] for i in index]\n",
        "        #print('two:',N, sorted_score, sorted_board)\n",
        "        for i in range(N, len(leader_board)):\n",
        "            if sorted_score[i] < sorted_score[N-1]:\n",
        "                return sorted_board[0:i]\n",
        "        return sorted_board\n",
        "    def convolution():\n",
        "        n = len(spectrum)\n",
        "        cnt = defaultdict(int)\n",
        "        for i in range(n):\n",
        "            for j in range(n):\n",
        "                if 57 <= spectrum[i]-spectrum[j] <= 200:\n",
        "                    cnt[spectrum[i]-spectrum[j]] += 1\n",
        "        sorted_acid = sorted(cnt.items(), key=lambda x: x[1], reverse=True)\n",
        "        for i in range(M, len(sorted_acid)):\n",
        "            _, c = sorted_acid[i]\n",
        "            if c < sorted_acid[M-1][1]:\n",
        "                sorted_acid = sorted_acid[0:i]\n",
        "                break\n",
        "        return [m for m,_ in sorted_acid]\n",
        "\n",
        "\n",
        "\n",
        "    def driver():\n",
        "        leader_board , leader_peptide , acids , parent_mass = [[]] , [] , convolution() , max(spectrum) \n",
        "        #print(acids)\n",
        "        while leader_board:\n",
        "            expand(leader_board,acids)\n",
        "            remove = []\n",
        "            for peptide in leader_board:\n",
        "                if sum(peptide) == parent_mass:\n",
        "                    #print(peptide, score(peptide))\n",
        "                    if score(peptide) > score(leader_peptide):\n",
        "                        leader_peptide = peptide.copy()\n",
        "                elif sum(peptide) > parent_mass:\n",
        "                    remove.append(peptide)\n",
        "            for peptide in remove:\n",
        "                leader_board.remove(peptide)\n",
        "            #print('before', leader_board)\n",
        "            leader_board = trim(leader_board)\n",
        "            #print('after', leader_board)\n",
        "            #print(leader_peptide)\n",
        "        return leader_peptide\n",
        "    return driver()"
      ],
      "execution_count": 0,
      "outputs": []
    },
    {
      "cell_type": "code",
      "metadata": {
        "id": "00PEt6zIqH-o",
        "colab_type": "code",
        "outputId": "0232e926-f0d9-437e-abeb-632081f388f9",
        "colab": {
          "base_uri": "https://localhost:8080/",
          "height": 34
        }
      },
      "source": [
        "peptide = convolution_seq(20,60,[57 ,57 ,71 ,99 ,129 ,137 ,170 ,186 ,194 ,208 ,228 ,265 ,285 ,299 ,307 ,323 ,356 ,364 ,394 ,422 ,493])\n",
        "print('-'.join([str(m) for m in peptide]))"
      ],
      "execution_count": 0,
      "outputs": [
        {
          "output_type": "stream",
          "text": [
            "99-71-137-57-58-71\n"
          ],
          "name": "stdout"
        }
      ]
    },
    {
      "cell_type": "markdown",
      "metadata": {
        "id": "hbK8GQ_sTb7B",
        "colab_type": "text"
      },
      "source": [
        "# Generate the Convolution of a Spectrum"
      ]
    },
    {
      "cell_type": "code",
      "metadata": {
        "id": "Q3TjUQpGXsrr",
        "colab_type": "code",
        "colab": {}
      },
      "source": [
        "def convolution_spectrum(spectrum):\n",
        "  n = len(spectrum)\n",
        "  mp = defaultdict(int)\n",
        "  for x in spectrum:\n",
        "    for y in spectrum:\n",
        "      if (x-y) > 0:\n",
        "        mp[(x-y)] += 1\n",
        "      #endif\n",
        "    #endfor\n",
        "  #endfor\n",
        "  conv_spec = sorted(mp.items(), key=lambda x: (-x[1],x[0]))\n",
        "  ans = []\n",
        "  for x,y in conv_spec:\n",
        "    ans.extend([x]*y)\n",
        "  return ans"
      ],
      "execution_count": 0,
      "outputs": []
    },
    {
      "cell_type": "code",
      "metadata": {
        "id": "6G_cggRfYfH0",
        "colab_type": "code",
        "outputId": "445b18bb-dab1-4958-fb0b-e8efcae58e58",
        "colab": {
          "base_uri": "https://localhost:8080/",
          "height": 34
        }
      },
      "source": [
        "print(*convolution_spectrum([0,137,186,323]))"
      ],
      "execution_count": 0,
      "outputs": [
        {
          "output_type": "stream",
          "text": [
            "137 137 186 186 49 323\n"
          ],
          "name": "stdout"
        }
      ]
    },
    {
      "cell_type": "markdown",
      "metadata": {
        "id": "IN46q1yNmGZT",
        "colab_type": "text"
      },
      "source": [
        "#Generate the Theoretical Spectrum of a Linear Peptide"
      ]
    },
    {
      "cell_type": "code",
      "metadata": {
        "id": "YInCntOoa6J4",
        "colab_type": "code",
        "colab": {}
      },
      "source": [
        "def linear_spectrum(peptide):\n",
        "  arr = [amino_acid[ch] for ch in peptide]\n",
        "  ans = [0]\n",
        "  for k in range(1, len(peptide)+1):\n",
        "    for idx in range(len(peptide)-k+1):\n",
        "      ans.append(sum(arr[idx:idx+k:]))\n",
        "    #endfor\n",
        "  #endfor\n",
        "  return sorted(ans)"
      ],
      "execution_count": 0,
      "outputs": []
    },
    {
      "cell_type": "code",
      "metadata": {
        "id": "qsSfevG5pCLr",
        "colab_type": "code",
        "outputId": "8fcb6e80-0cc5-44cb-bb8d-9635b3f1688a",
        "colab": {
          "base_uri": "https://localhost:8080/",
          "height": 34
        }
      },
      "source": [
        "print(*linear_spectrum('NQEL'))"
      ],
      "execution_count": 0,
      "outputs": [
        {
          "output_type": "stream",
          "text": [
            "0 113 114 128 129 242 242 257 370 371 484\n"
          ],
          "name": "stdout"
        }
      ]
    },
    {
      "cell_type": "markdown",
      "metadata": {
        "id": "SXU4PR68s4XR",
        "colab_type": "text"
      },
      "source": [
        "#Compute the Score of a Linear Peptide"
      ]
    },
    {
      "cell_type": "code",
      "metadata": {
        "id": "E6Ce5nOUpKNA",
        "colab_type": "code",
        "colab": {}
      },
      "source": [
        "def linear_spectrum_score(peptide, experiment):\n",
        "  theoretical = linear_spectrum(peptide)\n",
        "  cnt = Counter(experiment)\n",
        "  score = 0\n",
        "  for key in theoretical:\n",
        "    if cnt[key] > 0:\n",
        "      score += 1\n",
        "      cnt[key] -= 1\n",
        "    #endif\n",
        "  #endfor\n",
        "  return score"
      ],
      "execution_count": 0,
      "outputs": []
    },
    {
      "cell_type": "code",
      "metadata": {
        "id": "jYmSSsYStZOG",
        "colab_type": "code",
        "outputId": "29f75b53-c861-4797-be5d-85cb895eaec4",
        "colab": {
          "base_uri": "https://localhost:8080/",
          "height": 34
        }
      },
      "source": [
        "linear_spectrum_score('NQEL',[0, 99, 113, 114, 128, 227, 257, 299, 355, 356, 370, 371, 484])"
      ],
      "execution_count": 0,
      "outputs": [
        {
          "output_type": "execute_result",
          "data": {
            "text/plain": [
              "8"
            ]
          },
          "metadata": {
            "tags": []
          },
          "execution_count": 37
        }
      ]
    },
    {
      "cell_type": "markdown",
      "metadata": {
        "id": "UVs0wSvcx1Jo",
        "colab_type": "text"
      },
      "source": [
        "#Trim a Peptide Leaderboard"
      ]
    },
    {
      "cell_type": "code",
      "metadata": {
        "id": "H1d3ypf_wyP_",
        "colab_type": "code",
        "colab": {}
      },
      "source": [
        "def trim(peptides, spectrum, k):\n",
        "  mp = {}\n",
        "  for peptide in peptides:\n",
        "    mp[peptide] = linear_spectrum_score(peptide, spectrum)\n",
        "  #endfor\n",
        "  peptide_list = sorted(mp.items(), key=lambda x: -x[1])\n",
        "  idx = k-1\n",
        "  last_score = peptide_list[idx][1]\n",
        "  for i in range(k, len(peptide_list)):\n",
        "    _,score = peptide_list[i]\n",
        "    if last_score == score:\n",
        "      idx+=1\n",
        "    else:\n",
        "      break\n",
        "  #endfor\n",
        "  return [x for x,y in peptide_list[0:idx+1]]\n"
      ],
      "execution_count": 0,
      "outputs": []
    },
    {
      "cell_type": "code",
      "metadata": {
        "id": "zvWNzeAZxh_q",
        "colab_type": "code",
        "outputId": "b3d97c13-4823-4f75-ad0a-ac8425e6413b",
        "colab": {
          "base_uri": "https://localhost:8080/",
          "height": 34
        }
      },
      "source": [
        "print(*trim(['LAST','ALST','TLLT','TQAS'], [0,71,87,101,113,158,184,188,259,271,372],2))"
      ],
      "execution_count": 0,
      "outputs": [
        {
          "output_type": "stream",
          "text": [
            "LAST ALST\n"
          ],
          "name": "stdout"
        }
      ]
    }
  ]
}