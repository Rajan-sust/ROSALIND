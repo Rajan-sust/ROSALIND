{
  "nbformat": 4,
  "nbformat_minor": 0,
  "metadata": {
    "colab": {
      "name": "Chapter_2.ipynb",
      "provenance": [],
      "collapsed_sections": []
    },
    "kernelspec": {
      "name": "python3",
      "display_name": "Python 3"
    }
  },
  "cells": [
    {
      "cell_type": "code",
      "metadata": {
        "id": "-LMIkTLQKOkN",
        "colab_type": "code",
        "colab": {}
      },
      "source": [
        "from collections import defaultdict\n",
        "import copy"
      ],
      "execution_count": 0,
      "outputs": []
    },
    {
      "cell_type": "markdown",
      "metadata": {
        "id": "rDutziSY4D2A",
        "colab_type": "text"
      },
      "source": [
        "# Implement MotifEnumeration"
      ]
    },
    {
      "cell_type": "code",
      "metadata": {
        "id": "d4cuWwCQ2s91",
        "colab_type": "code",
        "colab": {}
      },
      "source": [
        "def hamming_distance(seq1, seq2):\n",
        "  return sum(1 for idx,ch in enumerate(seq1) if seq2[idx] != ch)"
      ],
      "execution_count": 0,
      "outputs": []
    },
    {
      "cell_type": "code",
      "metadata": {
        "id": "xHgoMrxI4Bed",
        "colab_type": "code",
        "colab": {}
      },
      "source": [
        "def is_ok(seq, motif, k, d):\n",
        "  return any(hamming_distance(seq[idx:idx+k],motif) <= d  for idx in range(len(seq) - k + 1))\n"
      ],
      "execution_count": 0,
      "outputs": []
    },
    {
      "cell_type": "code",
      "metadata": {
        "id": "oSmH5Bj16tPx",
        "colab_type": "code",
        "colab": {}
      },
      "source": [
        "from itertools import product"
      ],
      "execution_count": 0,
      "outputs": []
    },
    {
      "cell_type": "code",
      "metadata": {
        "id": "Dw72i4eI4Bhp",
        "colab_type": "code",
        "colab": {}
      },
      "source": [
        "def motif_enumeration(k, d, Dna):\n",
        "  all_k_mers = [''.join(k_mer) for k_mer in product('ACGT', repeat=k)]\n",
        "  ans = []\n",
        "  for k_mer in all_k_mers:\n",
        "    if all(is_ok(s,k_mer, k, d) for s in Dna):\n",
        "      ans.append(k_mer)\n",
        "    #endif\n",
        "  #endfor\n",
        "  return ans"
      ],
      "execution_count": 0,
      "outputs": []
    },
    {
      "cell_type": "code",
      "metadata": {
        "id": "wIeK9vrh4BcX",
        "colab_type": "code",
        "outputId": "df399837-3243-4a4e-a409-b3afa4ee7e21",
        "colab": {
          "base_uri": "https://localhost:8080/",
          "height": 34
        }
      },
      "source": [
        "print(*motif_enumeration(3, 1 , ['ATTTGGC','TGCCTTA','CGGTATC','GAAAATT']))"
      ],
      "execution_count": 0,
      "outputs": [
        {
          "output_type": "stream",
          "text": [
            "ATA ATT GTT TTT\n"
          ],
          "name": "stdout"
        }
      ]
    },
    {
      "cell_type": "markdown",
      "metadata": {
        "id": "04Bu-hGv8smQ",
        "colab_type": "text"
      },
      "source": [
        "# Find a Median String"
      ]
    },
    {
      "cell_type": "code",
      "metadata": {
        "id": "Gzv8mx8x-17X",
        "colab_type": "code",
        "colab": {}
      },
      "source": [
        "def score_calculate(k, k_mer, Dna):\n",
        "  score = 0\n",
        "  for d in Dna:\n",
        "    all_substring = [d[idx:idx+k] for idx in range(len(d) - k + 1)]\n",
        "    score += min(hamming_distance(k_mer, s) for s in all_substring)\n",
        "  #endfor\n",
        "  return score\n"
      ],
      "execution_count": 0,
      "outputs": []
    },
    {
      "cell_type": "code",
      "metadata": {
        "id": "42XeYlMy-2ND",
        "colab_type": "code",
        "colab": {}
      },
      "source": [
        "def find_median(k, Dna):\n",
        "  k_mers = [''.join(x) for x in product('ACGT', repeat=k)]\n",
        "  scores = [(k_mer, score_calculate(k, k_mer, Dna)) for k_mer in k_mers]\n",
        "  return min(scores, key = lambda x: x[1])[0]"
      ],
      "execution_count": 0,
      "outputs": []
    },
    {
      "cell_type": "code",
      "metadata": {
        "id": "otigqdgzBn2x",
        "colab_type": "code",
        "outputId": "ecd01f4a-22c1-4480-86e7-835d6f490001",
        "colab": {
          "base_uri": "https://localhost:8080/",
          "height": 34
        }
      },
      "source": [
        "print(find_median(3, ['AAATTGACGCAT','GACGACCACGTT','CGTCAGCGCCTG','GCTGAGCACCGG','AGTACGGGACAG']))"
      ],
      "execution_count": 0,
      "outputs": [
        {
          "output_type": "stream",
          "text": [
            "ACG\n"
          ],
          "name": "stdout"
        }
      ]
    },
    {
      "cell_type": "markdown",
      "metadata": {
        "id": "jUUmo57p93P6",
        "colab_type": "text"
      },
      "source": [
        "# Find a Profile-most Probable k-mer in a String"
      ]
    },
    {
      "cell_type": "code",
      "metadata": {
        "id": "LdOoTjp5B8Ed",
        "colab_type": "code",
        "colab": {}
      },
      "source": [
        "def get_most_probable_k_mer(seq, k, profile_matrix):\n",
        "  mp = {'A' : 0, 'C' : 1, 'G' : 2, 'T' : 3}\n",
        "  ans = []\n",
        "  for idx in range(len(seq)-k+1):\n",
        "    s = seq[idx:idx+k]\n",
        "    score = 1.0\n",
        "    for col, ch in enumerate(s):\n",
        "      row = mp[ch]\n",
        "      score *= profile_matrix[row][col]\n",
        "    #endfor\n",
        "    ans.append((score, idx))\n",
        "  #endfor\n",
        "  \n",
        "  score, index = max(ans, key = lambda x: (x[0], -x[1]))\n",
        "  return seq[index:index+k]"
      ],
      "execution_count": 0,
      "outputs": []
    },
    {
      "cell_type": "code",
      "metadata": {
        "id": "fLe20v4pAJfM",
        "colab_type": "code",
        "outputId": "56e9a72e-c3bf-43bf-9044-a982d9d1ae72",
        "colab": {
          "base_uri": "https://localhost:8080/",
          "height": 34
        }
      },
      "source": [
        "print(get_most_probable_k_mer('ACCTGTTTATTGCCTAAGTTCCGAACAAACCCAATATAGCCCGAGGGCCT', 5, [[0.2, 0.2, 0.3, 0.2, 0.3],[0.4, 0.3, 0.1, 0.5, 0.1],[0.3, 0.3, 0.5, 0.2, 0.4],[0.1, 0.2, 0.1, 0.1 ,0.2]]))"
      ],
      "execution_count": 0,
      "outputs": [
        {
          "output_type": "stream",
          "text": [
            "CCGAG\n"
          ],
          "name": "stdout"
        }
      ]
    },
    {
      "cell_type": "markdown",
      "metadata": {
        "id": "QJo5SJdWu-vW",
        "colab_type": "text"
      },
      "source": [
        "# Implement GreedyMotifSearch"
      ]
    },
    {
      "cell_type": "code",
      "metadata": {
        "id": "dWWRgkWfvKPn",
        "colab_type": "code",
        "colab": {}
      },
      "source": [
        "def calculate_motif_set_score(t, k, motif_set):\n",
        "  score = 0\n",
        "  for idx in range(k):\n",
        "    mp = defaultdict(int)\n",
        "    for s in motif_set:\n",
        "      mp[s[idx]] += 1\n",
        "    score += (t - max([val for key,val in mp.items()]))\n",
        "  return score"
      ],
      "execution_count": 0,
      "outputs": []
    },
    {
      "cell_type": "code",
      "metadata": {
        "id": "iZYT3xX_vKiR",
        "colab_type": "code",
        "colab": {}
      },
      "source": [
        "def get_profile(k, motifs):\n",
        "  t = len(motifs)\n",
        "\n",
        "  profile = [[], [], [], []]\n",
        "  mp = {'A' : 0, 'C' : 1, 'G' : 2, 'T' : 3}\n",
        "  for i in range(k):\n",
        "    for key in mp:\n",
        "      val = sum(1 for x in motifs if x[i] == key)\n",
        "      profile[mp[key]].append(val/t)\n",
        "    #endfor\n",
        "  #endfor\n",
        "  return profile"
      ],
      "execution_count": 0,
      "outputs": []
    },
    {
      "cell_type": "code",
      "metadata": {
        "id": "EB_LPFVBvKq3",
        "colab_type": "code",
        "colab": {}
      },
      "source": [
        "def find_and_add_in_motif(k, seq, temp_motifs):\n",
        "  profile = get_profile(k, temp_motifs)\n",
        "  temp_motifs.append(get_most_probable_k_mer(seq, k, profile))\n"
      ],
      "execution_count": 0,
      "outputs": []
    },
    {
      "cell_type": "code",
      "metadata": {
        "id": "svVrXYdNvK3x",
        "colab_type": "code",
        "colab": {}
      },
      "source": [
        "def greedy_motif_search(k, t, Dna):\n",
        "  best_motifs = [d[0:k] for d in Dna]\n",
        "  print()\n",
        "  for idx in range(len(Dna[0]) - k +1):\n",
        "    k_mer = Dna[0][idx:idx+k]\n",
        "    temp_motifs = [k_mer]\n",
        "    for i in range(1,t):\n",
        "      find_and_add_in_motif(k, Dna[i], temp_motifs)\n",
        "    if calculate_motif_set_score(t, k, best_motifs) > calculate_motif_set_score(t, k, temp_motifs):\n",
        "      best_motifs = copy.copy(temp_motifs)\n",
        "    #endfor\n",
        "  #endfor\n",
        "  return best_motifs\n"
      ],
      "execution_count": 0,
      "outputs": []
    },
    {
      "cell_type": "code",
      "metadata": {
        "id": "_pTdMHIBvK_H",
        "colab_type": "code",
        "outputId": "bb7979c0-4c2f-4ccc-eb66-257cfabc9137",
        "colab": {
          "base_uri": "https://localhost:8080/",
          "height": 34
        }
      },
      "source": [
        "ans = greedy_motif_search(3,5,['GGCGTTCAGGCA','AAGAATCAGTCA','CAAGGAGTTCGC','CACGTCAATCAC','CAATAATATTCG'])"
      ],
      "execution_count": 0,
      "outputs": [
        {
          "output_type": "stream",
          "text": [
            "\n"
          ],
          "name": "stdout"
        }
      ]
    },
    {
      "cell_type": "code",
      "metadata": {
        "id": "9NVqjng_4mmR",
        "colab_type": "code",
        "outputId": "0b42e010-d07b-4192-a672-2d1ff891f8bc",
        "colab": {
          "base_uri": "https://localhost:8080/",
          "height": 102
        }
      },
      "source": [
        "for x in ans:\n",
        "  print(x)"
      ],
      "execution_count": 0,
      "outputs": [
        {
          "output_type": "stream",
          "text": [
            "CAG\n",
            "CAG\n",
            "CAA\n",
            "CAA\n",
            "CAA\n"
          ],
          "name": "stdout"
        }
      ]
    },
    {
      "cell_type": "markdown",
      "metadata": {
        "id": "yyolOpItMYjJ",
        "colab_type": "text"
      },
      "source": [
        "# Implement GreedyMotifSearch with Pseudocounts"
      ]
    },
    {
      "cell_type": "code",
      "metadata": {
        "id": "LFIJv8EVQC0M",
        "colab_type": "code",
        "colab": {}
      },
      "source": [
        "def get_profile_with_pseudo(k, motifs):\n",
        "  t = len(motifs)\n",
        "\n",
        "  profile = [[], [], [], []]\n",
        "  mp = {'A' : 0, 'C' : 1, 'G' : 2, 'T' : 3}\n",
        "  for i in range(k):\n",
        "    for key in mp:\n",
        "      val = sum(1 for x in motifs if x[i] == key)\n",
        "      val += 1\n",
        "      profile[mp[key]].append(val/(t+4))\n",
        "    #endfor\n",
        "  #endfor\n",
        "  return profile"
      ],
      "execution_count": 0,
      "outputs": []
    },
    {
      "cell_type": "code",
      "metadata": {
        "id": "lA13Lrt7QDCh",
        "colab_type": "code",
        "colab": {}
      },
      "source": [
        "def find_and_add_in_motif_pseudo(k, seq, temp_motifs):\n",
        "  profile = get_profile_with_pseudo(k, temp_motifs)\n",
        "  temp_motifs.append(get_most_probable_k_mer(seq, k, profile))"
      ],
      "execution_count": 0,
      "outputs": []
    },
    {
      "cell_type": "code",
      "metadata": {
        "id": "ONTsEhA1QDNK",
        "colab_type": "code",
        "colab": {}
      },
      "source": [
        "def greedy_motif_search_with_pseudo(k, t, Dna):\n",
        "  best_motifs = [d[0:k] for d in Dna]\n",
        "  print()\n",
        "  for idx in range(len(Dna[0]) - k +1):\n",
        "    k_mer = Dna[0][idx:idx+k]\n",
        "    temp_motifs = [k_mer]\n",
        "    for i in range(1,t):\n",
        "      find_and_add_in_motif_pseudo(k, Dna[i], temp_motifs)\n",
        "    if calculate_motif_set_score(t, k, best_motifs) > calculate_motif_set_score(t, k, temp_motifs):\n",
        "      best_motifs = copy.copy(temp_motifs)\n",
        "    #endfor\n",
        "  #endfor\n",
        "  return best_motifs"
      ],
      "execution_count": 0,
      "outputs": []
    },
    {
      "cell_type": "code",
      "metadata": {
        "id": "Q3m9FgYrRUb8",
        "colab_type": "code",
        "outputId": "8563ef9a-e103-48b3-c7a4-2fccea87d0d5",
        "colab": {
          "base_uri": "https://localhost:8080/",
          "height": 34
        }
      },
      "source": [
        "ans = greedy_motif_search_with_pseudo(3,5,['GGCGTTCAGGCA','AAGAATCAGTCA','CAAGGAGTTCGC','CACGTCAATCAC','CAATAATATTCG'])\n"
      ],
      "execution_count": 0,
      "outputs": [
        {
          "output_type": "stream",
          "text": [
            "\n"
          ],
          "name": "stdout"
        }
      ]
    },
    {
      "cell_type": "code",
      "metadata": {
        "id": "0CaGYsdeRc41",
        "colab_type": "code",
        "outputId": "051a783a-dfdf-4883-de88-1568484bf0dd",
        "colab": {
          "base_uri": "https://localhost:8080/",
          "height": 102
        }
      },
      "source": [
        "for x in ans:\n",
        "  print(x)"
      ],
      "execution_count": 0,
      "outputs": [
        {
          "output_type": "stream",
          "text": [
            "TTC\n",
            "ATC\n",
            "TTC\n",
            "ATC\n",
            "TTC\n"
          ],
          "name": "stdout"
        }
      ]
    },
    {
      "cell_type": "markdown",
      "metadata": {
        "id": "O11ji-uOglfM",
        "colab_type": "text"
      },
      "source": [
        "# Implement RandomizedMotifSearch "
      ]
    },
    {
      "cell_type": "code",
      "metadata": {
        "id": "g8jHj3v9RpJm",
        "colab_type": "code",
        "colab": {}
      },
      "source": [
        "import random\n",
        "random.seed(31)"
      ],
      "execution_count": 0,
      "outputs": []
    },
    {
      "cell_type": "code",
      "metadata": {
        "id": "YQFiGI4Agy7g",
        "colab_type": "code",
        "colab": {}
      },
      "source": [
        "def random_motif_search(Dna, k, t):\n",
        "  n = len(Dna[0])\n",
        "  motifs = []\n",
        "  for idx,motif in enumerate(Dna):\n",
        "    r = random.randint(0,n-k)\n",
        "    motifs.append(motif[r:r+k])\n",
        "  #endfor\n",
        "  while True:\n",
        "    profile = get_profile_with_pseudo(k, motifs)\n",
        "    temp = [get_most_probable_k_mer(x, k, profile) for x in Dna]\n",
        "    if calculate_motif_set_score(t, k, motifs) > calculate_motif_set_score(t, k, temp):\n",
        "      motifs = temp.copy()\n",
        "    else:\n",
        "      return motifs\n",
        "  #endwhile"
      ],
      "execution_count": 0,
      "outputs": []
    },
    {
      "cell_type": "code",
      "metadata": {
        "id": "9lQAcdg7ibgm",
        "colab_type": "code",
        "colab": {}
      },
      "source": [
        "score = 100000000000000000\n",
        "ans = None"
      ],
      "execution_count": 0,
      "outputs": []
    },
    {
      "cell_type": "code",
      "metadata": {
        "id": "LXTZfj-okE6S",
        "colab_type": "code",
        "colab": {}
      },
      "source": [
        "for _ in range(1000):\n",
        "  motif_set = random_motif_search(['CGCCCCTCTCGGGGGTGTTCAGTAAACGGCCA','GGGCGAGGTATGTGTAAGTGCCAAGGTGCCAG','TAGTACCGAGACCGAAAGAAGTATACAGGCGT','TAGATCAAGTTTCAGGTGCACGTCGGTGAACC', 'AATCCACCAGCTCCACGTGCAATGTTGGCCTA'], 8, 5)\n",
        "  if score > calculate_motif_set_score(5, 8, motif_set):\n",
        "    score = calculate_motif_set_score(5, 8, motif_set)\n",
        "    ans = motif_set.copy()"
      ],
      "execution_count": 0,
      "outputs": []
    },
    {
      "cell_type": "code",
      "metadata": {
        "id": "qBt8Xs5wkJag",
        "colab_type": "code",
        "outputId": "bef36cce-2f60-458c-f56e-93101fbbe4df",
        "colab": {
          "base_uri": "https://localhost:8080/",
          "height": 102
        }
      },
      "source": [
        "for x in ans:\n",
        "  print(x)"
      ],
      "execution_count": 0,
      "outputs": [
        {
          "output_type": "stream",
          "text": [
            "TCTCGGGG\n",
            "CCAAGGTG\n",
            "TACAGGCG\n",
            "TTCAGGTG\n",
            "TCCACGTG\n"
          ],
          "name": "stdout"
        }
      ]
    },
    {
      "cell_type": "markdown",
      "metadata": {
        "id": "Fqs8lENo_x0y",
        "colab_type": "text"
      },
      "source": [
        "# Implement GibbsSampler"
      ]
    },
    {
      "cell_type": "code",
      "metadata": {
        "id": "FiSFx_5h_1w1",
        "colab_type": "code",
        "colab": {}
      },
      "source": [
        ""
      ],
      "execution_count": 0,
      "outputs": []
    },
    {
      "cell_type": "code",
      "metadata": {
        "id": "uJGYqbH0_2Y_",
        "colab_type": "code",
        "colab": {}
      },
      "source": [
        ""
      ],
      "execution_count": 0,
      "outputs": []
    },
    {
      "cell_type": "code",
      "metadata": {
        "id": "voGO8Jj2_2hC",
        "colab_type": "code",
        "colab": {}
      },
      "source": [
        "def get_profile_for_gibs(k, i, motifs):\n",
        "  \n",
        "  del motifs[i]\n",
        "  t = len(motifs)\n",
        "\n",
        "  profile = [[], [], [], []]\n",
        "  mp = {'A' : 0, 'C' : 1, 'G' : 2, 'T' : 3}\n",
        "  for i in range(k):\n",
        "    for key in mp:\n",
        "      val = sum(1 for x in motifs if x[i] == key)\n",
        "      val += 1\n",
        "      profile[mp[key]].append(val/(t+4))\n",
        "    #endfor\n",
        "  #endfor\n",
        "  return profile"
      ],
      "execution_count": 0,
      "outputs": []
    },
    {
      "cell_type": "code",
      "metadata": {
        "id": "wB5uXEOp_2rO",
        "colab_type": "code",
        "colab": {}
      },
      "source": [
        "def gibss_sampler(k, t, N, Dna):\n",
        "  n = len(Dna[0])\n",
        "  motifs = []\n",
        "  for idx,motif in enumerate(Dna):\n",
        "    r = random.randint(0,n-k)\n",
        "    motifs.append(motif[r:r+k])\n",
        "  #endfor\n",
        "  for _ in range(N):\n",
        "    i = random.randint(0, len(motifs)-1)\n",
        "    profile = get_profile_for_gibs(k, i, motifs.copy())\n",
        "    temp = motifs.copy()\n",
        "    temp[i] = get_most_probable_k_mer(Dna[i], k, profile)\n",
        "    if(calculate_motif_set_score(t, k, temp) < calculate_motif_set_score(t, k, motifs)):\n",
        "      motifs = temp.copy()\n",
        "  #endfor\n",
        "  return motifs"
      ],
      "execution_count": 0,
      "outputs": []
    },
    {
      "cell_type": "code",
      "metadata": {
        "id": "8FQX2UzGAsD3",
        "colab_type": "code",
        "colab": {}
      },
      "source": [
        "ans = gibss_sampler(8,5,100,['CGCCCCTCTCGGGGGTGTTCAGTAAACGGCCA','GGGCGAGGTATGTGTAAGTGCCAAGGTGCCAG','TAGTACCGAGACCGAAAGAAGTATACAGGCGT','TAGATCAAGTTTCAGGTGCACGTCGGTGAACC', 'AATCCACCAGCTCCACGTGCAATGTTGGCCTA'])"
      ],
      "execution_count": 0,
      "outputs": []
    },
    {
      "cell_type": "code",
      "metadata": {
        "id": "guz-oTodF9rG",
        "colab_type": "code",
        "outputId": "4c71fab2-8cb5-47ac-d78c-7a0b92602e44",
        "colab": {
          "base_uri": "https://localhost:8080/",
          "height": 102
        }
      },
      "source": [
        "for x in ans:\n",
        "  print(x)"
      ],
      "execution_count": 0,
      "outputs": [
        {
          "output_type": "stream",
          "text": [
            "GTAAACGG\n",
            "GTGTAAGT\n",
            "ATACAGGC\n",
            "GTGCACGT\n",
            "CTCCACGT\n"
          ],
          "name": "stdout"
        }
      ]
    },
    {
      "cell_type": "markdown",
      "metadata": {
        "id": "sLC8arfyoB5h",
        "colab_type": "text"
      },
      "source": [
        "# Implement DistanceBetweenPatternAndStrings"
      ]
    },
    {
      "cell_type": "code",
      "metadata": {
        "id": "pIDI5uYvkWWm",
        "colab_type": "code",
        "colab": {}
      },
      "source": [
        "def calculate_total_distance(pattern, Dna):\n",
        "  k = len(pattern)\n",
        "  distance = 0\n",
        "  for s in Dna:\n",
        "    distance += min(hamming_distance(pattern, s[i:i+k]) for i in range(len(s)-k+1))\n",
        "  return distance"
      ],
      "execution_count": 0,
      "outputs": []
    },
    {
      "cell_type": "code",
      "metadata": {
        "id": "Q1RD_Pxpplaq",
        "colab_type": "code",
        "outputId": "0bc2f896-1944-4473-dd41-ce55a9baedea",
        "colab": {
          "base_uri": "https://localhost:8080/",
          "height": 34
        }
      },
      "source": [
        "calculate_total_distance('AAA', ['TTACCTTAAC','GATATCTGTC','ACGGCGTTCG','CCCTAAAGAG','CGTCAGAGGT'])"
      ],
      "execution_count": 0,
      "outputs": [
        {
          "output_type": "execute_result",
          "data": {
            "text/plain": [
              "5"
            ]
          },
          "metadata": {
            "tags": []
          },
          "execution_count": 86
        }
      ]
    }
  ]
}