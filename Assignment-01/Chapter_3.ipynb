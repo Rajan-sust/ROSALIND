{
  "nbformat": 4,
  "nbformat_minor": 0,
  "metadata": {
    "colab": {
      "name": "Chapter_3.ipynb",
      "provenance": [],
      "collapsed_sections": []
    },
    "kernelspec": {
      "name": "python3",
      "display_name": "Python 3"
    }
  },
  "cells": [
    {
      "cell_type": "markdown",
      "metadata": {
        "id": "MUI0RJA8sAdZ",
        "colab_type": "text"
      },
      "source": [
        "###  Generate the k-mer Composition of a String"
      ]
    },
    {
      "cell_type": "code",
      "metadata": {
        "id": "_Htlx0IGr6Bo",
        "colab_type": "code",
        "colab": {}
      },
      "source": [
        "def generate_composition(k, text):\n",
        "  return [text[idx:idx+k] for idx in range(len(text) - k + 1)]"
      ],
      "execution_count": 0,
      "outputs": []
    },
    {
      "cell_type": "code",
      "metadata": {
        "id": "z6pJO64Er_tj",
        "colab_type": "code",
        "outputId": "5e77c75b-42d0-4e37-eda9-d38abbe08820",
        "colab": {
          "base_uri": "https://localhost:8080/",
          "height": 102
        }
      },
      "source": [
        "ans = generate_composition(5,'CAATCCAAC')\n",
        "for x in ans:\n",
        "  print(x)"
      ],
      "execution_count": 121,
      "outputs": [
        {
          "output_type": "stream",
          "text": [
            "CAATC\n",
            "AATCC\n",
            "ATCCA\n",
            "TCCAA\n",
            "CCAAC\n"
          ],
          "name": "stdout"
        }
      ]
    },
    {
      "cell_type": "markdown",
      "metadata": {
        "id": "aNkXRj_wuNaY",
        "colab_type": "text"
      },
      "source": [
        "### Reconstruct a String from its Genome Path"
      ]
    },
    {
      "cell_type": "code",
      "metadata": {
        "id": "GLsR4vwSr_1O",
        "colab_type": "code",
        "colab": {}
      },
      "source": [
        "def construct(path):\n",
        "  ans = ''\n",
        "  for idx, p in enumerate(path):\n",
        "    if idx == 0:\n",
        "      ans += p\n",
        "    else:\n",
        "      ans += p[-1]\n",
        "  #endfor\n",
        "  return ans\n"
      ],
      "execution_count": 0,
      "outputs": []
    },
    {
      "cell_type": "code",
      "metadata": {
        "id": "W_RUKNDhr_4F",
        "colab_type": "code",
        "outputId": "5a763f5d-0f93-48a2-8ec0-13f2fa221fb7",
        "colab": {
          "base_uri": "https://localhost:8080/",
          "height": 34
        }
      },
      "source": [
        "print(construct(['ACCGA','CCGAA','CGAAG','GAAGC','AAGCT']))"
      ],
      "execution_count": 123,
      "outputs": [
        {
          "output_type": "stream",
          "text": [
            "ACCGAAGCT\n"
          ],
          "name": "stdout"
        }
      ]
    },
    {
      "cell_type": "markdown",
      "metadata": {
        "id": "DU8VKGuvwZfm",
        "colab_type": "text"
      },
      "source": [
        "### Construct the Overlap Graph of a Collection of k-mers"
      ]
    },
    {
      "cell_type": "code",
      "metadata": {
        "id": "UXaqiEhMvYQu",
        "colab_type": "code",
        "colab": {}
      },
      "source": [
        "def overlap_grap(k_mers):\n",
        "  ans = []\n",
        "  for k_mer in k_mers:\n",
        "    for new_kmer in [k_mer[1::]+ch for ch in 'ACGT']:\n",
        "      if new_kmer in k_mers:\n",
        "        ans.append(k_mer + ' -> ' + new_kmer)\n",
        "      #endif\n",
        "    #endfor\n",
        "  #endfor\n",
        "  return ans\n"
      ],
      "execution_count": 0,
      "outputs": []
    },
    {
      "cell_type": "code",
      "metadata": {
        "id": "81Kg_Iy1ybHQ",
        "colab_type": "code",
        "outputId": "d06087c0-cda2-4ded-cb5d-0862d723cef2",
        "colab": {
          "base_uri": "https://localhost:8080/",
          "height": 85
        }
      },
      "source": [
        "adj_list = overlap_grap(['ATGCG','GCATG','CATGC','AGGCA','GGCAT'])\n",
        "for edge in adj_list:\n",
        "  print(edge)"
      ],
      "execution_count": 125,
      "outputs": [
        {
          "output_type": "stream",
          "text": [
            "GCATG -> CATGC\n",
            "CATGC -> ATGCG\n",
            "AGGCA -> GGCAT\n",
            "GGCAT -> GCATG\n"
          ],
          "name": "stdout"
        }
      ]
    },
    {
      "cell_type": "markdown",
      "metadata": {
        "id": "JuhZBBtd87R2",
        "colab_type": "text"
      },
      "source": [
        "# Construct the De Bruijn Graph of a String"
      ]
    },
    {
      "cell_type": "code",
      "metadata": {
        "id": "t9NeKU_A9zeD",
        "colab_type": "code",
        "colab": {}
      },
      "source": [
        "from collections import defaultdict"
      ],
      "execution_count": 0,
      "outputs": []
    },
    {
      "cell_type": "code",
      "metadata": {
        "id": "2zg6NI9vymKC",
        "colab_type": "code",
        "colab": {}
      },
      "source": [
        "def de_bruijn(k, seq):\n",
        "  all_prefix = [seq[idx:idx+k] for idx in range(len(seq)-k+1)]\n",
        "  mp = defaultdict(list)\n",
        "  for prefix in all_prefix:\n",
        "    mp[prefix[0:-1:]].append(prefix[1::])\n",
        "  return mp"
      ],
      "execution_count": 0,
      "outputs": []
    },
    {
      "cell_type": "code",
      "metadata": {
        "id": "R_HxuY2u9ckn",
        "colab_type": "code",
        "outputId": "db45924f-b851-4bfe-c029-9f45386f7f10",
        "colab": {
          "base_uri": "https://localhost:8080/",
          "height": 153
        }
      },
      "source": [
        "ans = de_bruijn(4,'AAGATTCTCTAC')\n",
        "\n",
        "for key in ans:\n",
        "  print('{} -> {}'.format(key,','.join(ans[key])))"
      ],
      "execution_count": 128,
      "outputs": [
        {
          "output_type": "stream",
          "text": [
            "AAG -> AGA\n",
            "AGA -> GAT\n",
            "GAT -> ATT\n",
            "ATT -> TTC\n",
            "TTC -> TCT\n",
            "TCT -> CTC,CTA\n",
            "CTC -> TCT\n",
            "CTA -> TAC\n"
          ],
          "name": "stdout"
        }
      ]
    },
    {
      "cell_type": "markdown",
      "metadata": {
        "id": "afU9dKQ8-dOu",
        "colab_type": "text"
      },
      "source": [
        "# Construct the De Bruijn Graph of a Collection of k-mers"
      ]
    },
    {
      "cell_type": "code",
      "metadata": {
        "id": "LJegvcpr9gng",
        "colab_type": "code",
        "colab": {}
      },
      "source": [
        "def de_bruijn_from_k_mers(k_mers):\n",
        "  mp = defaultdict(list)\n",
        "  for s in k_mers:\n",
        "    mp[s[0:-1:]].append(s[1::])\n",
        "  return mp"
      ],
      "execution_count": 0,
      "outputs": []
    },
    {
      "cell_type": "code",
      "metadata": {
        "id": "kLVrSTQGAxiM",
        "colab_type": "code",
        "outputId": "30d0d89f-65b9-45ae-e854-90302e3c4cba",
        "colab": {
          "base_uri": "https://localhost:8080/",
          "height": 102
        }
      },
      "source": [
        "ans = de_bruijn_from_k_mers(['GAGG','CAGG','GGGG','GGGA','CAGG','AGGG','GGAG'])\n",
        "\n",
        "for key in ans:\n",
        "  print('{} -> {}'.format(key,','.join(ans[key])))"
      ],
      "execution_count": 130,
      "outputs": [
        {
          "output_type": "stream",
          "text": [
            "GAG -> AGG\n",
            "CAG -> AGG,AGG\n",
            "GGG -> GGG,GGA\n",
            "AGG -> GGG\n",
            "GGA -> GAG\n"
          ],
          "name": "stdout"
        }
      ]
    },
    {
      "cell_type": "markdown",
      "metadata": {
        "id": "7wBzgxTYDwm3",
        "colab_type": "text"
      },
      "source": [
        "# Find an Eulerian Cycle in a Graph"
      ]
    },
    {
      "cell_type": "code",
      "metadata": {
        "id": "qzF5wa6gH7w7",
        "colab_type": "code",
        "colab": {}
      },
      "source": [
        "def heirholzer(adj):\n",
        "  current, circuit = [],[]\n",
        "  current.append(6)\n",
        "  while current:\n",
        "    node = current[-1]\n",
        "    if adj[node]:\n",
        "      current.append(adj[node][-1])\n",
        "      adj[node].pop()\n",
        "    else:\n",
        "      circuit.append(current.pop())\n",
        "    #endif\n",
        "  #endwhile\n",
        "  return circuit[::-1]"
      ],
      "execution_count": 0,
      "outputs": []
    },
    {
      "cell_type": "code",
      "metadata": {
        "id": "ha1m3DLbH-SO",
        "colab_type": "code",
        "colab": {}
      },
      "source": [
        "def euler_cycle(edges):\n",
        "  adj = defaultdict(list)\n",
        "  for edge in edges:\n",
        "    u , v = [e.strip() for e in edge.split('->')]\n",
        "    adj[int(u)] = [int(x) for x in v.split(',')]\n",
        "  return heirholzer(adj)"
      ],
      "execution_count": 0,
      "outputs": []
    },
    {
      "cell_type": "code",
      "metadata": {
        "id": "37TG84DYIa8L",
        "colab_type": "code",
        "colab": {}
      },
      "source": [
        "ans = euler_cycle(['0 -> 3','1 -> 0','2 -> 1,6','3 -> 2','4 -> 2','5 -> 4','6 -> 5,8','7 -> 9','8 -> 7','9 -> 6'])"
      ],
      "execution_count": 0,
      "outputs": []
    },
    {
      "cell_type": "code",
      "metadata": {
        "id": "GLL8vY-bM9Fg",
        "colab_type": "code",
        "outputId": "4f8a9d75-9595-447c-a5e8-8245ffa8d297",
        "colab": {
          "base_uri": "https://localhost:8080/",
          "height": 34
        }
      },
      "source": [
        "print('->'.join([str(node) for node in ans]))"
      ],
      "execution_count": 134,
      "outputs": [
        {
          "output_type": "stream",
          "text": [
            "6->8->7->9->6->5->4->2->1->0->3->2->6\n"
          ],
          "name": "stdout"
        }
      ]
    },
    {
      "cell_type": "markdown",
      "metadata": {
        "id": "uV15lvB1Q2WB",
        "colab_type": "text"
      },
      "source": [
        "# Find an Eulerian Path in a Graph"
      ]
    },
    {
      "cell_type": "code",
      "metadata": {
        "id": "St9IGC5FRe6H",
        "colab_type": "code",
        "colab": {}
      },
      "source": [
        "import numpy as np"
      ],
      "execution_count": 0,
      "outputs": []
    },
    {
      "cell_type": "code",
      "metadata": {
        "id": "rcxOS2fLRexY",
        "colab_type": "code",
        "colab": {}
      },
      "source": [
        "def heirholzer_with_start_node(adj, start):\n",
        "  current, circuit = [],[]\n",
        "  current.append(start)\n",
        "  while current:\n",
        "    node = current[-1]\n",
        "    if adj[node]:\n",
        "      current.append(adj[node][-1])\n",
        "      adj[node].pop()\n",
        "    else:\n",
        "      circuit.append(current.pop())\n",
        "    #endif\n",
        "  #endwhile\n",
        "  return circuit[::-1]"
      ],
      "execution_count": 0,
      "outputs": []
    },
    {
      "cell_type": "code",
      "metadata": {
        "id": "ASYoojC0RfFr",
        "colab_type": "code",
        "colab": {}
      },
      "source": [
        "def euler_path(edges):\n",
        "  adj = defaultdict(list)\n",
        "  for edge in edges:\n",
        "    u , v = edge.split(' -> ')\n",
        "    adj[int(u)] = [int(x) for x in v.split(',')]\n",
        "  nodes = []\n",
        "  for key,val in adj.items():\n",
        "    nodes.append(key)\n",
        "    nodes.extend(val)\n",
        "  #endfor\n",
        "\n",
        "  mx_mark = max(nodes)\n",
        "  indeg, outdeg = np.zeros((mx_mark+1,), dtype=int), np.zeros((mx_mark+1,), dtype=int)\n",
        "  for key, val in adj.items():\n",
        "    outdeg[key] += len(val)\n",
        "    for x in val:\n",
        "      indeg[x] += 1\n",
        "    #endfor\n",
        "  #endfor\n",
        "  start, end = None, None\n",
        "  for node in set(nodes):\n",
        "    if indeg[node] + 1 == outdeg[node]:\n",
        "      start = node\n",
        "    if indeg[node] == outdeg[node] + 1:\n",
        "      end = node\n",
        "  #endfor\n",
        "  adj[end] = [start]\n",
        "\n",
        "  return heirholzer_with_start_node(adj, start)\n"
      ],
      "execution_count": 0,
      "outputs": []
    },
    {
      "cell_type": "code",
      "metadata": {
        "id": "oq0oNMDbSNQ4",
        "colab_type": "code",
        "outputId": "87a9ed22-a9c8-4b8e-8328-5035268b614c",
        "colab": {
          "base_uri": "https://localhost:8080/",
          "height": 34
        }
      },
      "source": [
        "ans = euler_path(['0 -> 2','1 -> 3','2 -> 1','3 -> 0,4','6 -> 3,7','7 -> 8','8 -> 9','9 -> 6'])\n",
        "ans.pop()\n",
        "print('->'.join([str(x) for x in ans]))"
      ],
      "execution_count": 138,
      "outputs": [
        {
          "output_type": "stream",
          "text": [
            "6->7->8->9->6->3->0->2->1->3->4\n"
          ],
          "name": "stdout"
        }
      ]
    },
    {
      "cell_type": "markdown",
      "metadata": {
        "id": "9Giz6F1OtAtE",
        "colab_type": "text"
      },
      "source": [
        "# Reconstruct a String from its k-mer Composition"
      ]
    },
    {
      "cell_type": "code",
      "metadata": {
        "id": "jXBqqIQrUUFg",
        "colab_type": "code",
        "colab": {}
      },
      "source": [
        "def reconstruct_string(k, k_mers):\n",
        "  de_bruijn = [(k_mer[0:-1:], k_mer[1::]) for k_mer in k_mers]\n",
        "  mp = {}\n",
        "  idx = 0\n",
        "  for pre, suf in de_bruijn:\n",
        "    if pre not in mp:\n",
        "      mp[pre] = idx\n",
        "      mp[idx] = pre\n",
        "      idx += 1\n",
        "    if suf not in mp:\n",
        "      mp[suf] = idx\n",
        "      mp[idx] = suf\n",
        "      idx += 1\n",
        "  #endfor\n",
        "  adj = defaultdict(list)\n",
        "  for u,v in de_bruijn:\n",
        "    adj[mp[u]].append(mp[v])\n",
        "  indeg, outdeg = np.zeros((idx,), dtype=int), np.zeros((idx,), dtype=int)\n",
        "  for key, val in adj.items():\n",
        "    outdeg[key] += len(val)\n",
        "    for x in val:\n",
        "      indeg[x] += 1\n",
        "    #endfor\n",
        "  #endfor\n",
        "  start, end = None, None\n",
        "  for node in range(idx):\n",
        "    if indeg[node] + 1 == outdeg[node]:\n",
        "      start = node\n",
        "    if indeg[node] == outdeg[node] + 1:\n",
        "      end = node\n",
        "  #endfor\n",
        "  adj[end] = [start]\n",
        "  ans = heirholzer_with_start_node(adj, start)\n",
        "  ans.pop()\n",
        "  string = mp[ans[0]]\n",
        "  for x in ans[1:]:\n",
        "    string += mp[x][-1]\n",
        "  return string"
      ],
      "execution_count": 0,
      "outputs": []
    },
    {
      "cell_type": "code",
      "metadata": {
        "id": "at512MTJuHcJ",
        "colab_type": "code",
        "outputId": "0b118786-2bda-4c49-c7a3-b29afd46f162",
        "colab": {
          "base_uri": "https://localhost:8080/",
          "height": 34
        }
      },
      "source": [
        "print(reconstruct_string(4, ['CTTA','ACCA','TACC','GGCT','GCTT','TTAC']))"
      ],
      "execution_count": 140,
      "outputs": [
        {
          "output_type": "stream",
          "text": [
            "GGCTTACCA\n"
          ],
          "name": "stdout"
        }
      ]
    },
    {
      "cell_type": "markdown",
      "metadata": {
        "id": "fiqoU0L51NjZ",
        "colab_type": "text"
      },
      "source": [
        "# Find a k-Universal Circular String"
      ]
    },
    {
      "cell_type": "code",
      "metadata": {
        "id": "fMbUB9cI1s5N",
        "colab_type": "code",
        "colab": {}
      },
      "source": [
        "from itertools import product"
      ],
      "execution_count": 0,
      "outputs": []
    },
    {
      "cell_type": "code",
      "metadata": {
        "id": "MYZVzrsNuU2g",
        "colab_type": "code",
        "colab": {}
      },
      "source": [
        "def k_universal_string(k):\n",
        "  k_mers = [''.join(val) for val in product('01', repeat=k)]\n",
        "  de_bruijn = [(k_mer[0:-1:], k_mer[1::]) for k_mer in k_mers]\n",
        "  mp = {}\n",
        "  idx = 0\n",
        "  for pre, suf in de_bruijn:\n",
        "    if pre not in mp:\n",
        "      mp[pre] = idx\n",
        "      mp[idx] = pre\n",
        "      idx += 1\n",
        "    if suf not in mp:\n",
        "      mp[suf] = idx\n",
        "      mp[idx] = suf\n",
        "      idx += 1\n",
        "  #endfor\n",
        "  adj = defaultdict(list)\n",
        "  for u,v in de_bruijn:\n",
        "    adj[mp[u]].append(mp[v])\n",
        "  ans = heirholzer(adj)\n",
        "  string = mp[ans[0]]\n",
        "  for x in ans[1:]:\n",
        "    string += mp[x][-1]\n",
        "  return string"
      ],
      "execution_count": 0,
      "outputs": []
    },
    {
      "cell_type": "code",
      "metadata": {
        "id": "GRO220hN1jom",
        "colab_type": "code",
        "outputId": "bcc14cd4-4865-4584-e815-01967538c8f0",
        "colab": {
          "base_uri": "https://localhost:8080/",
          "height": 34
        }
      },
      "source": [
        "print(k_universal_string(4))"
      ],
      "execution_count": 144,
      "outputs": [
        {
          "output_type": "stream",
          "text": [
            "1101111001010000110\n"
          ],
          "name": "stdout"
        }
      ]
    },
    {
      "cell_type": "code",
      "metadata": {
        "id": "tQDoqYKB5AeI",
        "colab_type": "code",
        "colab": {}
      },
      "source": [
        ""
      ],
      "execution_count": 0,
      "outputs": []
    }
  ]
}