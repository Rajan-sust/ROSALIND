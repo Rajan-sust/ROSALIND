{
 "cells": [
  {
   "cell_type": "markdown",
   "metadata": {},
   "source": [
    "# Construct the Burrows-Wheeler Transform of a String"
   ]
  },
  {
   "cell_type": "code",
   "execution_count": 7,
   "metadata": {},
   "outputs": [],
   "source": [
    "def BWT(text):\n",
    "    new_text = text + text\n",
    "    n = len(text)\n",
    "    ls = [new_text[i:i+n] for i in range(n)]\n",
    "    return ''.join([s[-1] for s in sorted(ls)])"
   ]
  },
  {
   "cell_type": "code",
   "execution_count": 14,
   "metadata": {},
   "outputs": [
    {
     "name": "stdout",
     "output_type": "stream",
     "text": [
      "ACTGGCT$TGCGGC\n"
     ]
    }
   ],
   "source": [
    "print(BWT('GCGTGCCTGGTCA$'))"
   ]
  },
  {
   "cell_type": "markdown",
   "metadata": {},
   "source": [
    "# Generate the Last-to-First Mapping of a String"
   ]
  },
  {
   "cell_type": "code",
   "execution_count": 20,
   "metadata": {},
   "outputs": [],
   "source": [
    "from collections import defaultdict    "
   ]
  },
  {
   "cell_type": "code",
   "execution_count": 24,
   "metadata": {},
   "outputs": [],
   "source": [
    "def last_to_first(text, k):\n",
    "    cnt_for_last = defaultdict(int)\n",
    "    last_column = dict()\n",
    "    for idx, ch in enumerate(text):\n",
    "        cnt_for_last[ch] += 1\n",
    "        last_column[idx] = (ch, cnt_for_last[ch])\n",
    "    #endfor\n",
    "    cnt_for_first = defaultdict(int)\n",
    "    first = ''.join(sorted(text))\n",
    "    first_column = dict()\n",
    "    for idx, ch in enumerate(first):\n",
    "        cnt_for_first[ch] += 1\n",
    "        first_column[(ch,cnt_for_first[ch])] = idx\n",
    "    #endfor\n",
    "    return first_column[last_column[k]]"
   ]
  },
  {
   "cell_type": "code",
   "execution_count": 25,
   "metadata": {},
   "outputs": [
    {
     "data": {
      "text/plain": [
       "1"
      ]
     },
     "execution_count": 25,
     "metadata": {},
     "output_type": "execute_result"
    }
   ],
   "source": [
    "last_to_first('T$GACCA',3)"
   ]
  },
  {
   "cell_type": "markdown",
   "metadata": {},
   "source": [
    "# Inverse Burrows-Wheeler Transform Problem"
   ]
  },
  {
   "cell_type": "code",
   "execution_count": 27,
   "metadata": {},
   "outputs": [],
   "source": [
    "def build_two_way_map(text):\n",
    "    cnt_for_last = defaultdict(int)\n",
    "    last_column = dict()\n",
    "    for idx, ch in enumerate(text):\n",
    "        cnt_for_last[ch] += 1\n",
    "        last_column[idx] = (ch, cnt_for_last[ch])\n",
    "    #endfor\n",
    "    cnt_for_first = defaultdict(int)\n",
    "    first = ''.join(sorted(text))\n",
    "    first_column = dict()\n",
    "    for idx, ch in enumerate(first):\n",
    "        cnt_for_first[ch] += 1\n",
    "        first_column[(ch,cnt_for_first[ch])] = idx\n",
    "    #endfor\n",
    "    return first_column, last_column\n",
    "    "
   ]
  },
  {
   "cell_type": "code",
   "execution_count": 33,
   "metadata": {},
   "outputs": [],
   "source": [
    "def inverse_BWT(text):\n",
    "    first_column, last_column = build_two_way_map(text)\n",
    "    n = len(text)\n",
    "    forward = '$'\n",
    "    pos = first_column[('$',1)]\n",
    "    while True:\n",
    "        if len(forward) == n:\n",
    "            break\n",
    "        #endif\n",
    "        ch, idx = last_column[pos]\n",
    "        forward += ch\n",
    "        pos = first_column[(ch,idx)]\n",
    "    #endwhile\n",
    "    return forward[::-1]        \n",
    "    "
   ]
  },
  {
   "cell_type": "code",
   "execution_count": 34,
   "metadata": {},
   "outputs": [
    {
     "name": "stdout",
     "output_type": "stream",
     "text": [
      "TACATCACGT$\n"
     ]
    }
   ],
   "source": [
    "print(inverse_BWT('TTCCTAACG$A'))"
   ]
  },
  {
   "cell_type": "code",
   "execution_count": null,
   "metadata": {},
   "outputs": [],
   "source": []
  }
 ],
 "metadata": {
  "kernelspec": {
   "display_name": "Python 3",
   "language": "python",
   "name": "python3"
  },
  "language_info": {
   "codemirror_mode": {
    "name": "ipython",
    "version": 3
   },
   "file_extension": ".py",
   "mimetype": "text/x-python",
   "name": "python",
   "nbconvert_exporter": "python",
   "pygments_lexer": "ipython3",
   "version": "3.7.3"
  }
 },
 "nbformat": 4,
 "nbformat_minor": 2
}
