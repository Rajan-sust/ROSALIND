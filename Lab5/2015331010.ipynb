{
  "nbformat": 4,
  "nbformat_minor": 0,
  "metadata": {
    "colab": {
      "name": "2015331010.ipynb",
      "provenance": [],
      "collapsed_sections": []
    },
    "kernelspec": {
      "name": "python3",
      "display_name": "Python 3"
    }
  },
  "cells": [
    {
      "cell_type": "markdown",
      "metadata": {
        "id": "5jutieymvgwL",
        "colab_type": "text"
      },
      "source": [
        "## Translate an RNA String into an Amino Acid String"
      ]
    },
    {
      "cell_type": "code",
      "metadata": {
        "id": "xfclJpGwvf6j",
        "colab_type": "code",
        "colab": {}
      },
      "source": [
        "dic = dict()\n",
        "dic[\"AAA\"] = 'K'\n",
        "dic[\"AAG\"] = 'K'\n",
        "dic[\"AAC\"] = 'N'\n",
        "dic[\"AAU\"] = 'N'\n",
        "\n",
        "dic[\"ACA\"] = 'T'\n",
        "dic[\"ACU\"] = 'T'\n",
        "dic[\"ACG\"] = 'T'\n",
        "dic[\"ACC\"] = 'T'\n",
        "\n",
        "\n",
        "dic[\"AGU\"] = 'S'\n",
        "dic[\"AGC\"] = 'S'\n",
        "dic[\"AGA\"] = 'R'\n",
        "dic[\"AGG\"] = 'R'\n",
        "\n",
        "dic[\"AUA\"] = 'I'\n",
        "dic[\"AUC\"] = 'I'\n",
        "dic[\"AUU\"] = 'I'\n",
        "dic[\"AUG\"] = 'M'\n",
        "\n",
        "#C\n",
        "dic[\"CAA\"] = 'Q'\n",
        "dic[\"CAG\"] = 'Q'\n",
        "dic[\"CAC\"] = 'H'\n",
        "dic[\"CAU\"] = 'H'\n",
        "\n",
        "dic[\"CCA\"] = 'P'\n",
        "dic[\"CCU\"] = 'P'\n",
        "dic[\"CCG\"] = 'P'\n",
        "dic[\"CCC\"] = 'P'\n",
        "\n",
        "\n",
        "dic[\"CGU\"] = 'R'\n",
        "dic[\"CGC\"] = 'R'\n",
        "dic[\"CGA\"] = 'R'\n",
        "dic[\"CGG\"] = 'R'\n",
        "\n",
        "dic[\"CUA\"] = 'L'\n",
        "dic[\"CUC\"] = 'L'\n",
        "dic[\"CUU\"] = 'L'\n",
        "dic[\"CUG\"] = 'L'\n",
        "\n",
        "#G\n",
        "dic[\"GAA\"] = 'E'\n",
        "dic[\"GAG\"] = 'E'\n",
        "dic[\"GAC\"] = 'D'\n",
        "dic[\"GAU\"] = 'D'\n",
        "\n",
        "dic[\"GCA\"] = 'A'\n",
        "dic[\"GCU\"] = 'A'\n",
        "dic[\"GCG\"] = 'A'\n",
        "dic[\"GCC\"] = 'A'\n",
        "\n",
        "\n",
        "dic[\"GGU\"] = 'G'\n",
        "dic[\"GGC\"] = 'G'\n",
        "dic[\"GGA\"] = 'G'\n",
        "dic[\"GGG\"] = 'G'\n",
        "\n",
        "dic[\"GUA\"] = 'V'\n",
        "dic[\"GUC\"] = 'V'\n",
        "dic[\"GUU\"] = 'V'\n",
        "dic[\"GUG\"] = 'V'\n",
        "\n",
        "#U\n",
        "dic[\"UAA\"] = ''\n",
        "dic[\"UAG\"] = ''\n",
        "dic[\"UAC\"] = 'Y'\n",
        "dic[\"UAU\"] = 'Y'\n",
        "\n",
        "dic[\"UCA\"] = 'S'\n",
        "dic[\"UCU\"] = 'S'\n",
        "dic[\"UCG\"] = 'S'\n",
        "dic[\"UCC\"] = 'S'\n",
        "\n",
        "dic[\"UGU\"] = 'C'\n",
        "dic[\"UGC\"] = 'C'\n",
        "dic[\"UGA\"] = ''\n",
        "dic[\"UGG\"] = 'W'\n",
        "\n",
        "dic[\"UUA\"] = 'L'\n",
        "dic[\"UUC\"] = 'F'\n",
        "dic[\"UUU\"] = 'F'\n",
        "dic[\"UUG\"] = 'L'"
      ],
      "execution_count": 0,
      "outputs": []
    },
    {
      "cell_type": "code",
      "metadata": {
        "id": "KpvcXyLYwGvg",
        "colab_type": "code",
        "colab": {}
      },
      "source": [
        "def rna_to_amino(seq):\n",
        "  return ''.join([dic[seq[idx:idx+3]] for idx in range(0,len(seq),3)])"
      ],
      "execution_count": 0,
      "outputs": []
    },
    {
      "cell_type": "code",
      "metadata": {
        "id": "wtcXxSmVwH_O",
        "colab_type": "code",
        "outputId": "1d30f740-81a9-4898-84c1-22c991684e65",
        "colab": {
          "base_uri": "https://localhost:8080/",
          "height": 34
        }
      },
      "source": [
        "print(rna_to_amino('AUGGCCAUGGCGCCCAGAACUGAGAUCAAUAGUACCCGUAUUAACGGGUGA'))"
      ],
      "execution_count": 0,
      "outputs": [
        {
          "output_type": "stream",
          "text": [
            "MAMAPRTEINSTRING\n"
          ],
          "name": "stdout"
        }
      ]
    },
    {
      "cell_type": "markdown",
      "metadata": {
        "id": "enNoAq72yMOJ",
        "colab_type": "text"
      },
      "source": [
        "## Find Substrings of a Genome Encoding a Given Amino Acid String"
      ]
    },
    {
      "cell_type": "code",
      "metadata": {
        "id": "iE6mXMszwIG1",
        "colab_type": "code",
        "colab": {}
      },
      "source": [
        "def get_rev_complement(seq):\n",
        "  mp = {\n",
        "      'A' : 'U',\n",
        "      'U' : 'A',\n",
        "      'G' : 'C',\n",
        "      'C' : 'G'\n",
        "  }\n",
        "\n",
        "  text = ''\n",
        "  for ch in seq:\n",
        "    text += mp[ch]\n",
        "  return text[::-1]\n"
      ],
      "execution_count": 0,
      "outputs": []
    },
    {
      "cell_type": "code",
      "metadata": {
        "id": "LCU7kDKlwINs",
        "colab_type": "code",
        "colab": {}
      },
      "source": [
        "def find_from_original(seq, pep):\n",
        "  new_seq = seq.replace('T','U')\n",
        "  pep_len = len(pep)*3\n",
        "\n",
        "  ans = []\n",
        "\n",
        "  for idx in range(len(new_seq)-pep_len+1):\n",
        "    if rna_to_amino(new_seq[idx:idx+pep_len:]) == pep or rna_to_amino(get_rev_complement(new_seq[idx:idx+pep_len:])) == pep:\n",
        "      ans.append(new_seq[idx:idx+pep_len:].replace('U','T'))\n",
        "  return ans"
      ],
      "execution_count": 0,
      "outputs": []
    },
    {
      "cell_type": "code",
      "metadata": {
        "id": "Y9MtqQY7zxqW",
        "colab_type": "code",
        "colab": {}
      },
      "source": [
        "ans = find_from_original('ATGGCCATGGCCCCCAGAACTGAGATCAATAGTACCCGTATTAACGGGTGA','MA')"
      ],
      "execution_count": 0,
      "outputs": []
    },
    {
      "cell_type": "code",
      "metadata": {
        "id": "ALmaeEu1062s",
        "colab_type": "code",
        "outputId": "002a8f71-50b8-4b82-ed62-5fb082fe9940",
        "colab": {
          "base_uri": "https://localhost:8080/",
          "height": 68
        }
      },
      "source": [
        "for s in ans:\n",
        "  print(s)"
      ],
      "execution_count": 0,
      "outputs": [
        {
          "output_type": "stream",
          "text": [
            "ATGGCC\n",
            "GGCCAT\n",
            "ATGGCC\n"
          ],
          "name": "stdout"
        }
      ]
    },
    {
      "cell_type": "markdown",
      "metadata": {
        "id": "eG-qUJSK5idV",
        "colab_type": "text"
      },
      "source": [
        "## Generating Theoretical Spectrum Problem"
      ]
    },
    {
      "cell_type": "code",
      "metadata": {
        "id": "rukpfoFC5W8W",
        "colab_type": "code",
        "colab": {}
      },
      "source": [
        "mp = {\n",
        "    'G':57,\n",
        "    'A':71,\n",
        "    'S':87,\n",
        "    'P':97,\n",
        "    'V':99,\n",
        "    'T':101,\n",
        "    'C':103,\n",
        "    'I':113,\n",
        "    'L':113,\n",
        "    'N':114,\n",
        "    'D':115,\n",
        "    'K':128,\n",
        "    'Q':128,\n",
        "    'E':129,\n",
        "    'M':131,\n",
        "    'H':137,\n",
        "    'F':147,\n",
        "    'R':156,\n",
        "    'Y':163,\n",
        "    'W':186\n",
        "}"
      ],
      "execution_count": 0,
      "outputs": []
    },
    {
      "cell_type": "code",
      "metadata": {
        "id": "nSbXNx_b6uXF",
        "colab_type": "code",
        "colab": {}
      },
      "source": [
        "def get_text_of_length(text, k):\n",
        "  new_text = text + text[0:k]\n",
        "  return [new_text[idx:idx+k] for idx in range(len(new_text)-k)] \n",
        "\n"
      ],
      "execution_count": 0,
      "outputs": []
    },
    {
      "cell_type": "code",
      "metadata": {
        "id": "739giHfP-Wk3",
        "colab_type": "code",
        "colab": {}
      },
      "source": [
        "def get_val(text):\n",
        "  sum = 0\n",
        "  for ch in text:\n",
        "    sum += mp[ch]\n",
        "  return sum"
      ],
      "execution_count": 0,
      "outputs": []
    },
    {
      "cell_type": "code",
      "metadata": {
        "id": "1IxIoqaL6jrZ",
        "colab_type": "code",
        "colab": {}
      },
      "source": [
        "def spectrum(text):\n",
        "  all_possible = []\n",
        "  for k in range(1,len(text)):\n",
        "    all_possible.extend(get_text_of_length(text, k))\n",
        "  all_possible.append(text)\n",
        "  #endfor\n",
        "  return sorted([0] + [get_val(text) for text in all_possible])\n",
        "  "
      ],
      "execution_count": 0,
      "outputs": []
    },
    {
      "cell_type": "code",
      "metadata": {
        "id": "2sMu-pGk8ncJ",
        "colab_type": "code",
        "colab": {
          "base_uri": "https://localhost:8080/",
          "height": 34
        },
        "outputId": "6c95be19-1542-4404-a306-34921f39352e"
      },
      "source": [
        "print(*spectrum('LEQN'))"
      ],
      "execution_count": 94,
      "outputs": [
        {
          "output_type": "stream",
          "text": [
            "0 113 114 128 129 227 242 242 257 355 356 370 371 484\n"
          ],
          "name": "stdout"
        }
      ]
    },
    {
      "cell_type": "markdown",
      "metadata": {
        "id": "rx43DmwuGKJ4",
        "colab_type": "text"
      },
      "source": [
        "## Find an Eulerian Cycle in a Graph"
      ]
    },
    {
      "cell_type": "code",
      "metadata": {
        "id": "O6hjE9idGPWC",
        "colab_type": "code",
        "colab": {}
      },
      "source": [
        "from collections import defaultdict"
      ],
      "execution_count": 0,
      "outputs": []
    },
    {
      "cell_type": "code",
      "metadata": {
        "id": "iXlIlkQrGPeX",
        "colab_type": "code",
        "colab": {}
      },
      "source": [
        "def find_cycle(adj):\n",
        "  grap = defaultdict(list)\n",
        "  for x in adj:\n",
        "    u,v = x.split(' -> ')\n",
        "    grap[int(u-'0')].extend([int(i-'0') for i in v.split(',')])\n",
        "  print(graph)"
      ],
      "execution_count": 0,
      "outputs": []
    },
    {
      "cell_type": "code",
      "metadata": {
        "id": "Nd3bGi1tIeY_",
        "colab_type": "code",
        "colab": {}
      },
      "source": [
        ""
      ],
      "execution_count": 0,
      "outputs": []
    }
  ]
}