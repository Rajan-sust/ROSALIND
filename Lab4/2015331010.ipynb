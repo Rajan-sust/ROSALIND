{
  "nbformat": 4,
  "nbformat_minor": 0,
  "metadata": {
    "colab": {
      "name": "2015331010.ipynb",
      "version": "0.3.2",
      "provenance": []
    },
    "kernelspec": {
      "name": "python3",
      "display_name": "Python 3"
    }
  },
  "cells": [
    {
      "cell_type": "markdown",
      "metadata": {
        "id": "h8KWzftNtZyf",
        "colab_type": "text"
      },
      "source": [
        "## Random Motif Search"
      ]
    },
    {
      "cell_type": "code",
      "metadata": {
        "id": "bw__o8pSgEP2",
        "colab_type": "code",
        "colab": {}
      },
      "source": [
        "import random\n",
        "from collections import defaultdict"
      ],
      "execution_count": 0,
      "outputs": []
    },
    {
      "cell_type": "code",
      "metadata": {
        "id": "4idSeD2ljkxj",
        "colab_type": "code",
        "colab": {}
      },
      "source": [
        "random.seed(335511)"
      ],
      "execution_count": 0,
      "outputs": []
    },
    {
      "cell_type": "code",
      "metadata": {
        "id": "uzbuygrWiDuJ",
        "colab_type": "code",
        "colab": {}
      },
      "source": [
        "def get_profile_matrix(k, motif_set):\n",
        "  profile = [[],[],[],[]]\n",
        "  for i in range(k):\n",
        "    val = (sum(list(map(lambda x: x[i] == 'A', motif_set))) + 1)/(4 + len(motif_set))\n",
        "    profile[0].append(val)\n",
        "    val = (sum(list(map(lambda x: x[i] == 'C', motif_set))) + 1)/(4 + len(motif_set))\n",
        "    profile[1].append(val)\n",
        "    val = (sum(list(map(lambda x: x[i] == 'G', motif_set))) + 1)/(4 + len(motif_set))\n",
        "    profile[2].append(val)\n",
        "    val = (sum(list(map(lambda x: x[i] == 'T', motif_set))) + 1)/(4 + len(motif_set))\n",
        "    profile[3].append(val)\n",
        "  #endfor\n",
        "  return profile"
      ],
      "execution_count": 0,
      "outputs": []
    },
    {
      "cell_type": "code",
      "metadata": {
        "id": "PHQiNIosiD0p",
        "colab_type": "code",
        "colab": {}
      },
      "source": [
        "def get_most_probable_k_mer(k, seq, profile_matrix):\n",
        "  mp = {\n",
        "      'A' : 0,\n",
        "      'C' : 1,\n",
        "      'G' : 2,\n",
        "      'T' : 3\n",
        "  }\n",
        "  #print(profile_matrix)\n",
        "  ans = ''\n",
        "  score = 0\n",
        "  for idx in range(len(seq)-k+1):\n",
        "    s = seq[idx:idx+k]\n",
        "    temp_score = 1.0\n",
        "    \n",
        "    for idx, ch in enumerate(s):\n",
        "      pos = mp[ch]\n",
        "      temp_score = temp_score * profile_matrix[pos][idx]\n",
        "    if temp_score > score:\n",
        "      score = temp_score\n",
        "      ans = s\n",
        "  return ans"
      ],
      "execution_count": 0,
      "outputs": []
    },
    {
      "cell_type": "code",
      "metadata": {
        "id": "ANKZGni-iD3p",
        "colab_type": "code",
        "colab": {}
      },
      "source": [
        "def calculate_motif_set_score(t, k, motif_set):\n",
        "  score = 0\n",
        "  for idx in range(k):\n",
        "    mp = defaultdict(int)\n",
        "    for s in motif_set:\n",
        "      mp[s[idx]] += 1\n",
        "    score += (t - max([val for key,val in mp.items()]))\n",
        "  return score"
      ],
      "execution_count": 0,
      "outputs": []
    },
    {
      "cell_type": "code",
      "metadata": {
        "id": "QsHULV3ZiD6Z",
        "colab_type": "code",
        "colab": {}
      },
      "source": [
        "def random_motif_search(k, t, Dna):\n",
        "  length = len(Dna[0])\n",
        "  motifs = []\n",
        "  \n",
        "  for idx,motif in enumerate(Dna):\n",
        "    r = random.randint(0,length-k)\n",
        "    motifs.append(motif[r:r+k])\n",
        "  #endfor\n",
        "  \n",
        "  while True:\n",
        "    profile_matrix = get_profile_matrix(k, motifs)\n",
        "    temp_motifs = [get_most_probable_k_mer(k, seq, profile_matrix) for seq in Dna]\n",
        "    if calculate_motif_set_score(t, k, motifs) > calculate_motif_set_score(t, k, temp_motifs):\n",
        "      motifs = temp_motifs.copy()\n",
        "    else:\n",
        "      return motifs\n",
        "    #endif\n",
        "  #endwhile"
      ],
      "execution_count": 0,
      "outputs": []
    },
    {
      "cell_type": "code",
      "metadata": {
        "id": "BPzjU0HFiD9Z",
        "colab_type": "code",
        "outputId": "5ee501ac-299c-46f0-9274-63bd2bc1ab4c",
        "colab": {
          "base_uri": "https://localhost:8080/",
          "height": 34
        }
      },
      "source": [
        "#random_motif_search(8, 5, ['CGCCCCTCTCGGGGGTGTTCAGTAAACGGCCA','GGGCGAGGTATGTGTAAGTGCCAAGGTGCCAG','TAGTACCGAGACCGAAAGAAGTATACAGGCGT','TAGATCAAGTTTCAGGTGCACGTCGGTGAACC', 'AATCCACCAGCTCCACGTGCAATGTTGGCCTA'])"
      ],
      "execution_count": 0,
      "outputs": [
        {
          "output_type": "execute_result",
          "data": {
            "text/plain": [
              "['CCCCTCTC', 'CAAGGTGC', 'GAAGTATA', 'CAAGTTTC', 'CCACGTGC']"
            ]
          },
          "metadata": {
            "tags": []
          },
          "execution_count": 34
        }
      ]
    },
    {
      "cell_type": "code",
      "metadata": {
        "id": "T_m88ysamJ4I",
        "colab_type": "code",
        "colab": {}
      },
      "source": [
        "score = 100000000000000000\n",
        "ans = None"
      ],
      "execution_count": 0,
      "outputs": []
    },
    {
      "cell_type": "code",
      "metadata": {
        "id": "_l2wX5varDxA",
        "colab_type": "code",
        "colab": {}
      },
      "source": [
        "for _ in range(1000):\n",
        "  motif_set = random_motif_search(8, 5, ['CGCCCCTCTCGGGGGTGTTCAGTAAACGGCCA','GGGCGAGGTATGTGTAAGTGCCAAGGTGCCAG','TAGTACCGAGACCGAAAGAAGTATACAGGCGT','TAGATCAAGTTTCAGGTGCACGTCGGTGAACC', 'AATCCACCAGCTCCACGTGCAATGTTGGCCTA'])\n",
        "  if score > calculate_motif_set_score(5, 8, motif_set):\n",
        "    score = calculate_motif_set_score(5, 8, motif_set)\n",
        "    ans = motif_set.copy()\n",
        "  "
      ],
      "execution_count": 0,
      "outputs": []
    },
    {
      "cell_type": "code",
      "metadata": {
        "id": "RhuQboRPsHNM",
        "colab_type": "code",
        "outputId": "b3092cd9-76b1-47c8-9e39-d6d87b410aad",
        "colab": {
          "base_uri": "https://localhost:8080/",
          "height": 102
        }
      },
      "source": [
        "for motif in ans:\n",
        "  print(motif)"
      ],
      "execution_count": 0,
      "outputs": [
        {
          "output_type": "stream",
          "text": [
            "TCTCGGGG\n",
            "CCAAGGTG\n",
            "TACAGGCG\n",
            "TTCAGGTG\n",
            "TCCACGTG\n"
          ],
          "name": "stdout"
        }
      ]
    },
    {
      "cell_type": "markdown",
      "metadata": {
        "id": "acnOnvqAt-6-",
        "colab_type": "text"
      },
      "source": [
        "## GIBBSSAMPLER"
      ]
    },
    {
      "cell_type": "code",
      "metadata": {
        "id": "DrDzOHAbtKRW",
        "colab_type": "code",
        "colab": {}
      },
      "source": [
        "def gibbs_sampler(Dna, k, t, N):\n",
        "  length = len(Dna[0])\n",
        "  motifs = []\n",
        "  for idx,motif in enumerate(Dna):\n",
        "    r = int(random.randint(0,length-k))\n",
        "    motifs.append(motif[r:r+k])\n",
        "  for _ in range(N):\n",
        "    i = random.randint(0,t-1)\n",
        "    temp_motif = motifs.copy()\n",
        "    del temp_motif[i]\n",
        "    profile_matrix = get_profile_matrix(k, temp_motif)\n",
        "    s = get_most_probable_k_mer(k, Dna[i], profile_matrix)\n",
        "    temp_motif.insert(i, s)\n",
        "    if calculate_motif_set_score(t, k, motifs) > calculate_motif_set_score(t, k, temp_motif):\n",
        "      motifs = temp_motif.copy()\n",
        "  #ENDIF\n",
        "  return motifs"
      ],
      "execution_count": 0,
      "outputs": []
    },
    {
      "cell_type": "code",
      "metadata": {
        "id": "LCvs6ec7GHJR",
        "colab_type": "code",
        "colab": {}
      },
      "source": [
        "gibbs_sampler(8, 5, ['CGCCCCTCTCGGGGGTGTTCAGTAAACGGCCA','GGGCGAGGTATGTGTAAGTGCCAAGGTGCCAG','TAGTACCGAGACCGAAAGAAGTATACAGGCGT','TAGATCAAGTTTCAGGTGCACGTCGGTGAACC', 'AATCCACCAGCTCCACGTGCAATGTTGGCCTA'], 1000)"
      ],
      "execution_count": 0,
      "outputs": []
    },
    {
      "cell_type": "markdown",
      "metadata": {
        "id": "ORO-lNxq3CUq",
        "colab_type": "text"
      },
      "source": [
        "# Generate the k-mer Composition of a String"
      ]
    },
    {
      "cell_type": "code",
      "metadata": {
        "id": "pSTMpwb_2U1N",
        "colab_type": "code",
        "colab": {}
      },
      "source": [
        "def fun(k, seq):\n",
        "  return sorted([seq[idx:idx+k] for idx in range(len(seq)-k +1 )])"
      ],
      "execution_count": 0,
      "outputs": []
    },
    {
      "cell_type": "code",
      "metadata": {
        "id": "gIq37sxI3AJR",
        "colab_type": "code",
        "outputId": "dfa46ddb-65fd-4d0f-838c-c5f5ea94e4dd",
        "colab": {
          "base_uri": "https://localhost:8080/",
          "height": 102
        }
      },
      "source": [
        "for s in fun(5, 'CAATCCAAC'):\n",
        "  print(s)"
      ],
      "execution_count": 0,
      "outputs": [
        {
          "output_type": "stream",
          "text": [
            "AATCC\n",
            "ATCCA\n",
            "CAATC\n",
            "CCAAC\n",
            "TCCAA\n"
          ],
          "name": "stdout"
        }
      ]
    },
    {
      "cell_type": "markdown",
      "metadata": {
        "id": "UYa7e_yz3-5W",
        "colab_type": "text"
      },
      "source": [
        "# String Spelled by a Genome Path Problem"
      ]
    },
    {
      "cell_type": "code",
      "metadata": {
        "id": "q0djMJM13AMI",
        "colab_type": "code",
        "colab": {}
      },
      "source": [
        "def fun(seq):\n",
        "  ans = seq[0]\n",
        "  for idx in range(1, len(seq)):\n",
        "    ans += seq[idx][-1]\n",
        "  return ans"
      ],
      "execution_count": 0,
      "outputs": []
    },
    {
      "cell_type": "code",
      "metadata": {
        "id": "CuTRvNsW3ARx",
        "colab_type": "code",
        "outputId": "23c427e4-4432-4b0f-81dd-42bdfbaac197",
        "colab": {
          "base_uri": "https://localhost:8080/",
          "height": 34
        }
      },
      "source": [
        "print(fun(['ACCGA','CCGAA','CGAAG','GAAGC','AAGCT']))"
      ],
      "execution_count": 0,
      "outputs": [
        {
          "output_type": "stream",
          "text": [
            "ACCGAAGCT\n"
          ],
          "name": "stdout"
        }
      ]
    },
    {
      "cell_type": "markdown",
      "metadata": {
        "id": "VfPUd4dm6olY",
        "colab_type": "text"
      },
      "source": [
        "# Construct the Overlap Graph of a Collection of k-mers"
      ]
    },
    {
      "cell_type": "code",
      "metadata": {
        "id": "HDskXevh3AUW",
        "colab_type": "code",
        "colab": {}
      },
      "source": [
        "def fun(seq):\n",
        "  ans = list()\n",
        "  for i,s in enumerate(seq):\n",
        "    for j,ss in enumerate(seq):\n",
        "      if i == j:\n",
        "        continue\n",
        "      if ss.startswith(s[1::]):\n",
        "        ans.append(s+' -> '+ ss)\n",
        "  return ans"
      ],
      "execution_count": 0,
      "outputs": []
    },
    {
      "cell_type": "code",
      "metadata": {
        "id": "_MGjznIx3AXb",
        "colab_type": "code",
        "outputId": "56d2d874-2240-4f1a-ef9c-d5ee6d76cd2f",
        "colab": {
          "base_uri": "https://localhost:8080/",
          "height": 85
        }
      },
      "source": [
        "for s in fun(['ATGCG','GCATG','CATGC','AGGCA','GGCAT']):\n",
        "  print(s)"
      ],
      "execution_count": 0,
      "outputs": [
        {
          "output_type": "stream",
          "text": [
            "GCATG -> CATGC\n",
            "CATGC -> ATGCG\n",
            "AGGCA -> GGCAT\n",
            "GGCAT -> GCATG\n"
          ],
          "name": "stdout"
        }
      ]
    },
    {
      "cell_type": "markdown",
      "metadata": {
        "id": "uzt1C4-H9XeR",
        "colab_type": "text"
      },
      "source": [
        "# Construct the De Bruijn Graph of a String"
      ]
    },
    {
      "cell_type": "code",
      "metadata": {
        "id": "5Ki6y9Wm8ZTO",
        "colab_type": "code",
        "colab": {}
      },
      "source": [
        "def fun(k, seq):\n",
        "  all_prefix = [seq[idx:idx+k] for idx in range(len(seq)-k+1)]\n",
        "  mp = defaultdict(list)\n",
        "  for prefix in all_prefix:\n",
        "    mp[prefix[0:-1:]].append(prefix[1::])\n",
        "  return mp"
      ],
      "execution_count": 0,
      "outputs": []
    },
    {
      "cell_type": "code",
      "metadata": {
        "id": "xAvKs-cD-rMO",
        "colab_type": "code",
        "outputId": "758a7fed-9293-4f7d-c31a-848463a43b03",
        "colab": {
          "base_uri": "https://localhost:8080/",
          "height": 153
        }
      },
      "source": [
        "ans = fun(4,'AAGATTCTCTAC')\n",
        "\n",
        "for key in ans:\n",
        "  print('{} -> {}'.format(key,','.join(ans[key])))"
      ],
      "execution_count": 0,
      "outputs": [
        {
          "output_type": "stream",
          "text": [
            "AAG -> AGA\n",
            "AGA -> GAT\n",
            "GAT -> ATT\n",
            "ATT -> TTC\n",
            "TTC -> TCT\n",
            "TCT -> CTC,CTA\n",
            "CTC -> TCT\n",
            "CTA -> TAC\n"
          ],
          "name": "stdout"
        }
      ]
    },
    {
      "cell_type": "code",
      "metadata": {
        "id": "dtk8gPZT-vZy",
        "colab_type": "code",
        "colab": {}
      },
      "source": [
        ""
      ],
      "execution_count": 0,
      "outputs": []
    }
  ]
}