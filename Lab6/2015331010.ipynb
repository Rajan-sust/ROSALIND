{
 "cells": [
  {
   "cell_type": "markdown",
   "metadata": {},
   "source": [
    "# Construct the Suffix Array of a String"
   ]
  },
  {
   "cell_type": "code",
   "execution_count": 22,
   "metadata": {},
   "outputs": [],
   "source": [
    "def suffix_array(text):\n",
    "    suffixes = [(text[idx:],idx) for idx in range(0, len(text))]\n",
    "    suffixes.sort(key = lambda x: x[0])\n",
    "    return ', '.join([str(idx) for key, idx in suffixes])"
   ]
  },
  {
   "cell_type": "code",
   "execution_count": 41,
   "metadata": {},
   "outputs": [
    {
     "name": "stdout",
     "output_type": "stream",
     "text": [
      "15, 14, 0, 1, 12, 6, 4, 2, 8, 13, 3, 7, 9, 10, 11, 5\n"
     ]
    }
   ],
   "source": [
    "print(suffix_array('AACGATAGCGGTAGA$'))"
   ]
  },
  {
   "cell_type": "markdown",
   "metadata": {},
   "source": [
    "# Compute the Score of a Cyclic Peptide Against a Spectrum"
   ]
  },
  {
   "cell_type": "code",
   "execution_count": 25,
   "metadata": {},
   "outputs": [],
   "source": [
    "mp = {\n",
    "    'G':57,\n",
    "    'A':71,\n",
    "    'S':87,\n",
    "    'P':97,\n",
    "    'V':99,\n",
    "    'T':101,\n",
    "    'C':103,\n",
    "    'I':113,\n",
    "    'L':113,\n",
    "    'N':114,\n",
    "    'D':115,\n",
    "    'K':128,\n",
    "    'Q':128,\n",
    "    'E':129,\n",
    "    'M':131,\n",
    "    'H':137,\n",
    "    'F':147,\n",
    "    'R':156,\n",
    "    'Y':163,\n",
    "    'W':186\n",
    "}\n",
    "    "
   ]
  },
  {
   "cell_type": "code",
   "execution_count": 29,
   "metadata": {},
   "outputs": [],
   "source": [
    "def get_text_of_length(text, k):\n",
    "  new_text = text + text[0:k]\n",
    "  return [new_text[idx:idx+k] for idx in range(len(new_text)-k)] "
   ]
  },
  {
   "cell_type": "code",
   "execution_count": 30,
   "metadata": {},
   "outputs": [],
   "source": [
    "def get_val(text):\n",
    "  sum = 0\n",
    "  for ch in text:\n",
    "    sum += mp[ch]\n",
    "  return sum"
   ]
  },
  {
   "cell_type": "code",
   "execution_count": 31,
   "metadata": {},
   "outputs": [],
   "source": [
    "def spectrum(text):\n",
    "  all_possible = []\n",
    "  for k in range(1,len(text)):\n",
    "    all_possible.extend(get_text_of_length(text, k))\n",
    "  all_possible.append(text)\n",
    "  #endfor\n",
    "  return sorted([0] + [get_val(text) for text in all_possible])"
   ]
  },
  {
   "cell_type": "code",
   "execution_count": 33,
   "metadata": {},
   "outputs": [],
   "source": [
    "# spectrum('LEQN')"
   ]
  },
  {
   "cell_type": "code",
   "execution_count": 34,
   "metadata": {},
   "outputs": [],
   "source": [
    "from collections import defaultdict"
   ]
  },
  {
   "cell_type": "code",
   "execution_count": 37,
   "metadata": {},
   "outputs": [],
   "source": [
    "def compute_score(text, score):\n",
    "    output_list = spectrum(text)\n",
    "    mp_input = defaultdict(int)\n",
    "    mp_output = defaultdict(int)\n",
    "    for s in score:\n",
    "        mp_input[s] += 1\n",
    "    for s in output_list:\n",
    "        mp_output[s] += 1\n",
    "    ans = 0\n",
    "    \n",
    "    for key in mp_input:\n",
    "        if key in mp_output:\n",
    "            ans += min(mp_input[key], mp_output[key])\n",
    "    return ans\n",
    "    "
   ]
  },
  {
   "cell_type": "code",
   "execution_count": 38,
   "metadata": {},
   "outputs": [
    {
     "data": {
      "text/plain": [
       "11"
      ]
     },
     "execution_count": 38,
     "metadata": {},
     "output_type": "execute_result"
    }
   ],
   "source": [
    "compute_score('NQEL',[0, 99, 113, 114, 128, 227, 257, 299, 355, 356, 370, 371, 484])"
   ]
  },
  {
   "cell_type": "markdown",
   "metadata": {},
   "source": [
    "# Generate the Convolution of a Spectrum"
   ]
  },
  {
   "cell_type": "code",
   "execution_count": 66,
   "metadata": {},
   "outputs": [],
   "source": [
    "def gen_convolution_spectrum(mass):\n",
    "    cnt = defaultdict(int)\n",
    "    for m in mass:\n",
    "        for temp_m in mass:\n",
    "            if m-temp_m > 0:\n",
    "                cnt[(m-temp_m)] += 1\n",
    "    temp = [(key,val) for key, val in cnt.items()]\n",
    "    temp.sort(key = lambda x: x[1], reverse = True)\n",
    "    ans = list()\n",
    "    for x, f in temp:\n",
    "        ans.extend([x]*f)\n",
    "    return ans"
   ]
  },
  {
   "cell_type": "code",
   "execution_count": 68,
   "metadata": {},
   "outputs": [
    {
     "name": "stdout",
     "output_type": "stream",
     "text": [
      "137 137 186 186 49 323\n"
     ]
    }
   ],
   "source": [
    "print(*gen_convolution_spectrum([0, 137, 186, 323]))"
   ]
  },
  {
   "cell_type": "markdown",
   "metadata": {},
   "source": [
    "# Construct a Trie"
   ]
  },
  {
   "cell_type": "code",
   "execution_count": 84,
   "metadata": {},
   "outputs": [],
   "source": [
    "import numpy as np\n",
    "    "
   ]
  },
  {
   "cell_type": "code",
   "execution_count": 85,
   "metadata": {},
   "outputs": [],
   "source": [
    "next = np.zeros((1000,4))\n"
   ]
  },
  {
   "cell_type": "code",
   "execution_count": 86,
   "metadata": {},
   "outputs": [],
   "source": [
    "my_map = {'A': 0, 'C': 1,'G' : 2, 'T': 3}"
   ]
  },
  {
   "cell_type": "code",
   "execution_count": 91,
   "metadata": {},
   "outputs": [],
   "source": [
    "def insert(word):\n",
    "    root = 0\n",
    "    for ch in word:\n",
    "        if next[root][my_map[ch]] == 0:\n",
    "            temp = root\n",
    "            size += 1\n",
    "            root = size\n",
    "            print(temp, root)\n",
    "        root = next[root][my_map[ch]]\n",
    "    "
   ]
  },
  {
   "cell_type": "code",
   "execution_count": 92,
   "metadata": {},
   "outputs": [],
   "source": [
    "\n",
    "def construct_trie(words):\n",
    "    for word in words:\n",
    "        insert(word)"
   ]
  },
  {
   "cell_type": "code",
   "execution_count": null,
   "metadata": {},
   "outputs": [],
   "source": []
  }
 ],
 "metadata": {
  "kernelspec": {
   "display_name": "Python 3",
   "language": "python",
   "name": "python3"
  },
  "language_info": {
   "codemirror_mode": {
    "name": "ipython",
    "version": 3
   },
   "file_extension": ".py",
   "mimetype": "text/x-python",
   "name": "python",
   "nbconvert_exporter": "python",
   "pygments_lexer": "ipython3",
   "version": "3.7.3"
  }
 },
 "nbformat": 4,
 "nbformat_minor": 2
}
