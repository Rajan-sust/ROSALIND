{
  "nbformat": 4,
  "nbformat_minor": 0,
  "metadata": {
    "colab": {
      "name": "2015331010.ipynb",
      "version": "0.3.2",
      "provenance": [],
      "collapsed_sections": []
    },
    "kernelspec": {
      "name": "python3",
      "display_name": "Python 3"
    }
  },
  "cells": [
    {
      "cell_type": "markdown",
      "metadata": {
        "id": "_0VrbaPc2UKS",
        "colab_type": "text"
      },
      "source": [
        "## Task1"
      ]
    },
    {
      "cell_type": "code",
      "metadata": {
        "id": "MPkYHfmqXkVm",
        "colab_type": "code",
        "colab": {}
      },
      "source": [
        "def skew(seq):\n",
        "  c = g = 0\n",
        "  ls = [0]\n",
        "  for ch in seq:\n",
        "    if ch == 'C':\n",
        "      c += 1\n",
        "    if ch == 'G':\n",
        "      g += 1\n",
        "    ls.append((g-c))\n",
        "  mn = min(ls)\n",
        "  return [idx for idx, val in enumerate(ls) if val == mn]\n",
        "    "
      ],
      "execution_count": 0,
      "outputs": []
    },
    {
      "cell_type": "code",
      "metadata": {
        "id": "DmGAfM243x86",
        "colab_type": "code",
        "outputId": "91e4ff86-fc49-49ff-94c0-21cac0f78914",
        "colab": {
          "base_uri": "https://localhost:8080/",
          "height": 34
        }
      },
      "source": [
        "print(*skew('CCTATCGGTGGATTAGCATGTCCCTGTACGTTTCGCCGCGAACTAGTTCACACGGCTTGATGGCAAATGGTTTTTCCGGCGACCGTAATCGTCCACCGAG'))"
      ],
      "execution_count": 7,
      "outputs": [
        {
          "output_type": "stream",
          "text": [
            "53 97\n"
          ],
          "name": "stdout"
        }
      ]
    },
    {
      "cell_type": "markdown",
      "metadata": {
        "id": "ewTc3n6VX7j7",
        "colab_type": "text"
      },
      "source": [
        "## Task2"
      ]
    },
    {
      "cell_type": "code",
      "metadata": {
        "id": "jSlS38ZLN-4t",
        "colab_type": "code",
        "colab": {}
      },
      "source": [
        "from collections import defaultdict"
      ],
      "execution_count": 0,
      "outputs": []
    },
    {
      "cell_type": "code",
      "metadata": {
        "id": "6osAyO5qOcMn",
        "colab_type": "code",
        "colab": {}
      },
      "source": [
        "def clump_find(seq, k, L, t):\n",
        "  mp = defaultdict(int)\n",
        "  ans = dict()\n",
        "  \n",
        "  for idx in range(L-k+1):\n",
        "    mp[seq[idx:idx+k]] += 1\n",
        "    if mp[seq[idx:idx+k]] >= t:\n",
        "      #print(seq[idx:idx+k])\n",
        "      ans[seq[idx:idx+k]] = True\n",
        "    \n",
        "  start = 0\n",
        "  end = L - k\n",
        "  \n",
        "  while end < len(seq) - k:\n",
        "    mp[seq[idx:idx+k]] -= 1\n",
        "    start += 1\n",
        "    end += 1\n",
        "    mp[seq[end:end+k]] += 1\n",
        "    if mp[seq[end:end+k]] >= t:\n",
        "      #print(seq[end:end+k])\n",
        "      ans[seq[end:end+k]] = True\n",
        "\n",
        "  return [key for key in ans]\n",
        "    \n",
        "  "
      ],
      "execution_count": 0,
      "outputs": []
    },
    {
      "cell_type": "code",
      "metadata": {
        "id": "2qHbP-86OdnG",
        "colab_type": "code",
        "colab": {
          "base_uri": "https://localhost:8080/",
          "height": 34
        },
        "outputId": "4578554f-269a-428d-8814-910de377b4b5"
      },
      "source": [
        "print(*clump_find('CGGACTCGACAGATGTGAAGAAATGTGAAGACTGAGTGAAGAGAAGAGGAAACACGACACGACATTGCGACATAATGTACGAATGTAATGTGCCTATGGC', 5, 75, 4))"
      ],
      "execution_count": 23,
      "outputs": [
        {
          "output_type": "stream",
          "text": [
            "GAAGA CGACA AATGT\n"
          ],
          "name": "stdout"
        }
      ]
    },
    {
      "cell_type": "markdown",
      "metadata": {
        "id": "rlvAD9nda3fw",
        "colab_type": "text"
      },
      "source": [
        "## Task3"
      ]
    },
    {
      "cell_type": "code",
      "metadata": {
        "id": "qjeOl6ljZVzY",
        "colab_type": "code",
        "colab": {}
      },
      "source": [
        "from itertools import product"
      ],
      "execution_count": 0,
      "outputs": []
    },
    {
      "cell_type": "code",
      "metadata": {
        "id": "Uc3CPssGdbel",
        "colab_type": "code",
        "colab": {}
      },
      "source": [
        "def hamming_distance(p, q):\n",
        "  return sum([q[idx] != ch for idx,ch in enumerate(p)])"
      ],
      "execution_count": 0,
      "outputs": []
    },
    {
      "cell_type": "code",
      "metadata": {
        "id": "mBp32Qq8hWKP",
        "colab_type": "code",
        "colab": {}
      },
      "source": [
        "def calculate_score(k, k_mer, dna):\n",
        "  score = 0\n",
        "  for d in dna:\n",
        "    all_substring = [d[idx:idx+k] for idx in range(len(d)-k+1)]\n",
        "    score += min(map(lambda x: hamming_distance(x,k_mer), all_substring))\n",
        "  return (score, k_mer)"
      ],
      "execution_count": 0,
      "outputs": []
    },
    {
      "cell_type": "code",
      "metadata": {
        "id": "wS7Lrf6ydboW",
        "colab_type": "code",
        "colab": {}
      },
      "source": [
        "def median_string_find():\n",
        "  dna = []\n",
        "  with open('input.txt','r') as file:\n",
        "    for line in file:\n",
        "      dna.append(line.strip())\n",
        "  k = int(dna.pop(0))\n",
        "  all_k_mer = [''.join(x) for x in product(['A','C','G','T'],repeat = k)]\n",
        "  ans = ''\n",
        "  score = 1000000\n",
        "  for k_mer in all_k_mer:\n",
        "    x, y = calculate_score(k, k_mer, dna)\n",
        "    #print(x,y)\n",
        "    if score > x:\n",
        "      ans = y\n",
        "      score = x\n",
        "  return ans  "
      ],
      "execution_count": 0,
      "outputs": []
    },
    {
      "cell_type": "code",
      "metadata": {
        "id": "Asgcs8YxeA_W",
        "colab_type": "code",
        "colab": {
          "base_uri": "https://localhost:8080/",
          "height": 34
        },
        "outputId": "3880f67f-1859-4832-f19b-e2f907e5a42e"
      },
      "source": [
        "print(median_string_find())"
      ],
      "execution_count": 52,
      "outputs": [
        {
          "output_type": "stream",
          "text": [
            "ACG\n"
          ],
          "name": "stdout"
        }
      ]
    },
    {
      "cell_type": "markdown",
      "metadata": {
        "id": "hVpti2AekQVt",
        "colab_type": "text"
      },
      "source": [
        "## Task4"
      ]
    },
    {
      "cell_type": "code",
      "metadata": {
        "id": "SVguwj7snbwp",
        "colab_type": "code",
        "colab": {}
      },
      "source": [
        "from functools import reduce"
      ],
      "execution_count": 0,
      "outputs": []
    },
    {
      "cell_type": "code",
      "metadata": {
        "id": "hjMGUPwxebgI",
        "colab_type": "code",
        "colab": {}
      },
      "source": [
        "def profile_most_probable_k_mer():\n",
        "  seq = input()\n",
        "  k = int(input())\n",
        "  profile_matrix = []\n",
        "  mp = {\n",
        "      'A' : 0,\n",
        "      'C' : 1,\n",
        "      'G' : 2,\n",
        "      'T' : 3\n",
        "  }\n",
        "  for _ in range(4):\n",
        "    profile_matrix.append(list(map(float, input().split())))\n",
        "  ans = ''\n",
        "  score = 0\n",
        "  for idx in range(len(seq)-k+1):\n",
        "    s = seq[idx:idx+k]\n",
        "    temp_score = 1.0\n",
        "    \n",
        "    for idx, ch in enumerate(s):\n",
        "      pos = mp[ch]\n",
        "      temp_score *= profile_matrix[pos][idx]\n",
        "    if temp_score > score:\n",
        "      score = temp_score\n",
        "      ans = s\n",
        "  return ans\n",
        "      \n",
        "\n",
        "    "
      ],
      "execution_count": 0,
      "outputs": []
    },
    {
      "cell_type": "code",
      "metadata": {
        "id": "6ik4HXbMovCq",
        "colab_type": "code",
        "colab": {
          "base_uri": "https://localhost:8080/",
          "height": 136
        },
        "outputId": "f4cb376e-dd98-481a-d2d7-7d28add503a6"
      },
      "source": [
        "profile_most_probable_k_mer()"
      ],
      "execution_count": 71,
      "outputs": [
        {
          "output_type": "stream",
          "text": [
            "ACCTGTTTATTGCCTAAGTTCCGAACAAACCCAATATAGCCCGAGGGCCT\n",
            "5\n",
            "0.2 0.2 0.3 0.2 0.3\n",
            "0.4 0.3 0.1 0.5 0.1\n",
            "0.3 0.3 0.5 0.2 0.4\n",
            "0.1 0.2 0.1 0.1 0.2\n"
          ],
          "name": "stdout"
        },
        {
          "output_type": "execute_result",
          "data": {
            "text/plain": [
              "'CCGAG'"
            ]
          },
          "metadata": {
            "tags": []
          },
          "execution_count": 71
        }
      ]
    },
    {
      "cell_type": "markdown",
      "metadata": {
        "id": "_blHN462t6Mi",
        "colab_type": "text"
      },
      "source": [
        "## Task5"
      ]
    },
    {
      "cell_type": "code",
      "metadata": {
        "id": "cEu738WVo_F2",
        "colab_type": "code",
        "colab": {}
      },
      "source": [
        "k = 3\n",
        "t = 5\n",
        "dna = [\n",
        "    'GGCGTTCAGGCA',\n",
        "    'AAGAATCAGTCA',\n",
        "    'CAAGGAGTTCGC',\n",
        "    'CACGTCAATCAC',\n",
        "    'CAATAATATTCG'\n",
        "]"
      ],
      "execution_count": 0,
      "outputs": []
    },
    {
      "cell_type": "code",
      "metadata": {
        "id": "UjhnPiH6vuuf",
        "colab_type": "code",
        "colab": {}
      },
      "source": [
        "def get_most_probable_k_mer(k, seq, profile_matrix):\n",
        "  mp = {\n",
        "      'A' : 0,\n",
        "      'C' : 1,\n",
        "      'G' : 2,\n",
        "      'T' : 3\n",
        "  }\n",
        "  #print(profile_matrix)\n",
        "  ans = ''\n",
        "  score = 0\n",
        "  for idx in range(len(seq)-k+1):\n",
        "    s = seq[idx:idx+k]\n",
        "    temp_score = 1.0\n",
        "    \n",
        "    for idx, ch in enumerate(s):\n",
        "      pos = mp[ch]\n",
        "      temp_score = temp_score * profile_matrix[pos][idx]\n",
        "    if temp_score > score:\n",
        "      score = temp_score\n",
        "      ans = s\n",
        "  return ans\n",
        "  \n",
        "  \n",
        "  "
      ],
      "execution_count": 0,
      "outputs": []
    },
    {
      "cell_type": "code",
      "metadata": {
        "id": "QUDAl4ELsJ8x",
        "colab_type": "code",
        "colab": {}
      },
      "source": [
        "def get_profile_matrix(k, motif_set):\n",
        "  profile = [[],[],[],[]]\n",
        "  for i in range(k):\n",
        "    val = (sum(list(map(lambda x: x[i] == 'A', motif_set))) + 1)/(4 + len(motif_set))\n",
        "    profile[0].append(val)\n",
        "    val = (sum(list(map(lambda x: x[i] == 'C', motif_set))) + 1)/(4 + len(motif_set))\n",
        "    profile[1].append(val)\n",
        "    val = (sum(list(map(lambda x: x[i] == 'G', motif_set))) + 1)/(4 + len(motif_set))\n",
        "    profile[2].append(val)\n",
        "    val = (sum(list(map(lambda x: x[i] == 'T', motif_set))) + 1)/(4 + len(motif_set))\n",
        "    profile[3].append(val)\n",
        "  #endfor\n",
        "  return profile\n",
        "  \n",
        "  "
      ],
      "execution_count": 0,
      "outputs": []
    },
    {
      "cell_type": "code",
      "metadata": {
        "id": "OgEnG9kRw37W",
        "colab_type": "code",
        "colab": {}
      },
      "source": [
        "def find_best_k_mer_and_add_in_temp_motif_set(k, seq, motif_set):\n",
        "  profile_matrix = get_profile_matrix(k, motif_set)\n",
        "  motif_set.append(get_most_probable_k_mer(k, seq,profile_matrix))\n",
        "  "
      ],
      "execution_count": 0,
      "outputs": []
    },
    {
      "cell_type": "code",
      "metadata": {
        "id": "MMSvSHEaBRj3",
        "colab_type": "code",
        "colab": {}
      },
      "source": [
        "from collections import defaultdict\n",
        "import copy"
      ],
      "execution_count": 0,
      "outputs": []
    },
    {
      "cell_type": "code",
      "metadata": {
        "id": "8K5NOFiQ8dRB",
        "colab_type": "code",
        "colab": {}
      },
      "source": [
        "def calculate_motif_set_score(t, k, motif_set):\n",
        "  score = 0\n",
        "  for idx in range(k):\n",
        "    mp = defaultdict(int)\n",
        "    for s in motif_set:\n",
        "      mp[s[idx]] += 1\n",
        "    score += (t - max([val for key,val in mp.items()]))\n",
        "  return score"
      ],
      "execution_count": 0,
      "outputs": []
    },
    {
      "cell_type": "code",
      "metadata": {
        "id": "0B_I59mEw4GB",
        "colab_type": "code",
        "colab": {}
      },
      "source": [
        "def greedy_motif_search():\n",
        "  current_motif_set = [s[0:k] for s in dna]\n",
        "  for idx in range(len(dna[0])-k+1):\n",
        "    k_mer = dna[0][idx:idx+k]\n",
        "    temp_motif_set = [k_mer]\n",
        "    for i in range(1,t):\n",
        "      find_best_k_mer_and_add_in_temp_motif_set(k, dna[i], temp_motif_set)\n",
        "    if calculate_motif_set_score(t,k,current_motif_set) > calculate_motif_set_score(t,k,temp_motif_set):\n",
        "      current_motif_set = copy.copy(temp_motif_set)\n",
        "    #endif\n",
        "    #endfor\n",
        "  #endfor\n",
        "  return current_motif_set\n",
        "    \n",
        "  "
      ],
      "execution_count": 0,
      "outputs": []
    },
    {
      "cell_type": "code",
      "metadata": {
        "id": "N5cAuqhIxM9N",
        "colab_type": "code",
        "colab": {
          "base_uri": "https://localhost:8080/",
          "height": 102
        },
        "outputId": "0c481730-ca66-4de5-a8ee-97a108a9e1db"
      },
      "source": [
        "ls = greedy_motif_search()\n",
        "for l in ls:\n",
        "  print(l)"
      ],
      "execution_count": 146,
      "outputs": [
        {
          "output_type": "stream",
          "text": [
            "TTC\n",
            "ATC\n",
            "TTC\n",
            "ATC\n",
            "TTC\n"
          ],
          "name": "stdout"
        }
      ]
    },
    {
      "cell_type": "code",
      "metadata": {
        "id": "-bj-shvBxWGp",
        "colab_type": "code",
        "colab": {}
      },
      "source": [
        ""
      ],
      "execution_count": 0,
      "outputs": []
    }
  ]
}