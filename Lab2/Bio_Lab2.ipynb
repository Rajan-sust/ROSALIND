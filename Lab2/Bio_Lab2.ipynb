{
  "nbformat": 4,
  "nbformat_minor": 0,
  "metadata": {
    "colab": {
      "name": "Bio-Lab2.ipynb",
      "version": "0.3.2",
      "provenance": [],
      "collapsed_sections": []
    },
    "kernelspec": {
      "name": "python3",
      "display_name": "Python 3"
    }
  },
  "cells": [
    {
      "cell_type": "markdown",
      "metadata": {
        "id": "fu4IGFDg7eFG",
        "colab_type": "text"
      },
      "source": [
        "# Task1"
      ]
    },
    {
      "cell_type": "code",
      "metadata": {
        "id": "bPTx6RHG7lNo",
        "colab_type": "code",
        "colab": {}
      },
      "source": [
        "def rev_complement(seq):\n",
        "  mp = {\n",
        "      'A':'T',\n",
        "      'T':'A',\n",
        "      'C':'G',\n",
        "      'G':'C'\n",
        "  }\n",
        "  return ''.join([mp[ch] for ch in reversed(seq)])"
      ],
      "execution_count": 0,
      "outputs": []
    },
    {
      "cell_type": "code",
      "metadata": {
        "id": "vWLhlIQA8ODl",
        "colab_type": "code",
        "outputId": "68415af6-dfae-40ed-9efe-425577b85127",
        "colab": {
          "base_uri": "https://localhost:8080/",
          "height": 34
        }
      },
      "source": [
        "rev_complement('AAAACCCGGT')"
      ],
      "execution_count": 2,
      "outputs": [
        {
          "output_type": "execute_result",
          "data": {
            "text/plain": [
              "'ACCGGGTTTT'"
            ]
          },
          "metadata": {
            "tags": []
          },
          "execution_count": 2
        }
      ]
    },
    {
      "cell_type": "markdown",
      "metadata": {
        "id": "ZhoVPiP289wh",
        "colab_type": "text"
      },
      "source": [
        "# Task2"
      ]
    },
    {
      "cell_type": "code",
      "metadata": {
        "id": "N5uTCnlm8Wmc",
        "colab_type": "code",
        "colab": {}
      },
      "source": [
        "def hamming_distance(p, q):\n",
        "  return sum([q[idx] != ch for idx,ch in enumerate(p)])"
      ],
      "execution_count": 0,
      "outputs": []
    },
    {
      "cell_type": "code",
      "metadata": {
        "id": "L5CDEmke9Szd",
        "colab_type": "code",
        "outputId": "aed81194-6aa1-4983-fe30-9a0d3c3d38bb",
        "colab": {
          "base_uri": "https://localhost:8080/",
          "height": 34
        }
      },
      "source": [
        "hamming_distance('GGGCCGTTGGT','GGACCGTTGAC')"
      ],
      "execution_count": 4,
      "outputs": [
        {
          "output_type": "execute_result",
          "data": {
            "text/plain": [
              "3"
            ]
          },
          "metadata": {
            "tags": []
          },
          "execution_count": 4
        }
      ]
    },
    {
      "cell_type": "markdown",
      "metadata": {
        "id": "T10HOkmj-buq",
        "colab_type": "text"
      },
      "source": [
        "# Task3"
      ]
    },
    {
      "cell_type": "code",
      "metadata": {
        "id": "eDGuD5Iu9X1J",
        "colab_type": "code",
        "colab": {}
      },
      "source": [
        "def pattern_matching(pattern, text, d):\n",
        "  pos = []\n",
        "  for idx in range(len(text)-len(pattern)+1):\n",
        "    if hamming_distance(text[idx:idx+len(pattern)],pattern) <=d:\n",
        "      pos.append(idx)\n",
        "  return pos\n",
        "    \n",
        "    \n",
        "  "
      ],
      "execution_count": 0,
      "outputs": []
    },
    {
      "cell_type": "code",
      "metadata": {
        "id": "RGkkQndtCHHQ",
        "colab_type": "code",
        "colab": {}
      },
      "source": [
        "position = pattern_matching('ATTCTGGA','CGCCCGAATCCAGAACGCATTCCCATATTTCGGGACCACTGGCCTCCACGGTACGGACGTCAATCAAATGCCTAGCGGCTTGTGGTTTCTCCTACGCTCC',3)"
      ],
      "execution_count": 0,
      "outputs": []
    },
    {
      "cell_type": "code",
      "metadata": {
        "id": "mUBM199BCMN8",
        "colab_type": "code",
        "colab": {
          "base_uri": "https://localhost:8080/",
          "height": 34
        },
        "outputId": "358aa69d-b7f4-479c-e339-5bbdcd08704a"
      },
      "source": [
        "print(*position)"
      ],
      "execution_count": 7,
      "outputs": [
        {
          "output_type": "stream",
          "text": [
            "6 7 26 27 78\n"
          ],
          "name": "stdout"
        }
      ]
    },
    {
      "cell_type": "markdown",
      "metadata": {
        "id": "3frdx2FUJr6o",
        "colab_type": "text"
      },
      "source": [
        "# Task4"
      ]
    },
    {
      "cell_type": "code",
      "metadata": {
        "id": "okxau384GT2J",
        "colab_type": "code",
        "colab": {}
      },
      "source": [
        "from collections import defaultdict\n"
      ],
      "execution_count": 0,
      "outputs": []
    },
    {
      "cell_type": "code",
      "metadata": {
        "id": "Ue3ksYP4cH4R",
        "colab_type": "code",
        "colab": {}
      },
      "source": [
        "def rec(k_mer, pos, l, all_k_mer):\n",
        "  if pos==l:\n",
        "    all_k_mer.append(k_mer)\n",
        "    return\n",
        "  for ch in ['A','C','G','T']:\n",
        "    rec(k_mer+ch, pos+1, l, all_k_mer)"
      ],
      "execution_count": 0,
      "outputs": []
    },
    {
      "cell_type": "code",
      "metadata": {
        "id": "blDSPBkaM4kA",
        "colab_type": "code",
        "colab": {}
      },
      "source": [
        "def most_frequent(text, k, d):\n",
        "  substring = [text[idx:idx+k] for idx in range(len(text)-k+1)]\n",
        "  all_k_mer = []\n",
        "  rec('',0,k, all_k_mer)\n",
        "  \n",
        "  mp = defaultdict(int)\n",
        "  \n",
        "  for s in all_k_mer:\n",
        "    for sub in substring:\n",
        "      if hamming_distance(s,sub) <= d:\n",
        "        mp[s] += 1\n",
        "  mx = max(mp.values())\n",
        "  return [key for key, val in mp.items() if val == mx]\n",
        "  \n",
        "  "
      ],
      "execution_count": 0,
      "outputs": []
    },
    {
      "cell_type": "code",
      "metadata": {
        "id": "IAaiUxXcVo5I",
        "colab_type": "code",
        "colab": {
          "base_uri": "https://localhost:8080/",
          "height": 34
        },
        "outputId": "3b1b6371-76b0-4063-ba05-e1d9fa87b8bd"
      },
      "source": [
        "print(*most_frequent('ACGTTGCATGTCGCATGATGCATGAGAGCT', 4, 1))"
      ],
      "execution_count": 21,
      "outputs": [
        {
          "output_type": "stream",
          "text": [
            "ATGC ATGT GATG\n"
          ],
          "name": "stdout"
        }
      ]
    },
    {
      "cell_type": "markdown",
      "metadata": {
        "id": "Ac0xKHxSwU62",
        "colab_type": "text"
      },
      "source": [
        "# Task5"
      ]
    },
    {
      "cell_type": "code",
      "metadata": {
        "id": "S-hcSJK9wmWj",
        "colab_type": "code",
        "colab": {}
      },
      "source": [
        "def most_frequent_v2(text, k, d):\n",
        "  substring = [text[idx:idx+k] for idx in range(len(text)-k+1)]\n",
        "  all_k_mer = []\n",
        "  rec('',0,k, all_k_mer)\n",
        "  mp = defaultdict(int)\n",
        "  \n",
        "  for s in all_k_mer:\n",
        "    for sub in substring:\n",
        "      if hamming_distance(s,sub) <= d:\n",
        "        mp[s] += 1\n",
        "        \n",
        "  for s in all_k_mer:\n",
        "    for sub in substring:\n",
        "      if hamming_distance(rev_complement(s),sub) <= d:\n",
        "        mp[s] += 1\n",
        "        \n",
        "  mx = max(mp.values())\n",
        "  return [key for key, val in mp.items() if val == mx] "
      ],
      "execution_count": 0,
      "outputs": []
    },
    {
      "cell_type": "code",
      "metadata": {
        "id": "SbGfaHuH0AR1",
        "colab_type": "code",
        "colab": {
          "base_uri": "https://localhost:8080/",
          "height": 34
        },
        "outputId": "d26710fe-d274-49d8-e507-ebd79a52566e"
      },
      "source": [
        "most_frequent_v2('ACGTTGCATGTCGCATGATGCATGAGAGCT',4,1)"
      ],
      "execution_count": 25,
      "outputs": [
        {
          "output_type": "execute_result",
          "data": {
            "text/plain": [
              "['ACAT', 'ATGT']"
            ]
          },
          "metadata": {
            "tags": []
          },
          "execution_count": 25
        }
      ]
    },
    {
      "cell_type": "code",
      "metadata": {
        "id": "2xuhasn10ROn",
        "colab_type": "code",
        "colab": {}
      },
      "source": [
        ""
      ],
      "execution_count": 0,
      "outputs": []
    }
  ]
}