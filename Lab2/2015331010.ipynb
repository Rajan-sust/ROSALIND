{
  "nbformat": 4,
  "nbformat_minor": 0,
  "metadata": {
    "colab": {
      "name": "2015331010.ipynb",
      "version": "0.3.2",
      "provenance": [],
      "collapsed_sections": []
    },
    "kernelspec": {
      "name": "python3",
      "display_name": "Python 3"
    }
  },
  "cells": [
    {
      "cell_type": "markdown",
      "metadata": {
        "id": "Plcq-_VWYS25",
        "colab_type": "text"
      },
      "source": [
        "**Task1**"
      ]
    },
    {
      "cell_type": "code",
      "metadata": {
        "id": "nkp0utL3YWi7",
        "colab_type": "code",
        "colab": {}
      },
      "source": [
        "def rev_complement(seq):\n",
        "  mp = {\n",
        "      'A' : 'T',\n",
        "      'T' : 'A',\n",
        "      'C' : 'G',\n",
        "      'G' : 'C'\n",
        "  }\n",
        "  \n",
        "  complement = ''.join([mp[ch] for ch in seq])\n",
        "  return complement[::-1]"
      ],
      "execution_count": 0,
      "outputs": []
    },
    {
      "cell_type": "code",
      "metadata": {
        "id": "OAlpNB5tZdoA",
        "colab_type": "code",
        "outputId": "24351cff-71f5-4db0-d05e-9f4d3dfc6be7",
        "colab": {
          "base_uri": "https://localhost:8080/",
          "height": 34
        }
      },
      "source": [
        "print(rev_complement('AAAACCCGGT'))"
      ],
      "execution_count": 0,
      "outputs": [
        {
          "output_type": "stream",
          "text": [
            "ACCGGGTTTT\n"
          ],
          "name": "stdout"
        }
      ]
    },
    {
      "cell_type": "markdown",
      "metadata": {
        "id": "-tFDcINdZ2-d",
        "colab_type": "text"
      },
      "source": [
        "**Task2**"
      ]
    },
    {
      "cell_type": "code",
      "metadata": {
        "id": "pzfA3-X8Zz1j",
        "colab_type": "code",
        "colab": {}
      },
      "source": [
        "def hamming_distance(seq1, seq2):\n",
        "  return sum([seq2[idx] != ch for idx,ch in enumerate(seq1)])"
      ],
      "execution_count": 0,
      "outputs": []
    },
    {
      "cell_type": "code",
      "metadata": {
        "id": "4iar9VWXaXqg",
        "colab_type": "code",
        "outputId": "094e9d1d-a1da-4ed4-8868-6277afc61661",
        "colab": {
          "base_uri": "https://localhost:8080/",
          "height": 34
        }
      },
      "source": [
        "hamming_distance('GGGCCGTTGGT','GGACCGTTGAC')"
      ],
      "execution_count": 0,
      "outputs": [
        {
          "output_type": "execute_result",
          "data": {
            "text/plain": [
              "3"
            ]
          },
          "metadata": {
            "tags": []
          },
          "execution_count": 48
        }
      ]
    },
    {
      "cell_type": "markdown",
      "metadata": {
        "id": "8-HlCVe3a8AR",
        "colab_type": "text"
      },
      "source": [
        "**Task3**"
      ]
    },
    {
      "cell_type": "code",
      "metadata": {
        "id": "Z03N19wjarpR",
        "colab_type": "code",
        "colab": {}
      },
      "source": [
        "def find_position(pattern, text, d):\n",
        "  l1 = len(pattern)\n",
        "  l2 = len(text)\n",
        "  return [pos for pos in range(l2-l1+1) if hamming_distance(text[pos:pos+len(pattern)], pattern) <= d]"
      ],
      "execution_count": 0,
      "outputs": []
    },
    {
      "cell_type": "code",
      "metadata": {
        "id": "nyCdqV4acIjR",
        "colab_type": "code",
        "outputId": "d88542b6-28cb-4727-c365-43454ff82a3c",
        "colab": {
          "base_uri": "https://localhost:8080/",
          "height": 34
        }
      },
      "source": [
        "print(*find_position('ATTCTGGA','CGCCCGAATCCAGAACGCATTCCCATATTTCGGGACCACTGGCCTCCACGGTACGGACGTCAATCAAATGCCTAGCGGCTTGTGGTTTCTCCTACGCTCC',3))"
      ],
      "execution_count": 0,
      "outputs": [
        {
          "output_type": "stream",
          "text": [
            "6 7 26 27 78\n"
          ],
          "name": "stdout"
        }
      ]
    },
    {
      "cell_type": "markdown",
      "metadata": {
        "id": "hAe6z2zhemqy",
        "colab_type": "text"
      },
      "source": [
        "**Task4**"
      ]
    },
    {
      "cell_type": "code",
      "metadata": {
        "id": "sirXzDGZcYyy",
        "colab_type": "code",
        "colab": {}
      },
      "source": [
        "from itertools import product\n",
        "from collections import defaultdict"
      ],
      "execution_count": 0,
      "outputs": []
    },
    {
      "cell_type": "code",
      "metadata": {
        "id": "ylLqvpo-eq9H",
        "colab_type": "code",
        "colab": {}
      },
      "source": [
        "def find_frequent(text, k, d):\n",
        "  all_gen = [''.join(x) for x in product(['A','C','G','T'],repeat = k)]\n",
        "  all_sub = [text[pos:pos+k] for pos in range(len(text)-k+1)]\n",
        "  mp = defaultdict(int)\n",
        "  for string in all_gen:\n",
        "    for sub in all_sub:\n",
        "      if hamming_distance(string,sub) <= d:\n",
        "        mp[string] += 1\n",
        "  mx = max(mp.values())\n",
        "  return [key for key,val in mp.items() if val == mx]\n",
        "  \n",
        "  \n",
        "  "
      ],
      "execution_count": 0,
      "outputs": []
    },
    {
      "cell_type": "code",
      "metadata": {
        "id": "qSxBbQxrevnN",
        "colab_type": "code",
        "outputId": "e7ec1713-dd80-4f57-aa4e-3e9b038507ca",
        "colab": {
          "base_uri": "https://localhost:8080/",
          "height": 34
        }
      },
      "source": [
        "print(*find_frequent('ACGTTGCATGTCGCATGATGCATGAGAGCT',4,1))"
      ],
      "execution_count": 0,
      "outputs": [
        {
          "output_type": "stream",
          "text": [
            "ATGC ATGT GATG\n"
          ],
          "name": "stdout"
        }
      ]
    },
    {
      "cell_type": "markdown",
      "metadata": {
        "id": "z5Fc0zjAiCPl",
        "colab_type": "text"
      },
      "source": [
        "**Task5**"
      ]
    },
    {
      "cell_type": "code",
      "metadata": {
        "id": "vU5xSlTMiBaA",
        "colab_type": "code",
        "colab": {}
      },
      "source": [
        "def find_frequent_with_rev(text, k, d):\n",
        "  all_gen = [''.join(x) for x in product(['A','C','G','T'],repeat = k)]\n",
        "  all_sub = [text[pos:pos+k] for pos in range(len(text)-k+1)]\n",
        "  mp = defaultdict(int)\n",
        "  for string in all_gen:\n",
        "    for sub in all_sub:\n",
        "      if hamming_distance(string,sub) <= d:\n",
        "        mp[string] += 1\n",
        "  for string in all_gen:\n",
        "    for sub in all_sub:\n",
        "      if hamming_distance(rev_complement(string),sub) <= d:\n",
        "        mp[string] += 1\n",
        "  mx = max(mp.values())\n",
        "  return [key for key,val in mp.items() if val == mx]\n",
        "  \n",
        "  \n",
        "  "
      ],
      "execution_count": 0,
      "outputs": []
    },
    {
      "cell_type": "code",
      "metadata": {
        "id": "5AUhKgiBgPRQ",
        "colab_type": "code",
        "outputId": "333e18b1-81aa-49d4-ef0d-6a175b700376",
        "colab": {
          "base_uri": "https://localhost:8080/",
          "height": 34
        }
      },
      "source": [
        "print(*find_frequent_with_rev('ACGTTGCATGTCGCATGATGCATGAGAGCT',4,1))"
      ],
      "execution_count": 0,
      "outputs": [
        {
          "output_type": "stream",
          "text": [
            "ACAT ATGT\n"
          ],
          "name": "stdout"
        }
      ]
    },
    {
      "cell_type": "markdown",
      "metadata": {
        "id": "4oaCtpIYjxsY",
        "colab_type": "text"
      },
      "source": [
        "**Task6**"
      ]
    },
    {
      "cell_type": "code",
      "metadata": {
        "id": "jgWqAo8HjZDs",
        "colab_type": "code",
        "colab": {}
      },
      "source": [
        "def pattern_to_number(text):\n",
        "  k = len(text)\n",
        "  all_gen = [''.join(x) for x in product(['A','C','G','T'],repeat = k)]\n",
        "  for idx, string in enumerate(all_gen):\n",
        "    if string == text:\n",
        "      return idx    "
      ],
      "execution_count": 0,
      "outputs": []
    },
    {
      "cell_type": "code",
      "metadata": {
        "id": "PvblYlODk6FB",
        "colab_type": "code",
        "outputId": "c65edd73-f46d-454a-9cd1-ef48a923723d",
        "colab": {
          "base_uri": "https://localhost:8080/",
          "height": 34
        }
      },
      "source": [
        "pattern_to_number('AGT')"
      ],
      "execution_count": 0,
      "outputs": [
        {
          "output_type": "execute_result",
          "data": {
            "text/plain": [
              "11"
            ]
          },
          "metadata": {
            "tags": []
          },
          "execution_count": 57
        }
      ]
    },
    {
      "cell_type": "code",
      "metadata": {
        "id": "kRfv98k1lxNu",
        "colab_type": "code",
        "colab": {}
      },
      "source": [
        "def number_to_pattern(idx, k):\n",
        "  all_gen = [''.join(x) for x in product(['A','C','G','T'],repeat = k)]\n",
        "  return all_gen[idx]\n",
        "  "
      ],
      "execution_count": 0,
      "outputs": []
    },
    {
      "cell_type": "code",
      "metadata": {
        "id": "Wv0OqQMTl_Dz",
        "colab_type": "code",
        "outputId": "9af113dd-b83e-45eb-8e31-0c5ffe4785cb",
        "colab": {
          "base_uri": "https://localhost:8080/",
          "height": 34
        }
      },
      "source": [
        "print(number_to_pattern(45,4))"
      ],
      "execution_count": 0,
      "outputs": [
        {
          "output_type": "stream",
          "text": [
            "AGTC\n"
          ],
          "name": "stdout"
        }
      ]
    }
  ]
}