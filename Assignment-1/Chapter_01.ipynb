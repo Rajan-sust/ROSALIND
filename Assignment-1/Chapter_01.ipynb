{
  "nbformat": 4,
  "nbformat_minor": 0,
  "metadata": {
    "colab": {
      "name": "Chapter_01.ipynb",
      "provenance": [],
      "collapsed_sections": []
    },
    "kernelspec": {
      "name": "python3",
      "display_name": "Python 3"
    }
  },
  "cells": [
    {
      "cell_type": "markdown",
      "metadata": {
        "id": "o55rdTaiTTN1",
        "colab_type": "text"
      },
      "source": [
        "### Compute the Number of Times a Pattern Appears in a Text"
      ]
    },
    {
      "cell_type": "code",
      "metadata": {
        "id": "m7NgidznLone",
        "colab_type": "code",
        "colab": {}
      },
      "source": [
        "def occurance_of_pattern(text, pattern):\n",
        "  text_len , pattern_len = len(text), len(pattern)\n",
        "  return sum(1 for idx in range(text_len - pattern_len + 1) if text[idx: idx+pattern_len] == pattern)"
      ],
      "execution_count": 0,
      "outputs": []
    },
    {
      "cell_type": "code",
      "metadata": {
        "id": "ELG30WdwLoyX",
        "colab_type": "code",
        "outputId": "d8c86e10-0f7f-4963-ec98-cbd4436e7ee9",
        "colab": {
          "base_uri": "https://localhost:8080/",
          "height": 34
        }
      },
      "source": [
        "occurance_of_pattern('GCGCG','GCG')"
      ],
      "execution_count": 0,
      "outputs": [
        {
          "output_type": "execute_result",
          "data": {
            "text/plain": [
              "2"
            ]
          },
          "metadata": {
            "tags": []
          },
          "execution_count": 78
        }
      ]
    },
    {
      "cell_type": "markdown",
      "metadata": {
        "id": "96KNXt9NoeIX",
        "colab_type": "text"
      },
      "source": [
        "### Find the Most Frequent Words in a String"
      ]
    },
    {
      "cell_type": "code",
      "metadata": {
        "id": "VNVbDm8WLo9I",
        "colab_type": "code",
        "colab": {}
      },
      "source": [
        "from collections import defaultdict"
      ],
      "execution_count": 0,
      "outputs": []
    },
    {
      "cell_type": "code",
      "metadata": {
        "id": "iUNjeceRLpIo",
        "colab_type": "code",
        "colab": {}
      },
      "source": [
        "def most_frequent(text, k):\n",
        "  mp = defaultdict(int)\n",
        "  for idx in range(len(text) - k + 1):\n",
        "    mp[text[idx:idx+k]] += 1\n",
        "  #endfor\n",
        "  mx = max(mp.values())\n",
        "  return [key for key, val in mp.items() if val == mx]"
      ],
      "execution_count": 0,
      "outputs": []
    },
    {
      "cell_type": "code",
      "metadata": {
        "id": "uS6IedG7pih_",
        "colab_type": "code",
        "outputId": "a3ff4e01-dabb-4ecf-f2b2-bbc23cb9dcf8",
        "colab": {
          "base_uri": "https://localhost:8080/",
          "height": 34
        }
      },
      "source": [
        "print(*most_frequent('ACGTTGCATGTCGCATGATGCATGAGAGCT', 4))"
      ],
      "execution_count": 0,
      "outputs": [
        {
          "output_type": "stream",
          "text": [
            "GCAT CATG\n"
          ],
          "name": "stdout"
        }
      ]
    },
    {
      "cell_type": "markdown",
      "metadata": {
        "id": "8HOACU0dtZhP",
        "colab_type": "text"
      },
      "source": [
        "### Find the Reverse Complement of a String"
      ]
    },
    {
      "cell_type": "code",
      "metadata": {
        "id": "Y2V_NVzpreUZ",
        "colab_type": "code",
        "colab": {}
      },
      "source": [
        "def rev_complement(seq):\n",
        "  mp = {\n",
        "      'A' : 'T',\n",
        "      'T' : 'A',\n",
        "      'C' : 'G',\n",
        "      'G' : 'C'\n",
        "  }\n",
        "  return ''.join([mp[ch] for ch in seq])[::-1]\n",
        "  "
      ],
      "execution_count": 0,
      "outputs": []
    },
    {
      "cell_type": "code",
      "metadata": {
        "id": "vEdkqGDEu3wY",
        "colab_type": "code",
        "outputId": "3828ac31-2aad-46e0-bb7f-ec32b3bc8216",
        "colab": {
          "base_uri": "https://localhost:8080/",
          "height": 34
        }
      },
      "source": [
        "print(rev_complement('AAAACCCGGT'))"
      ],
      "execution_count": 0,
      "outputs": [
        {
          "output_type": "stream",
          "text": [
            "ACCGGGTTTT\n"
          ],
          "name": "stdout"
        }
      ]
    },
    {
      "cell_type": "markdown",
      "metadata": {
        "id": "3IFXvV9YwT95",
        "colab_type": "text"
      },
      "source": [
        "### Find All Occurrences of a Pattern in a String"
      ]
    },
    {
      "cell_type": "code",
      "metadata": {
        "id": "UyJWnDWNu-Aa",
        "colab_type": "code",
        "colab": {}
      },
      "source": [
        "def find_pos(pattern, text):\n",
        "  k, text_len = len(pattern), len(text)\n",
        "  return [idx for idx in range(text_len-k+1) if text[idx:idx+k] == pattern]"
      ],
      "execution_count": 0,
      "outputs": []
    },
    {
      "cell_type": "code",
      "metadata": {
        "id": "m9duwIL_w-qT",
        "colab_type": "code",
        "outputId": "42a2dd4b-cfc9-4e9c-b86d-bdd089cabdc5",
        "colab": {
          "base_uri": "https://localhost:8080/",
          "height": 34
        }
      },
      "source": [
        "print(*find_pos('ATAT','GATATATGCATATACTT'))"
      ],
      "execution_count": 0,
      "outputs": [
        {
          "output_type": "stream",
          "text": [
            "1 3 9\n"
          ],
          "name": "stdout"
        }
      ]
    },
    {
      "cell_type": "markdown",
      "metadata": {
        "id": "m-o3frC3zS5v",
        "colab_type": "text"
      },
      "source": [
        "### Find Patterns Forming Clumps in a String"
      ]
    },
    {
      "cell_type": "code",
      "metadata": {
        "id": "3qGYRQFsxHCn",
        "colab_type": "code",
        "colab": {}
      },
      "source": [
        "def clump_find(seq, k, L, t):\n",
        "  mp = defaultdict(int)\n",
        "  ans = dict()\n",
        "  \n",
        "  for idx in range(L-k+1):\n",
        "    mp[seq[idx:idx+k]] += 1\n",
        "    if mp[seq[idx:idx+k]] >= t:\n",
        "      #print(seq[idx:idx+k])\n",
        "      ans[seq[idx:idx+k]] = True\n",
        "    \n",
        "  start = 0\n",
        "  end = L - k\n",
        "  \n",
        "  while end < len(seq) - k:\n",
        "    mp[seq[idx:idx+k]] -= 1\n",
        "    start += 1\n",
        "    end += 1\n",
        "    mp[seq[end:end+k]] += 1\n",
        "    if mp[seq[end:end+k]] >= t:\n",
        "      #print(seq[end:end+k])\n",
        "      ans[seq[end:end+k]] = True\n",
        "\n",
        "  return [key for key in ans]"
      ],
      "execution_count": 0,
      "outputs": []
    },
    {
      "cell_type": "code",
      "metadata": {
        "id": "RMGOe8lUzWXq",
        "colab_type": "code",
        "outputId": "2d4dde9c-c35a-430b-a490-bcf96c44742b",
        "colab": {
          "base_uri": "https://localhost:8080/",
          "height": 34
        }
      },
      "source": [
        "print(*clump_find('CGGACTCGACAGATGTGAAGAAATGTGAAGACTGAGTGAAGAGAAGAGGAAACACGACACGACATTGCGACATAATGTACGAATGTAATGTGCCTATGGC', 5, 75, 4))"
      ],
      "execution_count": 0,
      "outputs": [
        {
          "output_type": "stream",
          "text": [
            "GAAGA CGACA AATGT\n"
          ],
          "name": "stdout"
        }
      ]
    },
    {
      "cell_type": "markdown",
      "metadata": {
        "id": "k9u9XoZL65Ar",
        "colab_type": "text"
      },
      "source": [
        "## Find a Position in a Genome Minimizing the Skew"
      ]
    },
    {
      "cell_type": "code",
      "metadata": {
        "id": "wZBCsT2Uzaju",
        "colab_type": "code",
        "colab": {}
      },
      "source": [
        "def skew(seq):\n",
        "  c = g = 0\n",
        "  ls = [0]\n",
        "  for ch in seq:\n",
        "    if ch == 'C':\n",
        "      c += 1\n",
        "    if ch == 'G':\n",
        "      g += 1\n",
        "    ls.append((g-c))\n",
        "  mn = min(ls)\n",
        "  return [idx for idx, val in enumerate(ls) if val == mn]"
      ],
      "execution_count": 0,
      "outputs": []
    },
    {
      "cell_type": "code",
      "metadata": {
        "id": "av6qTxVI6_oW",
        "colab_type": "code",
        "outputId": "1da9649c-aaf3-4cf3-8652-fa42044eea2b",
        "colab": {
          "base_uri": "https://localhost:8080/",
          "height": 34
        }
      },
      "source": [
        "print(*skew('CCTATCGGTGGATTAGCATGTCCCTGTACGTTTCGCCGCGAACTAGTTCACACGGCTTGATGGCAAATGGTTTTTCCGGCGACCGTAATCGTCCACCGAG'))"
      ],
      "execution_count": 0,
      "outputs": [
        {
          "output_type": "stream",
          "text": [
            "53 97\n"
          ],
          "name": "stdout"
        }
      ]
    },
    {
      "cell_type": "markdown",
      "metadata": {
        "id": "98kuRwGL7XQE",
        "colab_type": "text"
      },
      "source": [
        "### Compute the Hamming Distance Between Two Strings"
      ]
    },
    {
      "cell_type": "code",
      "metadata": {
        "id": "WHPhmXY07Bs3",
        "colab_type": "code",
        "colab": {}
      },
      "source": [
        "def hamming_distance(seq1, seq2):\n",
        "  return sum(1 for idx,ch in enumerate(seq1) if seq2[idx] != ch)"
      ],
      "execution_count": 0,
      "outputs": []
    },
    {
      "cell_type": "code",
      "metadata": {
        "id": "RXWofgAg7jx9",
        "colab_type": "code",
        "outputId": "45582297-5fbb-4f2d-b79e-4681561a39a0",
        "colab": {
          "base_uri": "https://localhost:8080/",
          "height": 34
        }
      },
      "source": [
        "print(hamming_distance('GGGCCGTTGGT','GGACCGTTGAC'))"
      ],
      "execution_count": 0,
      "outputs": [
        {
          "output_type": "stream",
          "text": [
            "3\n"
          ],
          "name": "stdout"
        }
      ]
    },
    {
      "cell_type": "markdown",
      "metadata": {
        "id": "3kLh8z_q8hhz",
        "colab_type": "text"
      },
      "source": [
        "### Find All Approximate Occurrences of a Pattern in a String"
      ]
    },
    {
      "cell_type": "code",
      "metadata": {
        "id": "xOmQpe6t7sNt",
        "colab_type": "code",
        "colab": {}
      },
      "source": [
        "def find_position_allowing_hamming(pattern, text, d):\n",
        "  l1, l2 = len(pattern), len(text)\n",
        "  return [pos for pos in range(l2-l1+1) if hamming_distance(text[pos:pos+len(pattern)], pattern) <= d]"
      ],
      "execution_count": 0,
      "outputs": []
    },
    {
      "cell_type": "code",
      "metadata": {
        "id": "jO1CNQg-8rMv",
        "colab_type": "code",
        "outputId": "88323629-9219-4fec-8efd-865bb04ba0f0",
        "colab": {
          "base_uri": "https://localhost:8080/",
          "height": 34
        }
      },
      "source": [
        "print(*find_position_allowing_hamming('ATTCTGGA','CGCCCGAATCCAGAACGCATTCCCATATTTCGGGACCACTGGCCTCCACGGTACGGACGTCAATCAAATGCCTAGCGGCTTGTGGTTTCTCCTACGCTCC', 3))"
      ],
      "execution_count": 0,
      "outputs": [
        {
          "output_type": "stream",
          "text": [
            "6 7 26 27 78\n"
          ],
          "name": "stdout"
        }
      ]
    },
    {
      "cell_type": "markdown",
      "metadata": {
        "id": "q-k9wwI_9lWW",
        "colab_type": "text"
      },
      "source": [
        "### Find the Most Frequent Words with Mismatches in a String"
      ]
    },
    {
      "cell_type": "code",
      "metadata": {
        "id": "nrbDTAqX838o",
        "colab_type": "code",
        "colab": {}
      },
      "source": [
        "from itertools import product\n"
      ],
      "execution_count": 0,
      "outputs": []
    },
    {
      "cell_type": "code",
      "metadata": {
        "id": "Of-KLZbP9qBR",
        "colab_type": "code",
        "colab": {}
      },
      "source": [
        "\n",
        "def find_frequent(text, k, d):\n",
        "  all_gen = [''.join(x) for x in product(['A','C','G','T'],repeat = k)]\n",
        "  all_sub = [text[pos:pos+k] for pos in range(len(text)-k+1)]\n",
        "  mp = defaultdict(int)\n",
        "  for string in all_gen:\n",
        "    for sub in all_sub:\n",
        "      if hamming_distance(string,sub) <= d:\n",
        "        mp[string] += 1\n",
        "  mx = max(mp.values())\n",
        "  return [key for key,val in mp.items() if val == mx]"
      ],
      "execution_count": 0,
      "outputs": []
    },
    {
      "cell_type": "code",
      "metadata": {
        "id": "iMAd6xuA9teW",
        "colab_type": "code",
        "outputId": "c1701950-4c20-4231-c9e7-78609c4ca224",
        "colab": {
          "base_uri": "https://localhost:8080/",
          "height": 34
        }
      },
      "source": [
        "print(*find_frequent('ACGTTGCATGTCGCATGATGCATGAGAGCT',4,1))"
      ],
      "execution_count": 0,
      "outputs": [
        {
          "output_type": "stream",
          "text": [
            "ATGC ATGT GATG\n"
          ],
          "name": "stdout"
        }
      ]
    },
    {
      "cell_type": "markdown",
      "metadata": {
        "id": "HO124LIt96e9",
        "colab_type": "text"
      },
      "source": [
        "### Find Frequent Words with Mismatches and Reverse Complements"
      ]
    },
    {
      "cell_type": "code",
      "metadata": {
        "id": "njrEw2Gk9xwT",
        "colab_type": "code",
        "colab": {}
      },
      "source": [
        "def find_frequent_with_rev(text, k, d):\n",
        "  all_gen = [''.join(x) for x in product(['A','C','G','T'],repeat = k)]\n",
        "  all_sub = [text[pos:pos+k] for pos in range(len(text)-k+1)]\n",
        "  mp = defaultdict(int)\n",
        "  for string in all_gen:\n",
        "    for sub in all_sub:\n",
        "      if hamming_distance(string,sub) <= d:\n",
        "        mp[string] += 1\n",
        "  for string in all_gen:\n",
        "    for sub in all_sub:\n",
        "      if hamming_distance(rev_complement(string),sub) <= d:\n",
        "        mp[string] += 1\n",
        "  mx = max(mp.values())\n",
        "  return [key for key,val in mp.items() if val == mx]"
      ],
      "execution_count": 0,
      "outputs": []
    },
    {
      "cell_type": "code",
      "metadata": {
        "id": "d8YXkMCt9_5v",
        "colab_type": "code",
        "outputId": "51ee74bb-c697-421b-e60c-c2fb10b6cf88",
        "colab": {
          "base_uri": "https://localhost:8080/",
          "height": 34
        }
      },
      "source": [
        "print(*find_frequent_with_rev('ACGTTGCATGTCGCATGATGCATGAGAGCT',4,1))"
      ],
      "execution_count": 0,
      "outputs": [
        {
          "output_type": "stream",
          "text": [
            "ACAT ATGT\n"
          ],
          "name": "stdout"
        }
      ]
    },
    {
      "cell_type": "markdown",
      "metadata": {
        "id": "2QgSxpCokJJ7",
        "colab_type": "text"
      },
      "source": [
        "### Generate the Frequency Array of a String"
      ]
    },
    {
      "cell_type": "code",
      "metadata": {
        "id": "FVCN-Y2T-Cvr",
        "colab_type": "code",
        "colab": {}
      },
      "source": [
        "def find_frequency_array(text, k):\n",
        "  k_mers = [''.join(x) for x in product('ACGT', repeat=k)]\n",
        "  mp = defaultdict(int)\n",
        "  for idx in range(len(text)-k+1):\n",
        "    mp[text[idx:idx+k]] += 1\n",
        "  return [mp[x] if x in mp else 0 for x in k_mers]"
      ],
      "execution_count": 0,
      "outputs": []
    },
    {
      "cell_type": "code",
      "metadata": {
        "id": "ckIuJO60jJzz",
        "colab_type": "code",
        "outputId": "0dd70865-a4fd-478c-b489-dbf1cac26874",
        "colab": {
          "base_uri": "https://localhost:8080/",
          "height": 34
        }
      },
      "source": [
        "print(*find_frequency_array('ACGCGGCTCTGAAA',2))"
      ],
      "execution_count": 0,
      "outputs": [
        {
          "output_type": "stream",
          "text": [
            "2 1 0 0 0 0 2 2 1 2 1 0 0 1 1 0\n"
          ],
          "name": "stdout"
        }
      ]
    },
    {
      "cell_type": "markdown",
      "metadata": {
        "id": "mmUaTeHpqnWf",
        "colab_type": "text"
      },
      "source": [
        "### Implement PatternToNumber"
      ]
    },
    {
      "cell_type": "code",
      "metadata": {
        "id": "nKIc6JI6qr31",
        "colab_type": "code",
        "colab": {}
      },
      "source": [
        "def p2num(text):\n",
        "  k = len(text)\n",
        "  mp = {'A':0,'C':1,'G':2,'T':3}\n",
        "  ans = 0\n",
        "  for ch in text:\n",
        "    ans = ans * 4 + mp[ch]\n",
        "  #endfor\n",
        "  return ans"
      ],
      "execution_count": 0,
      "outputs": []
    },
    {
      "cell_type": "code",
      "metadata": {
        "id": "cOMwTirOrsSN",
        "colab_type": "code",
        "outputId": "61077c4e-5429-44cc-921c-051f3cd10940",
        "colab": {
          "base_uri": "https://localhost:8080/",
          "height": 34
        }
      },
      "source": [
        "p2num('AGT')"
      ],
      "execution_count": 0,
      "outputs": [
        {
          "output_type": "execute_result",
          "data": {
            "text/plain": [
              "11"
            ]
          },
          "metadata": {
            "tags": []
          },
          "execution_count": 104
        }
      ]
    },
    {
      "cell_type": "markdown",
      "metadata": {
        "id": "tjviuPrbsomI",
        "colab_type": "text"
      },
      "source": [
        "### Implement NumberToPattern"
      ]
    },
    {
      "cell_type": "code",
      "metadata": {
        "id": "NoZazFeVrw-v",
        "colab_type": "code",
        "colab": {}
      },
      "source": [
        "def num2p(val,k):\n",
        "  text = ''\n",
        "  mp = {0:'A', 1:'C', 2:'G', 3:'T'}\n",
        "  for _ in range(k):\n",
        "    text += mp[val%4]\n",
        "    val //= 4\n",
        "  #endfor\n",
        "  return text[::-1]"
      ],
      "execution_count": 0,
      "outputs": []
    },
    {
      "cell_type": "code",
      "metadata": {
        "id": "JCSXhT7gv1jj",
        "colab_type": "code",
        "outputId": "cc47ff35-ef4a-4f6a-9e6d-4cfa1f6cd913",
        "colab": {
          "base_uri": "https://localhost:8080/",
          "height": 34
        }
      },
      "source": [
        "print(num2p(45,4))"
      ],
      "execution_count": 0,
      "outputs": [
        {
          "output_type": "stream",
          "text": [
            "AGTC\n"
          ],
          "name": "stdout"
        }
      ]
    },
    {
      "cell_type": "code",
      "metadata": {
        "id": "NFgCMhEwv4eC",
        "colab_type": "code",
        "colab": {}
      },
      "source": [
        ""
      ],
      "execution_count": 0,
      "outputs": []
    }
  ]
}